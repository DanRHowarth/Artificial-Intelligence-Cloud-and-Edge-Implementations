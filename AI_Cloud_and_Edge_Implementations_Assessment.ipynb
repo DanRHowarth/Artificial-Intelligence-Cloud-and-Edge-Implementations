{
  "nbformat": 4,
  "nbformat_minor": 0,
  "metadata": {
    "colab": {
      "name": "AI - Cloud and Edge Implementations - Assessment.ipynb",
      "provenance": [],
      "collapsed_sections": [
        "qNlWqhMfAzB3",
        "fIR0re_TtW2q",
        "c-SIcpO2005T",
        "8otpnDUhEIC3",
        "JT_Afm3SEBZ6",
        "LO4ILIm1EMz6",
        "BYhn8oi03b85",
        "PK9z_-563vis",
        "_YJ0RiXV4K7h",
        "wx5LDoRaFPQd",
        "6Ftxsjjy8i00"
      ],
      "include_colab_link": true
    },
    "kernelspec": {
      "name": "python3",
      "display_name": "Python 3"
    }
  },
  "cells": [
    {
      "cell_type": "markdown",
      "metadata": {
        "id": "view-in-github",
        "colab_type": "text"
      },
      "source": [
        "<a href=\"https://colab.research.google.com/github/DanRHowarth/Artificial-Intelligence-Cloud-and-Edge-Implementations/blob/master/AI_Cloud_and_Edge_Implementations_Assessment.ipynb\" target=\"_parent\"><img src=\"https://colab.research.google.com/assets/colab-badge.svg\" alt=\"Open In Colab\"/></a>"
      ]
    },
    {
      "cell_type": "markdown",
      "metadata": {
        "id": "JSlt5nbftWzk",
        "colab_type": "text"
      },
      "source": [
        "# AI - Cloud and Edge Implementations - Assessment"
      ]
    },
    {
      "cell_type": "markdown",
      "metadata": {
        "id": "qNlWqhMfAzB3",
        "colab_type": "text"
      },
      "source": [
        "## 1. Introduction"
      ]
    },
    {
      "cell_type": "markdown",
      "metadata": {
        "id": "fIR0re_TtW2q",
        "colab_type": "text"
      },
      "source": [
        "* Prior to taking this assessment, you should have completed the guided tutorials.\n",
        "* To assess what you have learned, this notebook will take you through an end-to-end machine learning challenge and ask you to both implement code and to research and summarise key aspects of the machine learning process.\n",
        "\n",
        "* Some points:\n",
        "  * I will provide references to the course textbook so that you can refer to this as part of your research. You are free to use other resources, but please let me know what they are in your answers.\n",
        "  * I will not be providing code. Feel free to use, or reuse some of the code provided already. For learning purposes, I would recommend that you do not copy and paste, and that you comment each line so that you know what is going on in the code.\n",
        "\n",
        "* What we will assess:\n",
        "  * I have provided assessment criteria:\n",
        "\n",
        "![alt text](https://github.com/DanRHowarth/Artificial-Intelligence-Cloud-and-Edge-Implementations/blob/master/Screenshot%202019-12-12%20at%2021.16.45.png?raw=true)\n",
        "\n",
        "  * We will cover your ability to understand and implement:\n",
        "    * Exploratory Data Analysis\n",
        "    * Understand which algorithms to use for a given problem\n",
        "    * Select and implement appropriate metrics for assessing an algorithm\n",
        "    * Model Selection and Evaluation, including when to use techniques such as cross validation \n",
        "    * An overall understanding of the different parts of machine learning and how it all fits together.\n",
        "    * Optionally, More advanced techniques such as model pipelines, and ensemble methods and the chance to explore an algorithm in depth.\n",
        "\n",
        "* We need to start with a dataset...\n",
        "  * we will use the `wine` datatset that is part of the `scikit-learn` dataset class. This makes it easy for us to load in and to focus on skills. It is also used in the course textbook so provides opportunities for you to bring across techniques used in the book.\n",
        "  * If you want to use your own, or a different dataset, please do (let me know though). The important thing is that we are testing skills and techniques, so please just answer the questions below as normal. "
      ]
    },
    {
      "cell_type": "code",
      "metadata": {
        "id": "mqA3Pw-OtPpz",
        "colab_type": "code",
        "colab": {
          "base_uri": "https://localhost:8080/",
          "height": 34
        },
        "outputId": "f9e7e2c7-5235-45e2-f6a8-bb22389f0ff9"
      },
      "source": [
        "# get dataset\n",
        "from sklearn.datasets import load_wine\n",
        "\n",
        "# we load the dataset and save it as the variable data\n",
        "data = load_wine()\n",
        "\n",
        "# if we want to know what sort of detail is provided with this dataset, we can call .keys()\n",
        "data.keys()"
      ],
      "execution_count": 2,
      "outputs": [
        {
          "output_type": "execute_result",
          "data": {
            "text/plain": [
              "dict_keys(['data', 'target', 'target_names', 'DESCR', 'feature_names'])"
            ]
          },
          "metadata": {
            "tags": []
          },
          "execution_count": 2
        }
      ]
    },
    {
      "cell_type": "code",
      "metadata": {
        "id": "4RiiIckH0vKL",
        "colab_type": "code",
        "colab": {}
      },
      "source": [
        "# more code here \n"
      ],
      "execution_count": 0,
      "outputs": []
    },
    {
      "cell_type": "markdown",
      "metadata": {
        "id": "c-SIcpO2005T",
        "colab_type": "text"
      },
      "source": [
        "## 2. Exploratory Data Analysis"
      ]
    },
    {
      "cell_type": "markdown",
      "metadata": {
        "id": "Kvu_od1X057t",
        "colab_type": "text"
      },
      "source": [
        "*  I summarised some of the main parts of EDA here:\n",
        "\n",
        "![alt text](https://github.com/DanRHowarth/Artificial-Intelligence-Cloud-and-Edge-Implementations/blob/master/Screenshot%202019-11-11%20at%2022.02.10.png?raw=true)\n",
        "\n",
        "* You can also find more detail in the Raschka book, Chapter 4, p.109, and in the notebooks already provided. \n",
        "\n",
        "**2.1: Question**\n",
        "* Can you set out what the key aspects of EDA are? What should it cover and what techniques can you use?"
      ]
    },
    {
      "cell_type": "markdown",
      "metadata": {
        "id": "4A5HzuDH1xCx",
        "colab_type": "text"
      },
      "source": [
        "**2.1: Answer**\n",
        "* Answer here"
      ]
    },
    {
      "cell_type": "markdown",
      "metadata": {
        "id": "4D3iz3p41xWY",
        "colab_type": "text"
      },
      "source": [
        "**2.2: Question**\n",
        "* Using the dataset and the techniques discussed, implement EDA below. Discuss your findings and how it influences and impacts on your modelling choices."
      ]
    },
    {
      "cell_type": "code",
      "metadata": {
        "id": "rtoSABdC1vel",
        "colab_type": "code",
        "colab": {}
      },
      "source": [
        "# code here\n"
      ],
      "execution_count": 0,
      "outputs": []
    },
    {
      "cell_type": "markdown",
      "metadata": {
        "id": "8otpnDUhEIC3",
        "colab_type": "text"
      },
      "source": [
        "## 3. Algorithm Selection"
      ]
    },
    {
      "cell_type": "markdown",
      "metadata": {
        "id": "5ifAcuWV2Q_q",
        "colab_type": "text"
      },
      "source": [
        "* Sections 3 - 5 of this notebook will refer to readings and ask questions that require written answers. Code implementation of these answers is in Section 6. The reason for doing it this way is that the techiques are very much intertwined, so splitting up the code implementations felt unnatural.\n",
        "* A suggested way of working therefore is to go through the readings and answer questions below, while aslo implementing code under Section 6. That way you can learn while implementing and testing out code. \n",
        "\n",
        "* For section 3, refer to Raschka, Chapters 2, p.19, and 3, p.53, as well as the provided `scikit learn` tutorial.\n",
        "\n",
        "**3.1: Question**\n",
        "* Given our problem, what are the sort of algorithms we can use? What are their benefits and limitations?"
      ]
    },
    {
      "cell_type": "markdown",
      "metadata": {
        "id": "mWxAH4mc2gH9",
        "colab_type": "text"
      },
      "source": [
        "**3.1: Answer**\n",
        "* Answer here"
      ]
    },
    {
      "cell_type": "markdown",
      "metadata": {
        "id": "JT_Afm3SEBZ6",
        "colab_type": "text"
      },
      "source": [
        "## 4. Model Evaluation and Selection"
      ]
    },
    {
      "cell_type": "markdown",
      "metadata": {
        "id": "hwOBksBO20_-",
        "colab_type": "text"
      },
      "source": [
        "* For section 4, refer to Raschka, Chapter 6, p.191, as well as the provided `scikit learn` tutorial.\n",
        "\n",
        "**4.1: Question**\n",
        "* What are the differences betweed model evaluation and selection?\n",
        "* What are the different techniques available to us? When would we use them?"
      ]
    },
    {
      "cell_type": "markdown",
      "metadata": {
        "id": "Qp9p_Vy13M3L",
        "colab_type": "text"
      },
      "source": [
        "**4.1: Answer**\n",
        "* Answer here"
      ]
    },
    {
      "cell_type": "markdown",
      "metadata": {
        "id": "LO4ILIm1EMz6",
        "colab_type": "text"
      },
      "source": [
        "## 5. Model Metrics"
      ]
    },
    {
      "cell_type": "markdown",
      "metadata": {
        "id": "BYhn8oi03b85",
        "colab_type": "text"
      },
      "source": [
        "* For section 5, refer to Raschka, Chapter 6, p.211, as well as the provided `scikit learn` tutorial.\n",
        "\n",
        "**5.1: Question**\n",
        "* What are the most appropriate metrics for the models you have chosen and why?"
      ]
    },
    {
      "cell_type": "markdown",
      "metadata": {
        "id": "CQVmXxAI3mPY",
        "colab_type": "text"
      },
      "source": [
        "**5.1: Answer**\n",
        "* Answer here\n"
      ]
    },
    {
      "cell_type": "markdown",
      "metadata": {
        "id": "PK9z_-563vis",
        "colab_type": "text"
      },
      "source": [
        "##6. Implementation of Sections 3 - 5\n",
        "* Use the cells below to implement a model evaluation and selection strategy on the algorithms you have chosen against the metrics you believe are most appropriate"
      ]
    },
    {
      "cell_type": "code",
      "metadata": {
        "id": "zY5X5WGj2uaX",
        "colab_type": "code",
        "colab": {}
      },
      "source": [
        "# code here\n"
      ],
      "execution_count": 0,
      "outputs": []
    },
    {
      "cell_type": "code",
      "metadata": {
        "id": "o1ZAsswQ4KOt",
        "colab_type": "code",
        "colab": {}
      },
      "source": [
        "# code here\n"
      ],
      "execution_count": 0,
      "outputs": []
    },
    {
      "cell_type": "code",
      "metadata": {
        "id": "QLE41AyS4Kaa",
        "colab_type": "code",
        "colab": {}
      },
      "source": [
        "# use as many cells as required \n"
      ],
      "execution_count": 0,
      "outputs": []
    },
    {
      "cell_type": "markdown",
      "metadata": {
        "id": "_YJ0RiXV4K7h",
        "colab_type": "text"
      },
      "source": [
        "## 7. Overall Understanding of ML"
      ]
    },
    {
      "cell_type": "markdown",
      "metadata": {
        "id": "nk6sipch4Rel",
        "colab_type": "text"
      },
      "source": [
        "* In the class, we covered a framework for understanding how the pieces of ML fit together. \n",
        "\n",
        "![alt text](https://github.com/DanRHowarth/Artificial-Intelligence-Cloud-and-Edge-Implementations/blob/master/Screenshot%202019-11-11%20at%2022.01.44.png?raw=true)\n",
        "\n",
        "* Do you agree with this framework? What is missing? Can you pull your own together? "
      ]
    },
    {
      "cell_type": "markdown",
      "metadata": {
        "id": "E1LvNoLf59X_",
        "colab_type": "text"
      },
      "source": [
        "**7.1: Answer**\n",
        "* Provide your thoughts on the ML framework and develop your own if you prefer to."
      ]
    },
    {
      "cell_type": "markdown",
      "metadata": {
        "id": "wx5LDoRaFPQd",
        "colab_type": "text"
      },
      "source": [
        "## 8. Optional Activities "
      ]
    },
    {
      "cell_type": "markdown",
      "metadata": {
        "id": "7usub4IV6waJ",
        "colab_type": "text"
      },
      "source": [
        "* For those of you who are already familiar with machine learning, or who just want to do some more learning, I would suggest looking at these topics:\n",
        "  * explore one of the algorithms you used above in more depth. This could mean looking at the implementation of the algorithm on `scikit-learn` in more detail, or it could mean implementing it by hand. There are plenty of tutorials online, but please get in touch if you do not know where to start. \n",
        "  * explore the model pipelines features of `scikit-learn` in more detail. We covered this in the `scikit-learn` tutorial but there are more aspects to this that you could explore. Please see Rascka, Chapter 6, p. 191.\n",
        "  * explore ensemble models, or other advanced models, in more details. Again, we covered this in the `scikit-learn` tutorial but there are more aspects to this that you could explore. Please see Rascka, Chapter 7, p. 223.\n",
        "* Note that these exercises don't form part of your assessment, but are optional extras if you wish to learn more within the course environment and support network. "
      ]
    },
    {
      "cell_type": "code",
      "metadata": {
        "id": "Lgf5X8Em8gHm",
        "colab_type": "code",
        "colab": {}
      },
      "source": [
        "# code here\n"
      ],
      "execution_count": 0,
      "outputs": []
    },
    {
      "cell_type": "markdown",
      "metadata": {
        "id": "6Ftxsjjy8i00",
        "colab_type": "text"
      },
      "source": [
        "## 9. Next Steps"
      ]
    },
    {
      "cell_type": "markdown",
      "metadata": {
        "id": "PUB2bO5W8k1a",
        "colab_type": "text"
      },
      "source": [
        "* Once you have finished the notebook, please submit it by **28th February 2020** to me on slack, with your name saved on the filename.\n",
        "* Get in touch via slack if you have any questions. I'm here to help, and to learn from you all too!\n",
        "\n",
        "Thanks,\n",
        "\n",
        "Dan"
      ]
    },
    {
      "cell_type": "code",
      "metadata": {
        "id": "YNJEatWFFI_O",
        "colab_type": "code",
        "colab": {}
      },
      "source": [
        ""
      ],
      "execution_count": 0,
      "outputs": []
    }
  ]
}