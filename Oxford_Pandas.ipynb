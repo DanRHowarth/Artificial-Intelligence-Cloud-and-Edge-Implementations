{
  "nbformat": 4,
  "nbformat_minor": 0,
  "metadata": {
    "colab": {
      "name": "Oxford_Pandas.ipynb",
      "provenance": [],
      "collapsed_sections": [],
      "include_colab_link": true
    },
    "kernelspec": {
      "name": "python3",
      "display_name": "Python 3"
    }
  },
  "cells": [
    {
      "cell_type": "markdown",
      "metadata": {
        "id": "view-in-github",
        "colab_type": "text"
      },
      "source": [
        "<a href=\"https://colab.research.google.com/github/DanRHowarth/Artificial-Intelligence-Cloud-and-Edge-Implementations/blob/master/Oxford_Pandas.ipynb\" target=\"_parent\"><img src=\"https://colab.research.google.com/assets/colab-badge.svg\" alt=\"Open In Colab\"/></a>"
      ]
    },
    {
      "cell_type": "markdown",
      "metadata": {
        "id": "FXBP6c8oQ5Y5",
        "colab_type": "text"
      },
      "source": [
        "# Pandas Tutorial "
      ]
    },
    {
      "cell_type": "markdown",
      "metadata": {
        "id": "rX5DcEpgHO01",
        "colab_type": "text"
      },
      "source": [
        "* This notebook covers example code for pandas. It includes the following topics:\n",
        "    * Code related to loading data and accessing parts of the data:\n",
        "      * Series\n",
        "      * Dataframes\n",
        "      * Accessing attributes of Dataframes\n",
        "      * Accessing and Filtering Values\n",
        "    * Code related to preprocessing the data:\n",
        "      * Dealing with missing values\n",
        "      * Dropping columns \n",
        "      * Dealing with categorical data \n",
        "    * Code related to Exploratory Data Analysis: \n",
        "      * Summary statistics\n",
        "      * Groupby\n",
        "    * Code related to feature engineering:\n",
        "      * Creating new columns \n",
        "      * Use apply to create new features \n",
        "\n",
        "\n",
        "#### Exercises\n",
        " * Each section will have an exercise to help reinforce your learning. We suggest you:\n",
        "   * Write out each line of code by hand (rather than copy and paste it from the relevant example) - this will improve your understanding of code syntax\n",
        "   * Write out, above each line of code, an explanation as to what the code, using a comment `#` - this will improve your understanding of how the code works\n"
      ]
    },
    {
      "cell_type": "markdown",
      "metadata": {
        "id": "VVogtYc4TVy2",
        "colab_type": "text"
      },
      "source": [
        "## 1. CODE RELATED TO LOADING DATA AND ACCESSING DATA"
      ]
    },
    {
      "cell_type": "markdown",
      "metadata": {
        "id": "pAkd4VlMTUKQ",
        "colab_type": "text"
      },
      "source": [
        "### 1.1 SERIES\n",
        "* A Series is a one-dimensional array-like object containing a sequence of values (of similar types to NumPy types) and an associated array of data labels, called its index. It can be thought of as an ordered dict, with labels matched to values in the order they are passed."
      ]
    },
    {
      "cell_type": "code",
      "metadata": {
        "id": "lZ9zexK7TUf9",
        "colab_type": "code",
        "colab": {}
      },
      "source": [
        "# we start with our import statements - these are convention for pandas and numpy libraries\n",
        "import numpy as np\n",
        "import pandas as pd"
      ],
      "execution_count": 0,
      "outputs": []
    },
    {
      "cell_type": "code",
      "metadata": {
        "id": "pkap2Y-5TUoH",
        "colab_type": "code",
        "colab": {}
      },
      "source": [
        "# creating a series by passing a list of values, and a custom index label. \n",
        "# Note that the labelled index reference for each row and it can have duplicate values\n",
        "a = pd.Series([1,2,3,np.nan,5,6], index=['A','B','C','D','E','F'])\n",
        "\n",
        "print (\"Pandas Series from values list and index list:\")\n",
        "print(a)"
      ],
      "execution_count": 0,
      "outputs": []
    },
    {
      "cell_type": "code",
      "metadata": {
        "id": "5PCOj8d3TUrd",
        "colab_type": "code",
        "colab": {}
      },
      "source": [
        "# The Series constructor can convert a dictonary as well, using the keys of the dictionary as its index\n",
        "sample_dict = {'A':1,'B':2,'C':3,'D':np.nan,'E':5,'F':6}\n",
        "sample_dict\n",
        "\n",
        "b = pd.Series(sample_dict)\n",
        "print (\"Pandas series from a dictionary\")\n",
        "print(b)"
      ],
      "execution_count": 0,
      "outputs": []
    },
    {
      "cell_type": "code",
      "metadata": {
        "id": "AfbnpdgZTUuw",
        "colab_type": "code",
        "colab": {}
      },
      "source": [
        "# we can create a series by passing in other functions\n",
        "series1 = pd.Series(np.arange(-10,10,2))\n",
        "\n",
        "# here the series is created with assigned index in numerical order\n",
        "series1"
      ],
      "execution_count": 0,
      "outputs": []
    },
    {
      "cell_type": "code",
      "metadata": {
        "id": "B2czAONTTUyG",
        "colab_type": "code",
        "colab": {}
      },
      "source": [
        "# we can pass in a list like this, and define the datatype \n",
        "series_list = pd.Series(list('1234'))#,dtype=int)\n",
        "series_list"
      ],
      "execution_count": 0,
      "outputs": []
    },
    {
      "cell_type": "code",
      "metadata": {
        "id": "3gLjuTP1TU6V",
        "colab_type": "code",
        "colab": {}
      },
      "source": [
        "# and change the dtype like this \n",
        "series_list = series_list.astype(str)\n",
        "\n",
        "# we can just call the values of a series (note no the index values are not displayed)\n",
        "series_list.values"
      ],
      "execution_count": 0,
      "outputs": []
    },
    {
      "cell_type": "code",
      "metadata": {
        "id": "8qNfIR48ZWCX",
        "colab_type": "code",
        "colab": {}
      },
      "source": [
        "# we can create a series using timeseries information\n",
        "time_eg = pd.Series(index=pd.date_range('20180601',periods=8,freq='M'))\n",
        "time_eg"
      ],
      "execution_count": 0,
      "outputs": []
    },
    {
      "cell_type": "code",
      "metadata": {
        "id": "JcnZcP6aZo1z",
        "colab_type": "code",
        "colab": {}
      },
      "source": [
        "# we can pass in our own index values as the Series is created\n",
        "series3 = pd.Series(np.arange(0,5),index=['One','Two','Three','Four','Five'])\n",
        "series3"
      ],
      "execution_count": 0,
      "outputs": []
    },
    {
      "cell_type": "code",
      "metadata": {
        "id": "aTRIvGa-bpW1",
        "colab_type": "code",
        "colab": {}
      },
      "source": [
        "# or we can do it later\n",
        "# create a new series \n",
        "series2 = pd.Series(['Five','Four','Three','Two','One'])\n",
        "series2"
      ],
      "execution_count": 0,
      "outputs": []
    },
    {
      "cell_type": "code",
      "metadata": {
        "id": "9pydUQvubpZo",
        "colab_type": "code",
        "colab": {}
      },
      "source": [
        "# add the index\n",
        "series2.index=['One','Two','Three','Four','Five']\n",
        "series2"
      ],
      "execution_count": 0,
      "outputs": []
    },
    {
      "cell_type": "code",
      "metadata": {
        "id": "ousjYMRObpcW",
        "colab_type": "code",
        "colab": {}
      },
      "source": [
        "# we can name our Series\n",
        "series1.name = 'series1'\n",
        "series1"
      ],
      "execution_count": 0,
      "outputs": []
    },
    {
      "cell_type": "code",
      "metadata": {
        "id": "0ap_zyMkbpfJ",
        "colab_type": "code",
        "colab": {}
      },
      "source": [
        "# we can set the name of the index too\n",
        "series1.index.name = 'digits'\n",
        "series1"
      ],
      "execution_count": 0,
      "outputs": []
    },
    {
      "cell_type": "code",
      "metadata": {
        "id": "f0wD9Wazbph3",
        "colab_type": "code",
        "colab": {}
      },
      "source": [
        "# index characteristics (if index is a range)\n",
        "series1.index"
      ],
      "execution_count": 0,
      "outputs": []
    },
    {
      "cell_type": "code",
      "metadata": {
        "id": "55oznN8Ebpks",
        "colab_type": "code",
        "colab": {}
      },
      "source": [
        "# and if its an object \n",
        "series2.index"
      ],
      "execution_count": 0,
      "outputs": []
    },
    {
      "cell_type": "code",
      "metadata": {
        "id": "rMeTmL6qbpnd",
        "colab_type": "code",
        "colab": {}
      },
      "source": [
        "# and values\n",
        "series1.values"
      ],
      "execution_count": 0,
      "outputs": []
    },
    {
      "cell_type": "code",
      "metadata": {
        "id": "QhhHElttbpqT",
        "colab_type": "code",
        "colab": {}
      },
      "source": [
        "# we can add further properties or methods to the properties\n",
        "series1.index.dtype"
      ],
      "execution_count": 0,
      "outputs": []
    },
    {
      "cell_type": "code",
      "metadata": {
        "id": "SN77KptRZo4b",
        "colab_type": "code",
        "colab": {}
      },
      "source": [
        "# values or indexes can be converted to a list, e.g.\n",
        "list_eg = series2.index.tolist()\n",
        "list_eg"
      ],
      "execution_count": 0,
      "outputs": []
    },
    {
      "cell_type": "code",
      "metadata": {
        "id": "HPr6O0xncMEG",
        "colab_type": "code",
        "colab": {}
      },
      "source": [
        "# check dtype\n",
        "series1.dtype"
      ],
      "execution_count": 0,
      "outputs": []
    },
    {
      "cell_type": "code",
      "metadata": {
        "id": "eirPXLmxcMHF",
        "colab_type": "code",
        "colab": {}
      },
      "source": [
        "# we can access value of series like this (see Dataframes section below for more detail)\n",
        "# brings up the value at index position \n",
        "series2[1]"
      ],
      "execution_count": 0,
      "outputs": []
    },
    {
      "cell_type": "code",
      "metadata": {
        "id": "xstd3vPDcMLH",
        "colab_type": "code",
        "colab": {}
      },
      "source": [
        "# as does this\n",
        "series2.iloc[3]"
      ],
      "execution_count": 0,
      "outputs": []
    },
    {
      "cell_type": "code",
      "metadata": {
        "id": "avDQj44_cMOQ",
        "colab_type": "code",
        "colab": {}
      },
      "source": [
        "# brings up the value at index name \n",
        "series2['Four']"
      ],
      "execution_count": 0,
      "outputs": []
    },
    {
      "cell_type": "code",
      "metadata": {
        "id": "5_uRZxeWcMRi",
        "colab_type": "code",
        "colab": {}
      },
      "source": [
        "# as does this\n",
        "series2.loc['One']"
      ],
      "execution_count": 0,
      "outputs": []
    },
    {
      "cell_type": "code",
      "metadata": {
        "id": "f5TJmMkicMUs",
        "colab_type": "code",
        "colab": {}
      },
      "source": [
        "# and we can replace values inplace\n",
        "series2['Four']= 2\n",
        "series2"
      ],
      "execution_count": 0,
      "outputs": []
    },
    {
      "cell_type": "markdown",
      "metadata": {
        "id": "TDrIjliycxek",
        "colab_type": "text"
      },
      "source": [
        "#### EXERCISE 1.1: CREATING A SERIES\n",
        "* Create a Series using one of the methods above \n",
        "* Edit some of its attributes, again using some of the methods above\n",
        "\n"
      ]
    },
    {
      "cell_type": "code",
      "metadata": {
        "id": "gCHz9SXacMX7",
        "colab_type": "code",
        "colab": {}
      },
      "source": [
        "## EXERCISE CODE HERE\n",
        "\n"
      ],
      "execution_count": 0,
      "outputs": []
    },
    {
      "cell_type": "markdown",
      "metadata": {
        "id": "8BqZmF_EUCLB",
        "colab_type": "text"
      },
      "source": [
        "### 1.2 DATAFRAMES\n",
        "* A DataFrame represents a rectangular table of data and contains an ordered collection of columns, each of which can be a different value type (numeric, string, boolean, etc.). \n",
        "* The DataFrame has both a row and column index; it can be thought of as a dict of Series all sharing the same index."
      ]
    },
    {
      "cell_type": "code",
      "metadata": {
        "id": "z8T87L-OU1br",
        "colab_type": "code",
        "colab": {}
      },
      "source": [
        "## create our own dataframe\n",
        "data = {'Gender': ['F', 'M', 'M'],\n",
        "        'Emp_ID': ['E01', 'E02', 'E03'],\n",
        "        'Age': [25, 27, 29]}\n",
        "\n",
        "# We want the order the columns, so lets specify in columns parameter\n",
        "df = pd.DataFrame(data, columns=['Emp_ID','Gender', 'Age'])\n",
        "df"
      ],
      "execution_count": 0,
      "outputs": []
    },
    {
      "cell_type": "code",
      "metadata": {
        "id": "vJvRXvOUd40P",
        "colab_type": "code",
        "colab": {}
      },
      "source": [
        "# select a column of the dataframe\n",
        "df['Age']"
      ],
      "execution_count": 0,
      "outputs": []
    },
    {
      "cell_type": "code",
      "metadata": {
        "id": "ml8gZeSXd45i",
        "colab_type": "code",
        "colab": {}
      },
      "source": [
        "# this is actually a series and we can apply the functionality learned above to it\n",
        "type(df['Age'])"
      ],
      "execution_count": 0,
      "outputs": []
    },
    {
      "cell_type": "code",
      "metadata": {
        "id": "xcriJRe-d49K",
        "colab_type": "code",
        "colab": {}
      },
      "source": [
        "# note that this is a view and not a copy of the data \n",
        "age = df['Age']\n",
        "\n",
        "# replace a value in the series \n",
        "age[0] = 23\n",
        "age"
      ],
      "execution_count": 0,
      "outputs": []
    },
    {
      "cell_type": "code",
      "metadata": {
        "id": "uErcHiicd5Cy",
        "colab_type": "code",
        "colab": {}
      },
      "source": [
        "# and it changes the original value\n",
        "df"
      ],
      "execution_count": 0,
      "outputs": []
    },
    {
      "cell_type": "code",
      "metadata": {
        "id": "6h9_12ZCU1hI",
        "colab_type": "code",
        "colab": {}
      },
      "source": [
        "# a common way to load dataframes is by the read_[file format] methods\n",
        "# this loads a csv file of a kaggle competition dataset\n",
        "kaggle = pd.read_csv('https://raw.githubusercontent.com/DanRHowarth/DSfIOT_MeetUps/master/train.csv')"
      ],
      "execution_count": 0,
      "outputs": []
    },
    {
      "cell_type": "code",
      "metadata": {
        "id": "vBeUrTXZU1qI",
        "colab_type": "code",
        "colab": {}
      },
      "source": [
        "# we can check the dataframe has loaded and look at a subsection of it\n",
        "kaggle.head()"
      ],
      "execution_count": 0,
      "outputs": []
    },
    {
      "cell_type": "code",
      "metadata": {
        "id": "N6Q7HpBnU1zq",
        "colab_type": "code",
        "colab": {}
      },
      "source": [
        "# another method is to load a dataframe and point the parameters of the load\n",
        "# method to data and column values. \n",
        "\n",
        "# here we are loading in data from the scikit learn library\n",
        "from sklearn.datasets import load_breast_cancer\n",
        "data = load_breast_cancer()\n",
        "\n",
        "# load dataframe\n",
        "df_eg = pd.DataFrame(data.data, columns = data.feature_names)"
      ],
      "execution_count": 0,
      "outputs": []
    },
    {
      "cell_type": "markdown",
      "metadata": {
        "id": "wTc-wxQzkqVu",
        "colab_type": "text"
      },
      "source": [
        "#### EXERCISE 1.2\n",
        "* Return the head of the `df_eg `dataframe\n",
        "* Look at its bottom rows using .tail() "
      ]
    },
    {
      "cell_type": "code",
      "metadata": {
        "id": "Mif8jOJIkqqU",
        "colab_type": "code",
        "colab": {}
      },
      "source": [
        "# EXERCISE CODE GOES HERE\n",
        "\n"
      ],
      "execution_count": 0,
      "outputs": []
    },
    {
      "cell_type": "markdown",
      "metadata": {
        "id": "zHE2nZikXpFk",
        "colab_type": "text"
      },
      "source": [
        "### 1.3 ACCESSING ATTRIBUTES OF DATAFRAMES\n",
        "* We can access a lot of information once our data has been loaded as a dataframe\n",
        "* Most of the common attributes are covered below\n",
        "\n",
        "\n",
        "---\n",
        "\n",
        "**A NOTE ON INDEXES**\n",
        "* pandas’s Index objects are responsible for holding the axis labels and other metadata\n",
        "* pandas will assign an index if not explicitly called\n",
        "* there is a lot of functionality for indexes (not covered here) that can be explored in the documentation"
      ]
    },
    {
      "cell_type": "code",
      "metadata": {
        "id": "aQ0QEuo7Q_pE",
        "colab_type": "code",
        "colab": {}
      },
      "source": [
        "# line numpy, pandas has a shape method \n",
        "print ('The number of features in the data set is: '),kaggle.shape[1]\n",
        "print ('The number of datapoints in the data set is: '),kaggle.shape[0]"
      ],
      "execution_count": 0,
      "outputs": []
    },
    {
      "cell_type": "code",
      "metadata": {
        "id": "GJHAc5lPW9Pw",
        "colab_type": "code",
        "colab": {}
      },
      "source": [
        "# we can get the datatypes of the columns, which can be helpful to know for preprocessing purposes \n",
        "# here we select a subset of the 81 columns \n",
        "kaggle.dtypes[0:10]"
      ],
      "execution_count": 0,
      "outputs": []
    },
    {
      "cell_type": "code",
      "metadata": {
        "id": "1kt4RSICYcG_",
        "colab_type": "code",
        "colab": {}
      },
      "source": [
        "# we can get a view of the column names\n",
        "print(\"Column Names:\" , df_eg.columns)"
      ],
      "execution_count": 0,
      "outputs": []
    },
    {
      "cell_type": "code",
      "metadata": {
        "id": "i3X9cj-2n-OX",
        "colab_type": "code",
        "colab": {}
      },
      "source": [
        "# GET INDEX DETAIL\n",
        "# here our index is just the row numbers so it returns what our value range is \n",
        "print(\"DataFrame Index: \", kaggle.index)"
      ],
      "execution_count": 0,
      "outputs": []
    },
    {
      "cell_type": "code",
      "metadata": {
        "id": "ZaXZ5z_gn-X7",
        "colab_type": "code",
        "colab": {}
      },
      "source": [
        "# we can access a specific column's values (and also see below for more on this)\n",
        "kaggle['MSZoning'].values"
      ],
      "execution_count": 0,
      "outputs": []
    },
    {
      "cell_type": "code",
      "metadata": {
        "id": "tPrxTEoJn-e7",
        "colab_type": "code",
        "colab": {}
      },
      "source": [
        "# returns the unique values\n",
        "kaggle['MSZoning'].unique()"
      ],
      "execution_count": 0,
      "outputs": []
    },
    {
      "cell_type": "code",
      "metadata": {
        "id": "wxue0n_Pn-j4",
        "colab_type": "code",
        "colab": {}
      },
      "source": [
        "# sort our dataframe by certain col values\n",
        "kaggle.sort_values(by=['SaleCondition','YrSold'])[0:10] # this doesn't reorder the columns"
      ],
      "execution_count": 0,
      "outputs": []
    },
    {
      "cell_type": "markdown",
      "metadata": {
        "id": "xp4PdvLJY61C",
        "colab_type": "text"
      },
      "source": [
        "###  1.4 ACCESSING AND FILTERING VALUES "
      ]
    },
    {
      "cell_type": "code",
      "metadata": {
        "id": "9rKUpuyqRDdC",
        "colab_type": "code",
        "colab": {}
      },
      "source": [
        "# selection/view by column name\n",
        "df_eg['mean smoothness'][0:10]"
      ],
      "execution_count": 0,
      "outputs": []
    },
    {
      "cell_type": "code",
      "metadata": {
        "id": "HdDiQwGeRRKD",
        "colab_type": "code",
        "colab": {}
      },
      "source": [
        "# selection by row numbers\n",
        "kaggle[0:3]"
      ],
      "execution_count": 0,
      "outputs": []
    },
    {
      "cell_type": "markdown",
      "metadata": {
        "id": "dzb957zIfrTV",
        "colab_type": "text"
      },
      "source": [
        "#### .loc and .iloc\n",
        "* You can use either the `.loc` (index labels) or `.iloc` (index integer) to select certain rows. We explore their uses below.\n",
        "* If in doubt, use `.iloc` as it is less ambiguous"
      ]
    },
    {
      "cell_type": "code",
      "metadata": {
        "id": "iwy6uwvFfWit",
        "colab_type": "code",
        "colab": {}
      },
      "source": [
        "# selection by label index\n",
        "kaggle.loc[0:2]"
      ],
      "execution_count": 0,
      "outputs": []
    },
    {
      "cell_type": "code",
      "metadata": {
        "id": "Gk4i-7nffXDU",
        "colab_type": "code",
        "colab": {}
      },
      "source": [
        "# Selection by poisition\n",
        "kaggle.iloc[0:2]"
      ],
      "execution_count": 0,
      "outputs": []
    },
    {
      "cell_type": "markdown",
      "metadata": {
        "id": "NZIbiRD9qxDG",
        "colab_type": "text"
      },
      "source": [
        "* Here, both methods work similarily. If our index had a numerical value that we had passed in tahhat did not match its index position (for example '2' was the fifth index value), then our code might encounter some problems. In this case, it is better to use `.iloc` and refer to the index position.\n",
        "* Below has some further examples of usage"
      ]
    },
    {
      "cell_type": "code",
      "metadata": {
        "id": "xLjhem8bfXVV",
        "colab_type": "code",
        "colab": {}
      },
      "source": [
        "# selection by index of specific lable names - we can't use iloc here\n",
        "print(kaggle.loc[0:3,['YrSold','ScreenPorch']])"
      ],
      "execution_count": 0,
      "outputs": []
    },
    {
      "cell_type": "code",
      "metadata": {
        "id": "_nMXchFolAh5",
        "colab_type": "code",
        "colab": {}
      },
      "source": [
        "# Selection by row and column between given rows as range\n",
        "kaggle.iloc[0:2,0:2]"
      ],
      "execution_count": 0,
      "outputs": []
    },
    {
      "cell_type": "code",
      "metadata": {
        "id": "XMYi7liSlLKA",
        "colab_type": "code",
        "colab": {}
      },
      "source": [
        "# selection by row and column position between given specific row numbers\n",
        "kaggle.iloc[[1,2,4],[0,2]]"
      ],
      "execution_count": 0,
      "outputs": []
    },
    {
      "cell_type": "code",
      "metadata": {
        "id": "WNoxUSSylzGl",
        "colab_type": "code",
        "colab": {}
      },
      "source": [
        "# Select element at index 1, 1\n",
        "print(kaggle.iloc[1,1])"
      ],
      "execution_count": 0,
      "outputs": []
    },
    {
      "cell_type": "code",
      "metadata": {
        "id": "xBr56I_UlzOt",
        "colab_type": "code",
        "colab": {}
      },
      "source": [
        "#  select column by position\n",
        "print(kaggle.iloc[:, 2])"
      ],
      "execution_count": 0,
      "outputs": []
    },
    {
      "cell_type": "code",
      "metadata": {
        "id": "8XGqEQfssWNO",
        "colab_type": "code",
        "colab": {}
      },
      "source": [
        "# Filter dataframe based on a value condition on one column\n",
        "kaggle[kaggle['LotArea'] > 30000]"
      ],
      "execution_count": 0,
      "outputs": []
    },
    {
      "cell_type": "code",
      "metadata": {
        "id": "elQi0FqDsWQJ",
        "colab_type": "code",
        "colab": {}
      },
      "source": [
        "# filter based on multiple conditions on multiple columns using AND operator\n",
        "kaggle[(kaggle['LotArea']>20000) & (kaggle['YrSold']>2008)] # AND operator"
      ],
      "execution_count": 0,
      "outputs": []
    },
    {
      "cell_type": "markdown",
      "metadata": {
        "id": "rl1n0NOTri8b",
        "colab_type": "text"
      },
      "source": [
        "#### EXERCISE 1.4: ACCESSING AND FILTERING VALUES\n",
        "* Using one of the dataframes we have loaded in, practice filtering the data by:\n",
        "  * .loc\n",
        "  * .iloc\n",
        "  * value condition "
      ]
    },
    {
      "cell_type": "code",
      "metadata": {
        "id": "irzKiOtyrlDi",
        "colab_type": "code",
        "colab": {}
      },
      "source": [
        "## EXERCISE CODE HERE\n",
        "\n"
      ],
      "execution_count": 0,
      "outputs": []
    },
    {
      "cell_type": "markdown",
      "metadata": {
        "id": "3sN-B0U2WmYf",
        "colab_type": "text"
      },
      "source": [
        "## 2. CODE RELATED TO PREPROCESSING THE DATA\n",
        "* Dealing with missing values\n",
        "* Dropping columns \n",
        "* Dealing with categorical data \n",
        "* Changing the datatype of columns"
      ]
    },
    {
      "cell_type": "markdown",
      "metadata": {
        "id": "adWj2PbwWmii",
        "colab_type": "text"
      },
      "source": [
        "### 2.1 DEALING WITH MISSING VALUES"
      ]
    },
    {
      "cell_type": "code",
      "metadata": {
        "id": "OzXHM6UFmy6T",
        "colab_type": "code",
        "colab": {}
      },
      "source": [
        "# understand what values are missing - here we sum the null values for each column \n",
        "# isnull returns a boolean, which we sum\n",
        "kaggle.isnull().sum() "
      ],
      "execution_count": 0,
      "outputs": []
    },
    {
      "cell_type": "code",
      "metadata": {
        "id": "7uCWiQ_O2oRC",
        "colab_type": "code",
        "colab": {}
      },
      "source": [
        "# percentage of entries per column type \n",
        "print('Percentage of Null Values per column/feature:')\n",
        "np.around((kaggle.isnull().sum() / len(kaggle)*100), decimals=1)"
      ],
      "execution_count": 0,
      "outputs": []
    },
    {
      "cell_type": "code",
      "metadata": {
        "id": "1fmPKjhI1h9K",
        "colab_type": "code",
        "colab": {}
      },
      "source": [
        "# we can drop all the rows that NaNs appear on\n",
        "len(kaggle['Fence'].dropna())"
      ],
      "execution_count": 0,
      "outputs": []
    },
    {
      "cell_type": "markdown",
      "metadata": {
        "id": "MJuP95US355X",
        "colab_type": "text"
      },
      "source": [
        "#### EXERCISE 2.1: DEALING WITH MISSING DATA\n",
        "* There are a range of ways to deal with missing values, including `.fillna()`, fills a NaN witha specified value.\n",
        "* This specified value an be a data value or a method that fills in the data from surrounding data.\n",
        "* Look at the `.fillna()` documentation and select a method to use\n",
        "* Select a column from above, and apply the method to that column\n"
      ]
    },
    {
      "cell_type": "code",
      "metadata": {
        "id": "2-hT6Dhc1iAF",
        "colab_type": "code",
        "colab": {}
      },
      "source": [
        "## EXERCISE CODE HERE\n",
        "\n"
      ],
      "execution_count": 0,
      "outputs": []
    },
    {
      "cell_type": "markdown",
      "metadata": {
        "id": "PRz-WWs2W5sc",
        "colab_type": "text"
      },
      "source": [
        "### 2.2 DROPPING COLUMNS"
      ]
    },
    {
      "cell_type": "code",
      "metadata": {
        "id": "GDjV_JyGW8kN",
        "colab_type": "code",
        "colab": {}
      },
      "source": [
        "# you will want to drop your target column from a data set to train a machine learning algorithm\n",
        "# here we firs drop the column\n",
        "X = kaggle.drop(['SalePrice'],axis=1)"
      ],
      "execution_count": 0,
      "outputs": []
    },
    {
      "cell_type": "code",
      "metadata": {
        "id": "0GTli86xW8uh",
        "colab_type": "code",
        "colab": {}
      },
      "source": [
        "# and set it as our target variable\n",
        "# we use X and y as typical names when passing in data to be trained\n",
        "y = kaggle['SalePrice']"
      ],
      "execution_count": 0,
      "outputs": []
    },
    {
      "cell_type": "code",
      "metadata": {
        "id": "_01doxcO6jmH",
        "colab_type": "code",
        "colab": {}
      },
      "source": [
        "print(X.shape)\n",
        "print(y.shape)"
      ],
      "execution_count": 0,
      "outputs": []
    },
    {
      "cell_type": "markdown",
      "metadata": {
        "id": "AgZnzDZeW8-5",
        "colab_type": "text"
      },
      "source": [
        "### 2.3 DEALING WITH CATEGORICAL DATA\n",
        "* `pandas` has functionality to convert values within a dataframe to 0s and 1s\n",
        "* This is required to convert categorical today to something that can be fed into a machine learning algorithm \n",
        "* `sci-kit learn` has other ways of doing this, which will be covered in the sci-kit learn notebook"
      ]
    },
    {
      "cell_type": "code",
      "metadata": {
        "id": "_-uLM1HEXAk8",
        "colab_type": "code",
        "colab": {}
      },
      "source": [
        "# let identify a column that has categorical data\n",
        "qualitative = [f for f in kaggle.columns if kaggle.dtypes[f] == 'object']\n",
        "qualitative"
      ],
      "execution_count": 0,
      "outputs": []
    },
    {
      "cell_type": "code",
      "metadata": {
        "id": "qWe1guAkXAnw",
        "colab_type": "code",
        "colab": {}
      },
      "source": [
        "# selecting one of the columns, we can see it has four values\n",
        "kaggle['Fence'].unique()"
      ],
      "execution_count": 0,
      "outputs": []
    },
    {
      "cell_type": "markdown",
      "metadata": {
        "id": "9eJlBXZynOqd",
        "colab_type": "text"
      },
      "source": [
        "### 2.4 CHANGING THE DATATYPE OF COLUMNS"
      ]
    },
    {
      "cell_type": "code",
      "metadata": {
        "id": "rInfXu2VnUYh",
        "colab_type": "code",
        "colab": {}
      },
      "source": [
        "# here, we use get_dummies to conver these to either a 0 or 1\n",
        "dummies = pd.get_dummies(kaggle['Fence'], prefix='dummy')\n",
        "dummies[0:20]"
      ],
      "execution_count": 0,
      "outputs": []
    },
    {
      "cell_type": "code",
      "metadata": {
        "id": "k2l_UjSdnUMa",
        "colab_type": "code",
        "colab": {}
      },
      "source": [
        "# and we can join the data back to the original dataframe, or a subset of it\n",
        "df_with_dummy = kaggle[['Fence']].join(dummies)\n",
        "df_with_dummy[0:20]"
      ],
      "execution_count": 0,
      "outputs": []
    },
    {
      "cell_type": "markdown",
      "metadata": {
        "id": "kBZD5C2hWOip",
        "colab_type": "text"
      },
      "source": [
        "## 3. CODE RELATED TO EXPLORATORY DATA ANALYSIS\n",
        "* Summary Statistics  \n",
        "* Groupby"
      ]
    },
    {
      "cell_type": "markdown",
      "metadata": {
        "id": "Sr-WlnBDRSwR",
        "colab_type": "text"
      },
      "source": [
        "### 3.1 SUMMARY STATISTICS\n"
      ]
    },
    {
      "cell_type": "code",
      "metadata": {
        "id": "Kc5tfBTyRjB2",
        "colab_type": "code",
        "colab": {}
      },
      "source": [
        "# describe gives us a range of summary statistics for each of the numerical columns\n",
        "df_eg.describe()"
      ],
      "execution_count": 0,
      "outputs": []
    },
    {
      "cell_type": "code",
      "metadata": {
        "id": "4dJi_dfbR_v9",
        "colab_type": "code",
        "colab": {}
      },
      "source": [
        "# covariance: It returns the co-variance between suitable columns\n",
        "df_eg.cov()"
      ],
      "execution_count": 0,
      "outputs": []
    },
    {
      "cell_type": "code",
      "metadata": {
        "id": "HxPHuPL1dQWD",
        "colab_type": "code",
        "colab": {}
      },
      "source": [
        "# correlation: It returns the correlation between suitable columns.\n",
        "df_eg.corr()"
      ],
      "execution_count": 0,
      "outputs": []
    },
    {
      "cell_type": "code",
      "metadata": {
        "id": "85TK78VdddvX",
        "colab_type": "code",
        "colab": {}
      },
      "source": [
        "# we can convert this to a heatmap (more on this in the Data Visualisation notebook)\n",
        "# use the seaborn visualisation library \n",
        "import matplotlib.pyplot as plt\n",
        "import seaborn as sns\n",
        "\n",
        "#get the correlation\n",
        "corr = df_eg.corr()\n",
        "\n",
        "# return the heatmap\n",
        "plt.figure(figsize=(10,10))\n",
        "sns.heatmap(corr, \n",
        "            xticklabels=corr.columns.values,\n",
        "            yticklabels=corr.columns.values)"
      ],
      "execution_count": 0,
      "outputs": []
    },
    {
      "cell_type": "markdown",
      "metadata": {
        "id": "avKblCFZtCxR",
        "colab_type": "text"
      },
      "source": [
        "### 3.2 GROUPBY \n",
        "\n",
        "  * `pandas` provides a flexible `groupby` interface, enabling you to slice, dice, and summarize datasets in a natural way. This is often an important part of data analysis and is explained in some detail below.\n"
      ]
    },
    {
      "cell_type": "markdown",
      "metadata": {
        "id": "aTTCIbdb5WA6",
        "colab_type": "text"
      },
      "source": [
        "\n",
        "  \n",
        "  * `split-apply-combine` is used for describing group operations. It breaks down as:\n",
        "    * Split a pandas object into pieces using one or more keys (in the form of functions, arrays, or DataFrame column names)\n",
        "    * Calculate group summary statistics, like count, mean, or standard deviation, or a user-defined function\n",
        "    * Apply within-group transformations or other manipulations, like normalization, linear regression, rank, or subset selection\n",
        "  \n",
        "* In the first stage of the process, data contained in a pandas object, whether a Series, DataFrame, or otherwise, is split into groups based on one or more keys that you provide. The splitting is performed on a particular axis of an object. For example, a DataFrame can be grouped on its rows (axis=0) or its columns (axis=1). \n",
        "* Once this is done, a function is applied to each group, producing a new value. Finally, the results of all those function applications are combined into a result object. *Go back and look at this again to ensure you understand it, after the examples. We will reinforce this process in the examples below.*\n",
        "\n",
        "\n",
        "  * We can perform quite complex group operations by utilizing any function that accepts a `pandas` object or `NumPy` array."
      ]
    },
    {
      "cell_type": "markdown",
      "metadata": {
        "id": "G4ixpDRyxt76",
        "colab_type": "text"
      },
      "source": [
        "**(Data) - Split**\n",
        "* We first need a key to split the data on. This determines how we will shape the data. (We also need the data, it might not be the dataframe, but a subset of it or a series). A key can be any of the following:\n",
        "    * A list or array of values that is the same length as the axis being grouped \n",
        "    * A value indicating a column name in a DataFrame\n",
        "    * A dict or Series giving a correspondence between the values on the axis being grouped and the group names\n",
        "    * A function to be invoked on the axis index or the individual labels in the index "
      ]
    },
    {
      "cell_type": "markdown",
      "metadata": {
        "id": "7dCtoJJH7S8k",
        "colab_type": "text"
      },
      "source": [
        "*Example 3.2.1: (Data) - Split - Apply - Combine Step by Step*"
      ]
    },
    {
      "cell_type": "code",
      "metadata": {
        "id": "eV48XU5cqxJj",
        "colab_type": "code",
        "colab": {}
      },
      "source": [
        "# let's get our data and split it by a key step by step\n",
        "group = kaggle['SalePrice']\n",
        "\n",
        "# we can see this just returns a pandas series\n",
        "type(group)"
      ],
      "execution_count": 0,
      "outputs": []
    },
    {
      "cell_type": "code",
      "metadata": {
        "id": "z2iJBXS1zB75",
        "colab_type": "code",
        "colab": {}
      },
      "source": [
        "# now we apply the split, using our key - this will order the data \n",
        "grouped = group.groupby(kaggle['OverallQual'])\n",
        "\n",
        "# running this now returns the groupby object - we don't actually get a result until we apply a function and combine it \n",
        "grouped"
      ],
      "execution_count": 0,
      "outputs": []
    },
    {
      "cell_type": "markdown",
      "metadata": {
        "id": "g5wA8Ydy1fg1",
        "colab_type": "text"
      },
      "source": [
        "  **'Gotchas'**\n",
        "  * Pay close attention to the syntax we use in `Groupby` as it can seem fiddly at first and lead to frustration. \n",
        "    * We use a pair of braces `[]` to contain our arguments, for both selecting the data and the key. \n",
        "    * Note that in setting the `Groupby` function by specifying our key, we specify the dataframe where the key comes from, even if this is the same dataframe the data is drawn from. \n",
        "     * This is because we can actually use values not associated with the original data as a key to group our data by. Therefore the Groupby object makes no assumption about where the key comes from and we have to explicitly tell it. \n",
        "\n",
        "\n",
        "\n",
        "---\n",
        "\n",
        "\n",
        "  **Exercise**\n",
        "\n",
        "  * Go back to the cell where we get our data and split the cell. Add an additional pair of braces to the first line of code like this...:\n",
        "    * `group = kaggle[['SalePrice']]`\n",
        "  * ...and run the cell again, noting what type of pandas object is returned.\n",
        "\n",
        "\n",
        "\n",
        "\n"
      ]
    },
    {
      "cell_type": "markdown",
      "metadata": {
        "id": "LDIyUE2U47Nt",
        "colab_type": "text"
      },
      "source": [
        "**Combine**\n",
        "* Now we combine the data with some sort of aggregating function, which will be applied and returned to complete the groupby operation"
      ]
    },
    {
      "cell_type": "code",
      "metadata": {
        "id": "1HVSJ06gzU-_",
        "colab_type": "code",
        "colab": {}
      },
      "source": [
        "# Lets apply\n",
        "grouped.mean()"
      ],
      "execution_count": 0,
      "outputs": []
    },
    {
      "cell_type": "code",
      "metadata": {
        "id": "bgCxGfpZ6MEK",
        "colab_type": "code",
        "colab": {}
      },
      "source": [
        "# lets check we know what pandas type group is\n",
        "type(grouped)"
      ],
      "execution_count": 0,
      "outputs": []
    },
    {
      "cell_type": "markdown",
      "metadata": {
        "id": "ffgAAMv47i3p",
        "colab_type": "text"
      },
      "source": [
        "**Lesson 2:** \n",
        "* Chaining the code so that we can return `Groupby` in one line of code\n",
        "* Returning dataframe objects from Groupby operations"
      ]
    },
    {
      "cell_type": "markdown",
      "metadata": {
        "id": "H2BuAG6P8hoa",
        "colab_type": "text"
      },
      "source": [
        "*Example 3.2.2: (Data) - Split - Apply - Combine in one step*"
      ]
    },
    {
      "cell_type": "code",
      "metadata": {
        "id": "sM0kbChq5yOq",
        "colab_type": "code",
        "colab": {}
      },
      "source": [
        "# we can return the same groupby object as above in one line of code\n",
        "group_ex2 = kaggle['SalePrice'].groupby(kaggle['OverallQual']).mean()\n",
        "group_ex2"
      ],
      "execution_count": 0,
      "outputs": []
    },
    {
      "cell_type": "markdown",
      "metadata": {
        "id": "P7aOZzI19CUs",
        "colab_type": "text"
      },
      "source": [
        "*Example 3.2.3: Returning a Dataframe object*"
      ]
    },
    {
      "cell_type": "code",
      "metadata": {
        "id": "_zSkJOLp9ATw",
        "colab_type": "code",
        "colab": {}
      },
      "source": [
        "# instead of returning a series object, we can return a Dataframe object\n",
        "group_ex3 = kaggle[['SalePrice','LotArea']].groupby(kaggle['OverallQual']).mean()\n",
        "type(group_ex3)"
      ],
      "execution_count": 0,
      "outputs": []
    },
    {
      "cell_type": "code",
      "metadata": {
        "id": "GCQuNwuf9V-N",
        "colab_type": "code",
        "colab": {}
      },
      "source": [
        "# which can be returned like this \n",
        "group_ex3"
      ],
      "execution_count": 0,
      "outputs": []
    },
    {
      "cell_type": "markdown",
      "metadata": {
        "id": "SO2rn5U4BHSA",
        "colab_type": "text"
      },
      "source": [
        "#### EXERCISE 3.2\n",
        "* There are a number of different methods to apply and combine the data (we only covered `.mean()` above). These include:\n",
        " * `count()`\t\n",
        " * `mean(), median()`\n",
        " * `min(), max()`\t\n",
        " * ` std(), var()`\t\n",
        " *  `prod()`\t\n",
        " * `sum()`\t\n",
        "* Using one of the dataframes we have loaded, practice using groupby() operations, using some these aggregation methods  "
      ]
    },
    {
      "cell_type": "code",
      "metadata": {
        "id": "YcWkwXulBHgx",
        "colab_type": "code",
        "colab": {}
      },
      "source": [
        "## EXERCISE CODE HERE\n",
        "\n"
      ],
      "execution_count": 0,
      "outputs": []
    },
    {
      "cell_type": "markdown",
      "metadata": {
        "id": "RgDZdAoqYF5k",
        "colab_type": "text"
      },
      "source": [
        "## 4. CODE RELATED TO FEATURE ENGINEEERING\n",
        "* Creating new columns\n",
        "* Use `apply()` to create new features"
      ]
    },
    {
      "cell_type": "markdown",
      "metadata": {
        "id": "Bh72XtLCYF8h",
        "colab_type": "text"
      },
      "source": [
        "### 4.1 CREATING NEW COLUMNS"
      ]
    },
    {
      "cell_type": "code",
      "metadata": {
        "id": "fbrxsXRVYGQi",
        "colab_type": "code",
        "colab": {}
      },
      "source": [
        "# we can create a new column by naming it and providing a value\n",
        "# here we are creating a column that just has values from 0 to the length of the index\n",
        "kaggle['new_column'] = (pd.DataFrame(np.arange(len(kaggle))))\n",
        "\n",
        "# we can view the new column, in this instance alongside the SalePrice column \n",
        "kaggle[['SalePrice','new_column']][0:20]"
      ],
      "execution_count": 0,
      "outputs": []
    },
    {
      "cell_type": "code",
      "metadata": {
        "id": "O6MabR2VYGTP",
        "colab_type": "code",
        "colab": {}
      },
      "source": [
        "# we can obviously do more interesting things. Here we want to see whether the LotArea is over or under the average\n",
        "# lets take the total of all the lot areas\n",
        "lot_sum = kaggle['LotArea'].sum()\n",
        "\n",
        "# and get the average\n",
        "lot_average = lot_sum/len(kaggle)\n",
        "\n",
        "# we can then create a new column by dividing each LotArea entry by the average and multiplying by 100 to get the percentage\n",
        "kaggle['Lot_Area_Comparison'] = np.around((kaggle['LotArea']/lot_average*100), decimals=2)\n",
        "kaggle[['LotArea','Lot_Area_Comparison']]"
      ],
      "execution_count": 0,
      "outputs": []
    },
    {
      "cell_type": "markdown",
      "metadata": {
        "id": "TLHLKu1zYZJD",
        "colab_type": "text"
      },
      "source": [
        "### 4.2 USE APPLY() TO CREATE NEW FEATURES"
      ]
    },
    {
      "cell_type": "code",
      "metadata": {
        "id": "JyRU9hNkYGWQ",
        "colab_type": "code",
        "colab": {}
      },
      "source": [
        "# apply() can be used to apply a function to a column (axis = 0) or along a row (axis = 1)\n",
        "kaggle[['LotArea']].apply(np.cumsum, axis = 0)[0:20]"
      ],
      "execution_count": 0,
      "outputs": []
    },
    {
      "cell_type": "code",
      "metadata": {
        "id": "aeCC6F8jCl3L",
        "colab_type": "code",
        "colab": {}
      },
      "source": [
        "# we can use a predefined pandas or numpy method, or write our here\n",
        "# here we use a lambda, but we could write our own function and pass it in \n",
        "# and if we remove the second [] and the axis argument, we can use apply to return a Series\n",
        "type(kaggle['LotArea'].apply(lambda x: x/2))"
      ],
      "execution_count": 0,
      "outputs": []
    },
    {
      "cell_type": "code",
      "metadata": {
        "id": "JtfjESUBLDlM",
        "colab_type": "code",
        "colab": {}
      },
      "source": [
        "# note that apply creates copy, and we need to assign the results to a variable or a new column to preserve them\n",
        "kaggle['SalePrice£'] = kaggle[['SalePrice']].apply(lambda x: x*0.79, axis = 0)\n",
        "kaggle['SalePrice£'][0:20]"
      ],
      "execution_count": 0,
      "outputs": []
    },
    {
      "cell_type": "markdown",
      "metadata": {
        "id": "W0aPKN7LNEx0",
        "colab_type": "text"
      },
      "source": [
        "#### EXERCISE 4.2: USE APPLY() TO CREATE NEW FEATURES\n",
        "* Code a simple function that takes in a value and performs a simple operation on the value\n",
        "* Use the `apply()` function to apply that function to a dataframe column"
      ]
    },
    {
      "cell_type": "code",
      "metadata": {
        "id": "8ez3c83FNi3J",
        "colab_type": "code",
        "colab": {}
      },
      "source": [
        "## EXERCISE CODE HERE\n",
        "\n"
      ],
      "execution_count": 0,
      "outputs": []
    },
    {
      "cell_type": "markdown",
      "metadata": {
        "id": "kUWfNCXbCmOm",
        "colab_type": "text"
      },
      "source": [
        "## 5. REVIEW\n",
        "* We have covered:\n",
        "\n",
        "\n",
        "* There are a number of additional topics that you may wish to follow-up on:\n",
        "  * Removing duplicate values\n",
        "  * Joining and merging dataframes\n",
        "  * More adavnced groupby() and data aggregation techniques \n",
        "  * The use of applymap() to apply functions to the whole dataframe\n",
        "* There are plenty of excellent resources available. We would recommend:\n",
        "  * [Python Data Science Handbook](https://jakevdp.github.io/PythonDataScienceHandbook/) (free)\n",
        "  * [Python for Data Analysis](https://www.amazon.co.uk/Python-Data-Analysis-Wrangling-IPython-ebook/dp/B075X4LT6K/ref=sr_1_1?s=digital-text&ie=UTF8&qid=1540755909&sr=1-1&keywords=python+for+data+analysis )\n",
        "  * [pandas documentation](https://pandas.pydata.org/pandas-docs/stable/), which links to tutorials"
      ]
    }
  ]
}