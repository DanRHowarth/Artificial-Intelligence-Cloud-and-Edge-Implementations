{
  "nbformat": 4,
  "nbformat_minor": 0,
  "metadata": {
    "colab": {
      "name": "DSfIOT - Machine Learning End to End Tutorial - in class",
      "provenance": [],
      "collapsed_sections": []
    },
    "kernelspec": {
      "name": "python3",
      "display_name": "Python 3"
    }
  },
  "cells": [
    {
      "cell_type": "markdown",
      "metadata": {
        "id": "BlmQIFSLZDdc",
        "colab_type": "text"
      },
      "source": [
        "# DSfIOT: Machine Learning End to End Tutorial "
      ]
    },
    {
      "cell_type": "markdown",
      "metadata": {
        "id": "kSI9uEem9zvX",
        "colab_type": "text"
      },
      "source": [
        "\n",
        "## Aims and Structure of the session\n"
      ]
    },
    {
      "cell_type": "markdown",
      "metadata": {
        "id": "NAUFltle9zyP",
        "colab_type": "text"
      },
      "source": [
        "### Aims\n",
        "\n",
        "* Provide an overview and end-to-end implementation of a machine learning problem, using supervised learning methods \n",
        "* Provide code and exercises to develop learning \n",
        "* Provide links to further reading and ideas for future exercises that enable you to continue learning\n",
        "* We are limited on time, and therefore *won't* cover:\n",
        "  * *Machine Learning Theory* in any great detail, other than to enable you to understand the code we are implementing \n",
        "  * *Exploratory Data Analysis*, which is often undertaken prior to building models to understand the data and what features might be useful in our model\n",
        "  * *Feature Engineering*, which is about developing new features from the data that might better serve how our model predicts output variable\n",
        "  * *Visualisations* of the modelling and data, which can be helpful in understanding model performance (and are also used for exploratory data analysis)\n",
        "* We can look to cover these topics at future sessions or via Slack with the same or a different dataset - it would be good to understand what your priorities are"
      ]
    },
    {
      "cell_type": "markdown",
      "metadata": {
        "id": "WDRYcGBW-jfG",
        "colab_type": "text"
      },
      "source": [
        "### Structure of session \n",
        "\n",
        "* **Part 1: Machine Learning:** \n",
        "  1. Introduction to ML and ML approach, Introduction to problem\n",
        "  2. Load data, preprocess and split data\n",
        "  3. Build model,  train and predict \n",
        "  4. Refine model \n",
        "\n",
        "* **Part 2: Deep Learning** \n",
        "  1. Introduction to Deep Learning and Keras \n",
        "  2. Build DL model, train and predict \n",
        "  3. Refine model \n",
        " "
      ]
    },
    {
      "cell_type": "markdown",
      "metadata": {
        "id": "D6AaSHgVAX8P",
        "colab_type": "text"
      },
      "source": [
        "## Part 1: Machine Learning \n"
      ]
    },
    {
      "cell_type": "markdown",
      "metadata": {
        "id": "SkHyqybY_05Q",
        "colab_type": "text"
      },
      "source": [
        "### 1. Introduction to Machine Learning, Machine Learning Approach and Introduction to the problem "
      ]
    },
    {
      "cell_type": "markdown",
      "metadata": {
        "id": "fC4WN8OfBfKM",
        "colab_type": "text"
      },
      "source": [
        "#### 1.1 Introduction to Machine Learning\n",
        "**Aim:** \n",
        "* To introduce the concept of machine learning \n",
        "* Introduce the different types of machine learning\n",
        "\n",
        "---\n",
        "\n",
        "\n",
        "**Machine Learning**\n",
        "* From ['Python Data Science Handbook'](https://jakevdp.github.io/PythonDataScienceHandbook/) by Jake VanderPlass:\n",
        "\n",
        "*Machine learning is often categorized as a subfield of artificial intelligence, but I find that categorization can often be misleading at first brush. The study of machine learning certainly arose from research in this context, but in the data science application of machine learning methods, it’s more helpful to think of **machine learning as a means of building models of data**.*\n",
        "\n",
        "\n",
        "*Fundamentally, **machine learning involves building mathematical models to help understand data**. “Learning” enters the fray when we give these models tunable parameters that can be adapted to observed data; in this way the program can be considered to be “learning” from the data. Once these models have been fit to previously seen data, they can be used to predict and understand aspects of newly observed data.*\n",
        "\n",
        "* Chapter 2 of *Introduction to Statistical Learning* (available free [here](http://www-bcf.usc.edu/~gareth/ISL/)) has an excellent overview of topics relating to Machine Learning.\n",
        "\n",
        "\n",
        "**Different types of Machine Learning**\n",
        "\n",
        "* *Supervised learning* is about modeling the relationship between features of data and a label associated with the data. Once this model is determined, it can be used to apply labels to new, unknown data. \n",
        "* Supervised learning can either be a *classification* task (where our labels are in discrete categories) or *regression* task (where our labels are continuous quantities). \n",
        "* *Unsupervised learning* models the features of a dataset without reference to any label. These models include tasks such as clustering and dimensionality reduction. We can use unsupervised learning rechnqiues to preprocess data prior to running supervised learning models. \n",
        "* *Semi-supervised learning* can also be used when we only have incomplete labels for our data.\n",
        "* We will cover *deep learning* on Day 2, but it can be thought of as a way of implementimg  *supervised*, *unsupervised* and *semi-supervised* learning. \n"
      ]
    },
    {
      "cell_type": "markdown",
      "metadata": {
        "id": "MDCEfRksBe7D",
        "colab_type": "text"
      },
      "source": [
        "#### 1.2 Approaching an ML problem \n",
        "**Aim:** \n",
        "* To introduce an approach to tackling a machine learning problem, which we will then follow in this tutorial. \n",
        "\n",
        "---\n",
        "\n",
        "**Outline approach** \n",
        "\n",
        "* From '*Python Machine Learning*', by Sebastian Raschka (see [here](https://sebastianraschka.com/books.html) for details)\n",
        "\n",
        "![alt text](https://www.safaribooksonline.com/library/view/python-machine-learning/9781787125933/graphics/B07030_01_09.jpg)\n",
        "\n"
      ]
    },
    {
      "cell_type": "markdown",
      "metadata": {
        "id": "VnPU_Nu5Ypw9",
        "colab_type": "text"
      },
      "source": [
        "#### 1.3 Introduction to the problem \n",
        "**Aim:** \n",
        "* To introduce how we might structure problem statements for machine learning problems\n",
        "* Determine how we are going to approach this problem \n",
        "\n",
        "\n",
        "---\n",
        "* A problem statement for a machine learning problem might include:\n",
        "  * a problem statement, defining the problem(s) that we are trying to solve\n",
        "  * the dataset and any other inputs we might be able to draw upon (e.g. domain knowledge)\n",
        "  * a solution statement, setting out how we intend to solve the problem using the data and other inputs available \n",
        "  * whether we have a benchmark model to compare our work against\n",
        "  * the evaluation metrics we intend to use to score our models\n",
        "  * we might also define upfront what our target variable is, what platform or hardware considerations need to be taken into account, and any risks we might have to success\n",
        "  \n",
        "* For this tutorial, we have a dataset provided, which is covered in more detail below."
      ]
    },
    {
      "cell_type": "markdown",
      "metadata": {
        "id": "0iFv8xiPAEym",
        "colab_type": "text"
      },
      "source": [
        "**Black Friday Dataset**\n",
        "* We will work on the Black Friday dataset in this article. The dataset and problem are from Kaggle\n",
        "also adapted from this [post](https://medium.com/analytics-vidhya/build-your-first-neural-network-model-on-a-structured-dataset-using-keras-d9e7de5c6724)\n",
        "* We have been provided with various information about customer demographics (age, gender, marital status, city_type, stay_in_current_city) and product details (product_id and product category). \n",
        "\n",
        "Below is the data dictionary (`Variable`          |                  *Definition*)\n",
        "\n",
        "* `User_ID`       |    *User ID*\n",
        "\n",
        "* `Product_ID` |   *Product ID*\n",
        "    \n",
        "* `Gender` |   *Sex of User*\n",
        "\n",
        "* `Age` |  *Age in bins*\n",
        "\n",
        "* `Occupation` |   *Occupation ( Masked)*\n",
        "\n",
        "* `City_Category` |    *Category of the city (A, B, C)*\n",
        "\n",
        "* `Stay_In_Current_City_Years` |  *Number of years stay in current city*\n",
        "\n",
        "* `Marital_Status` |  *Marital Status*\n",
        "\n",
        "* `Product_Category_1` |   *Product Category (Masked)*\n",
        "\n",
        "* `Product_Category_2` |  *Product may belong to other category also (Masked)*\n",
        "\n",
        "* `Product_Category_3` |  *Product  may belong to other category also (Masked)*\n",
        "\n",
        "* `Purchase` |  *Purchase Amount*\n"
      ]
    },
    {
      "cell_type": "markdown",
      "metadata": {
        "id": "lqkIjlq7BswL",
        "colab_type": "text"
      },
      "source": [
        "**EXERCISE 1.3:** Can you define the problem statement and determine the target variable? What type of machine learning problem is this?\n",
        "\n",
        "---\n",
        "\n",
        "**ANSWER:**\n",
        "\n",
        "\n",
        "\n"
      ]
    },
    {
      "cell_type": "markdown",
      "metadata": {
        "id": "Nryq6GB-_srJ",
        "colab_type": "text"
      },
      "source": [
        "### 2. Load, preprocess and split the data\n",
        "**Aim:** \n",
        "* To undersand the dataset better\n",
        "* To understand why and how we preprocess the data in preparation for it being modelled \n",
        "* To understand why and how we split the data into training and testing sets\n"
      ]
    },
    {
      "cell_type": "markdown",
      "metadata": {
        "id": "5y2DGKw5E5j-",
        "colab_type": "text"
      },
      "source": [
        "#### 2.1 Loading the data \n",
        "\n",
        "  \n"
      ]
    },
    {
      "cell_type": "code",
      "metadata": {
        "id": "t9ALbbpmY9rm",
        "colab_type": "code",
        "colab": {}
      },
      "source": [
        "import numpy as np\n",
        "import pandas as pd\n",
        "\n",
        "# Read Necessary files - because we are loading a provided dataset, we are loading both files \n",
        "fullData = pd.read_csv(\"https://raw.githubusercontent.com/dsiot/wearables/master/course/bf_train.csv\")"
      ],
      "execution_count": 0,
      "outputs": []
    },
    {
      "cell_type": "code",
      "metadata": {
        "id": "0lsuyVnOfNeW",
        "colab_type": "code",
        "colab": {}
      },
      "source": [
        "pd.read_csv?"
      ],
      "execution_count": 0,
      "outputs": []
    },
    {
      "cell_type": "markdown",
      "metadata": {
        "id": "xZsHwhBrMYz3",
        "colab_type": "text"
      },
      "source": [
        "##### Get a feel for the data "
      ]
    },
    {
      "cell_type": "code",
      "metadata": {
        "id": "JoZituJ7McYC",
        "colab_type": "code",
        "outputId": "fc704dce-91db-4806-ae5a-51e968d29b94",
        "colab": {
          "base_uri": "https://localhost:8080/",
          "height": 492
        }
      },
      "source": [
        "# here we can see the top n lines of the dataset:\n",
        "rows = 5\n",
        "print(\"Top {} lines of dataset:\".format(rows))\n",
        "fullData.head(rows)"
      ],
      "execution_count": 0,
      "outputs": [
        {
          "output_type": "stream",
          "text": [
            "Top 5 lines of dataset:\n"
          ],
          "name": "stdout"
        },
        {
          "output_type": "execute_result",
          "data": {
            "text/html": [
              "<div>\n",
              "<style scoped>\n",
              "    .dataframe tbody tr th:only-of-type {\n",
              "        vertical-align: middle;\n",
              "    }\n",
              "\n",
              "    .dataframe tbody tr th {\n",
              "        vertical-align: top;\n",
              "    }\n",
              "\n",
              "    .dataframe thead th {\n",
              "        text-align: right;\n",
              "    }\n",
              "</style>\n",
              "<table border=\"1\" class=\"dataframe\">\n",
              "  <thead>\n",
              "    <tr style=\"text-align: right;\">\n",
              "      <th></th>\n",
              "      <th>User_ID</th>\n",
              "      <th>Product_ID</th>\n",
              "      <th>Gender</th>\n",
              "      <th>Age</th>\n",
              "      <th>Occupation</th>\n",
              "      <th>City_Category</th>\n",
              "      <th>Stay_In_Current_City_Years</th>\n",
              "      <th>Marital_Status</th>\n",
              "      <th>Product_Category_1</th>\n",
              "      <th>Product_Category_2</th>\n",
              "      <th>Product_Category_3</th>\n",
              "      <th>Purchase</th>\n",
              "    </tr>\n",
              "  </thead>\n",
              "  <tbody>\n",
              "    <tr>\n",
              "      <th>0</th>\n",
              "      <td>1000001</td>\n",
              "      <td>P00069042</td>\n",
              "      <td>F</td>\n",
              "      <td>0-17</td>\n",
              "      <td>10</td>\n",
              "      <td>A</td>\n",
              "      <td>2</td>\n",
              "      <td>0</td>\n",
              "      <td>3</td>\n",
              "      <td>NaN</td>\n",
              "      <td>NaN</td>\n",
              "      <td>8370</td>\n",
              "    </tr>\n",
              "    <tr>\n",
              "      <th>1</th>\n",
              "      <td>1000001</td>\n",
              "      <td>P00248942</td>\n",
              "      <td>F</td>\n",
              "      <td>0-17</td>\n",
              "      <td>10</td>\n",
              "      <td>A</td>\n",
              "      <td>2</td>\n",
              "      <td>0</td>\n",
              "      <td>1</td>\n",
              "      <td>6.0</td>\n",
              "      <td>14.0</td>\n",
              "      <td>15200</td>\n",
              "    </tr>\n",
              "    <tr>\n",
              "      <th>2</th>\n",
              "      <td>1000001</td>\n",
              "      <td>P00087842</td>\n",
              "      <td>F</td>\n",
              "      <td>0-17</td>\n",
              "      <td>10</td>\n",
              "      <td>A</td>\n",
              "      <td>2</td>\n",
              "      <td>0</td>\n",
              "      <td>12</td>\n",
              "      <td>NaN</td>\n",
              "      <td>NaN</td>\n",
              "      <td>1422</td>\n",
              "    </tr>\n",
              "    <tr>\n",
              "      <th>3</th>\n",
              "      <td>1000001</td>\n",
              "      <td>P00085442</td>\n",
              "      <td>F</td>\n",
              "      <td>0-17</td>\n",
              "      <td>10</td>\n",
              "      <td>A</td>\n",
              "      <td>2</td>\n",
              "      <td>0</td>\n",
              "      <td>12</td>\n",
              "      <td>14.0</td>\n",
              "      <td>NaN</td>\n",
              "      <td>1057</td>\n",
              "    </tr>\n",
              "    <tr>\n",
              "      <th>4</th>\n",
              "      <td>1000002</td>\n",
              "      <td>P00285442</td>\n",
              "      <td>M</td>\n",
              "      <td>55+</td>\n",
              "      <td>16</td>\n",
              "      <td>C</td>\n",
              "      <td>4+</td>\n",
              "      <td>0</td>\n",
              "      <td>8</td>\n",
              "      <td>NaN</td>\n",
              "      <td>NaN</td>\n",
              "      <td>7969</td>\n",
              "    </tr>\n",
              "  </tbody>\n",
              "</table>\n",
              "</div>"
            ],
            "text/plain": [
              "   User_ID Product_ID Gender   Age  Occupation City_Category  \\\n",
              "0  1000001  P00069042      F  0-17          10             A   \n",
              "1  1000001  P00248942      F  0-17          10             A   \n",
              "2  1000001  P00087842      F  0-17          10             A   \n",
              "3  1000001  P00085442      F  0-17          10             A   \n",
              "4  1000002  P00285442      M   55+          16             C   \n",
              "\n",
              "  Stay_In_Current_City_Years  Marital_Status  Product_Category_1  \\\n",
              "0                          2               0                   3   \n",
              "1                          2               0                   1   \n",
              "2                          2               0                  12   \n",
              "3                          2               0                  12   \n",
              "4                         4+               0                   8   \n",
              "\n",
              "   Product_Category_2  Product_Category_3  Purchase  \n",
              "0                 NaN                 NaN      8370  \n",
              "1                 6.0                14.0     15200  \n",
              "2                 NaN                 NaN      1422  \n",
              "3                14.0                 NaN      1057  \n",
              "4                 NaN                 NaN      7969  "
            ]
          },
          "metadata": {
            "tags": []
          },
          "execution_count": 2
        }
      ]
    },
    {
      "cell_type": "code",
      "metadata": {
        "id": "dQlj2wv5MLmd",
        "colab_type": "code",
        "outputId": "40d4e9f4-024e-4fee-b040-c9f9ae3ebab6",
        "colab": {
          "base_uri": "https://localhost:8080/",
          "height": 232
        }
      },
      "source": [
        "# lets get the shape of the data \n",
        "print('The dataset has {} entries'.format(fullData.shape[0]))\n",
        "print('The dataset has {} columns'.format(fullData.shape[1]))\n",
        "fullData.shape"
      ],
      "execution_count": 0,
      "outputs": [
        {
          "output_type": "stream",
          "text": [
            "The dataset has 550068 entries\n",
            "The dataset has 12 columns\n"
          ],
          "name": "stdout"
        }
      ]
    },
    {
      "cell_type": "code",
      "metadata": {
        "id": "D_cVphydX9Ea",
        "colab_type": "code",
        "outputId": "e230582e-e5c8-4409-953c-0447a13879f5",
        "colab": {
          "base_uri": "https://localhost:8080/",
          "height": 428
        }
      },
      "source": [
        "# understand what values are missing - here we sum the null values for each column \n",
        "# isnull returns a boolean, which we sum\n",
        "fullData.isnull().sum()"
      ],
      "execution_count": 0,
      "outputs": [
        {
          "output_type": "execute_result",
          "data": {
            "text/plain": [
              "User_ID                            0\n",
              "Product_ID                         0\n",
              "Gender                             0\n",
              "Age                                0\n",
              "Occupation                         0\n",
              "City_Category                      0\n",
              "Stay_In_Current_City_Years         0\n",
              "Marital_Status                     0\n",
              "Product_Category_1                 0\n",
              "Product_Category_2            173638\n",
              "Product_Category_3            383247\n",
              "Purchase                           0\n",
              "dtype: int64"
            ]
          },
          "metadata": {
            "tags": []
          },
          "execution_count": 8
        }
      ]
    },
    {
      "cell_type": "code",
      "metadata": {
        "id": "DqoCZ_gsVNaH",
        "colab_type": "code",
        "outputId": "140dfe59-5451-4169-a21c-1cb10d3b2825",
        "colab": {
          "base_uri": "https://localhost:8080/",
          "height": 444
        }
      },
      "source": [
        "# percentage of entries per column type \n",
        "print('Percentage of Not Null Values per column/feature:')\n",
        "np.around((fullData.notnull().sum() / len(fullData)*100), decimals=1)"
      ],
      "execution_count": 0,
      "outputs": [
        {
          "output_type": "stream",
          "text": [
            "Percentage of Not Null Values per column/feature:\n"
          ],
          "name": "stdout"
        },
        {
          "output_type": "execute_result",
          "data": {
            "text/plain": [
              "User_ID                       100.0\n",
              "Product_ID                    100.0\n",
              "Gender                        100.0\n",
              "Age                           100.0\n",
              "Occupation                    100.0\n",
              "City_Category                 100.0\n",
              "Stay_In_Current_City_Years    100.0\n",
              "Marital_Status                100.0\n",
              "Product_Category_1            100.0\n",
              "Product_Category_2             68.4\n",
              "Product_Category_3             30.3\n",
              "Purchase                      100.0\n",
              "dtype: float64"
            ]
          },
          "metadata": {
            "tags": []
          },
          "execution_count": 11
        }
      ]
    },
    {
      "cell_type": "markdown",
      "metadata": {
        "id": "_oAsKavc0Zws",
        "colab_type": "text"
      },
      "source": [
        "##### Get a feel for the target variable"
      ]
    },
    {
      "cell_type": "code",
      "metadata": {
        "id": "cV5cDgYu0dXf",
        "colab_type": "code",
        "outputId": "1cbfdbd3-d17a-48ec-f611-263b663c548e",
        "colab": {
          "base_uri": "https://localhost:8080/",
          "height": 356
        }
      },
      "source": [
        "# code regarding purchase column\n",
        "fullData['Purchase'].describe()"
      ],
      "execution_count": 0,
      "outputs": [
        {
          "output_type": "execute_result",
          "data": {
            "text/plain": [
              "count    550068.000000\n",
              "mean       9263.968713\n",
              "std        5023.065394\n",
              "min          12.000000\n",
              "25%        5823.000000\n",
              "50%        8047.000000\n",
              "75%       12054.000000\n",
              "max       23961.000000\n",
              "Name: Purchase, dtype: float64"
            ]
          },
          "metadata": {
            "tags": []
          },
          "execution_count": 12
        }
      ]
    },
    {
      "cell_type": "markdown",
      "metadata": {
        "id": "mQniHMeOAX_J",
        "colab_type": "text"
      },
      "source": [
        "**EXERCISE 2.1:** Given our exploration of the data above, do you feel confident there is suitable data to solve your problem statement? Do you have any thoughts about whether some features are better than others? \n",
        "\n",
        "---\n",
        "\n",
        "**ANSWER:**\n",
        "\n"
      ]
    },
    {
      "cell_type": "markdown",
      "metadata": {
        "id": "Hhy6KT6TIjns",
        "colab_type": "text"
      },
      "source": [
        "#### 2.2 Preprocessing the data\n",
        "* We proprocess the data to ensure it is a suitable state for modelling. The sort of things that we do to preprocess the data includes:\n",
        "  * *Dealing with missing values*, where we identify what, if, any missing data we have and how to deal with it. For example, we may replace missing values with the mean value for that feature, or by the average of the neighbouring values. \n",
        "    * `pandas` has a number of options for filling in missing data that is worth exploring\n",
        "    * We can also use `k-nearest neighbour`to help us predict what the missing values should be, or `sklearn Imputer` function (amongst other ways)\n",
        "  * *Treat categorical values*, by converting them into a numerical representation that can be modelled.\n",
        "    * There are a number of different ways to do this in `sklearn` and `pandas`\n",
        "  * *Normalise the data*, for example by ensuring the data is, for example all on the scale (such as within two defined values); normally distributed; has a zero-mean, etc. This is sometimes necessary for the ML models to work, and can also help speed up the time it takes for the models to run.  \n",
        "    * Again, `sklearn` and `pandas` have in-built functions to help you do this."
      ]
    },
    {
      "cell_type": "markdown",
      "metadata": {
        "id": "tD-M_cNjKaNU",
        "colab_type": "text"
      },
      "source": [
        "##### Prepare for preprocessing"
      ]
    },
    {
      "cell_type": "code",
      "metadata": {
        "id": "cz-EyuZkfL44",
        "colab_type": "code",
        "outputId": "135a3ea8-1dcc-45ba-cf81-11e24503622f",
        "colab": {
          "base_uri": "https://localhost:8080/",
          "height": 252
        }
      },
      "source": [
        "# create a new version of dataset\n",
        "fullData_preprocessed = fullData.copy()\n",
        "\n",
        "# check that all is well\n",
        "print(\"Check that the copy dataset has the same shape:\")\n",
        "print('The dataset copy has {} entries'.format(fullData.shape[0]))\n",
        "print('The dataset copy has {} columns'.format(fullData.shape[1]))"
      ],
      "execution_count": 0,
      "outputs": [
        {
          "output_type": "stream",
          "text": [
            "Check that the copy dataset has the same shape:\n",
            "The dataset copy has 550068 entries\n",
            "The dataset copy has 12 columns\n"
          ],
          "name": "stdout"
        }
      ]
    },
    {
      "cell_type": "code",
      "metadata": {
        "id": "ahLw72fYAYFl",
        "colab_type": "code",
        "colab": {}
      },
      "source": [
        "#Identifying ID, Categorical, and numerical data, which we will treat differently \n",
        "ID_col = ['User_ID','Product_ID']\n",
        "cat_cols= ['Gender','Age','City_Category','Stay_In_Current_City_Years']\n",
        "num_cols= ['Marital_Status','Occupation','Product_Category_1','Product_Category_2','Product_Category_3']\n",
        "\n",
        "# Combined numerical and Categorical variables\n",
        "# num_cat_cols = num_cols+cat_cols"
      ],
      "execution_count": 0,
      "outputs": []
    },
    {
      "cell_type": "markdown",
      "metadata": {
        "id": "8teR6X82_ic8",
        "colab_type": "text"
      },
      "source": [
        "##### Alternate approach"
      ]
    },
    {
      "cell_type": "code",
      "metadata": {
        "id": "rW1KjtfO99Rj",
        "colab_type": "code",
        "colab": {}
      },
      "source": [
        "## here is an alternative to manually defining the columns.\n",
        "# lets take a look at the data types of the columns\n",
        "fullData_preprocessed.dtypes"
      ],
      "execution_count": 0,
      "outputs": []
    },
    {
      "cell_type": "code",
      "metadata": {
        "id": "5vGVs7Ag9uRL",
        "colab_type": "code",
        "colab": {}
      },
      "source": [
        "# here we can use a list comprehension to create a list of all the object columns\n",
        "cat_cols_alt = [f for f in fullData_preprocessed.columns if fullData_preprocessed.dtypes[f] == 'object']\n",
        "cat_cols_alt"
      ],
      "execution_count": 0,
      "outputs": []
    },
    {
      "cell_type": "code",
      "metadata": {
        "id": "I5UkaAxGD8kf",
        "colab_type": "code",
        "colab": {}
      },
      "source": [
        "# and do the same for number cols\n",
        "num_cols_alt = [f for f in fullData_preprocessed.columns if fullData_preprocessed.dtypes[f] != 'object']\n",
        "num_cols_alt"
      ],
      "execution_count": 0,
      "outputs": []
    },
    {
      "cell_type": "code",
      "metadata": {
        "id": "cteWr8HwAc2c",
        "colab_type": "code",
        "colab": {}
      },
      "source": [
        "## this is the same as doing a for loop\n",
        "## here i have added an extra condition so that we \n",
        "\n",
        "# create empty list\n",
        "cat_cols_alt2 = []\n",
        "num_cols_alt2 = []\n",
        "ID_cols_alt2 = []\n",
        "\n",
        "# create for loop\n",
        "for cols in fullData_preprocessed.columns:\n",
        "  if fullData_preprocessed.dtypes[cols] == 'object':\n",
        "    if cols != 'Product_ID':\n",
        "      cat_cols_alt2.append(cols)\n",
        "  elif fullData_preprocessed.dtypes[cols] != 'object':\n",
        "    if cols !=  'User_ID':\n",
        "      num_cols_alt2.append(cols)\n",
        "  if cols not in cat_cols_alt2 and cols not in num_cols_alt2:\n",
        "        ID_cols_alt2.append(cols)\n",
        "\n",
        "print(cat_cols_alt2)\n",
        "print(num_cols_alt2)\n",
        "print(ID_cols_alt2)\n",
        "\n",
        "## it may be easier to define the columns manually!"
      ],
      "execution_count": 0,
      "outputs": []
    },
    {
      "cell_type": "markdown",
      "metadata": {
        "id": "kqdErGmqAlUU",
        "colab_type": "text"
      },
      "source": [
        "##### Dealing with Missing Values"
      ]
    },
    {
      "cell_type": "code",
      "metadata": {
        "id": "suj30jCQKj_a",
        "colab_type": "code",
        "outputId": "6bd28e19-a9c5-493a-a983-970207afb67a",
        "colab": {
          "base_uri": "https://localhost:8080/",
          "height": 562
        }
      },
      "source": [
        "# Look at data before\n",
        "fullData_preprocessed[num_cols][0:10]"
      ],
      "execution_count": 0,
      "outputs": [
        {
          "output_type": "execute_result",
          "data": {
            "text/html": [
              "<div>\n",
              "<style scoped>\n",
              "    .dataframe tbody tr th:only-of-type {\n",
              "        vertical-align: middle;\n",
              "    }\n",
              "\n",
              "    .dataframe tbody tr th {\n",
              "        vertical-align: top;\n",
              "    }\n",
              "\n",
              "    .dataframe thead th {\n",
              "        text-align: right;\n",
              "    }\n",
              "</style>\n",
              "<table border=\"1\" class=\"dataframe\">\n",
              "  <thead>\n",
              "    <tr style=\"text-align: right;\">\n",
              "      <th></th>\n",
              "      <th>Marital_Status</th>\n",
              "      <th>Occupation</th>\n",
              "      <th>Product_Category_1</th>\n",
              "      <th>Product_Category_2</th>\n",
              "      <th>Product_Category_3</th>\n",
              "    </tr>\n",
              "  </thead>\n",
              "  <tbody>\n",
              "    <tr>\n",
              "      <th>0</th>\n",
              "      <td>0</td>\n",
              "      <td>10</td>\n",
              "      <td>3</td>\n",
              "      <td>NaN</td>\n",
              "      <td>NaN</td>\n",
              "    </tr>\n",
              "    <tr>\n",
              "      <th>1</th>\n",
              "      <td>0</td>\n",
              "      <td>10</td>\n",
              "      <td>1</td>\n",
              "      <td>6.0</td>\n",
              "      <td>14.0</td>\n",
              "    </tr>\n",
              "    <tr>\n",
              "      <th>2</th>\n",
              "      <td>0</td>\n",
              "      <td>10</td>\n",
              "      <td>12</td>\n",
              "      <td>NaN</td>\n",
              "      <td>NaN</td>\n",
              "    </tr>\n",
              "    <tr>\n",
              "      <th>3</th>\n",
              "      <td>0</td>\n",
              "      <td>10</td>\n",
              "      <td>12</td>\n",
              "      <td>14.0</td>\n",
              "      <td>NaN</td>\n",
              "    </tr>\n",
              "    <tr>\n",
              "      <th>4</th>\n",
              "      <td>0</td>\n",
              "      <td>16</td>\n",
              "      <td>8</td>\n",
              "      <td>NaN</td>\n",
              "      <td>NaN</td>\n",
              "    </tr>\n",
              "    <tr>\n",
              "      <th>5</th>\n",
              "      <td>0</td>\n",
              "      <td>15</td>\n",
              "      <td>1</td>\n",
              "      <td>2.0</td>\n",
              "      <td>NaN</td>\n",
              "    </tr>\n",
              "    <tr>\n",
              "      <th>6</th>\n",
              "      <td>1</td>\n",
              "      <td>7</td>\n",
              "      <td>1</td>\n",
              "      <td>8.0</td>\n",
              "      <td>17.0</td>\n",
              "    </tr>\n",
              "    <tr>\n",
              "      <th>7</th>\n",
              "      <td>1</td>\n",
              "      <td>7</td>\n",
              "      <td>1</td>\n",
              "      <td>15.0</td>\n",
              "      <td>NaN</td>\n",
              "    </tr>\n",
              "    <tr>\n",
              "      <th>8</th>\n",
              "      <td>1</td>\n",
              "      <td>7</td>\n",
              "      <td>1</td>\n",
              "      <td>16.0</td>\n",
              "      <td>NaN</td>\n",
              "    </tr>\n",
              "    <tr>\n",
              "      <th>9</th>\n",
              "      <td>1</td>\n",
              "      <td>20</td>\n",
              "      <td>8</td>\n",
              "      <td>NaN</td>\n",
              "      <td>NaN</td>\n",
              "    </tr>\n",
              "  </tbody>\n",
              "</table>\n",
              "</div>"
            ],
            "text/plain": [
              "   Marital_Status  Occupation  Product_Category_1  Product_Category_2  \\\n",
              "0               0          10                   3                 NaN   \n",
              "1               0          10                   1                 6.0   \n",
              "2               0          10                  12                 NaN   \n",
              "3               0          10                  12                14.0   \n",
              "4               0          16                   8                 NaN   \n",
              "5               0          15                   1                 2.0   \n",
              "6               1           7                   1                 8.0   \n",
              "7               1           7                   1                15.0   \n",
              "8               1           7                   1                16.0   \n",
              "9               1          20                   8                 NaN   \n",
              "\n",
              "   Product_Category_3  \n",
              "0                 NaN  \n",
              "1                14.0  \n",
              "2                 NaN  \n",
              "3                 NaN  \n",
              "4                 NaN  \n",
              "5                 NaN  \n",
              "6                17.0  \n",
              "7                 NaN  \n",
              "8                 NaN  \n",
              "9                 NaN  "
            ]
          },
          "metadata": {
            "tags": []
          },
          "execution_count": 16
        }
      ]
    },
    {
      "cell_type": "code",
      "metadata": {
        "id": "Fd3dK7hxWRMh",
        "colab_type": "code",
        "colab": {}
      },
      "source": [
        "# Impute numerical missing values with mean\n",
        "fullData_preprocessed[num_cols] = fullData_preprocessed[num_cols].fillna(fullData[num_cols].mean())"
      ],
      "execution_count": 0,
      "outputs": []
    },
    {
      "cell_type": "code",
      "metadata": {
        "id": "6PgEmWvQYOBj",
        "colab_type": "code",
        "outputId": "98310b58-fd9b-4006-efc9-d8ad6ecbf729",
        "colab": {
          "base_uri": "https://localhost:8080/",
          "height": 562
        }
      },
      "source": [
        "# Look at what we have done\n",
        "fullData_preprocessed[num_cols][0:10]"
      ],
      "execution_count": 0,
      "outputs": [
        {
          "output_type": "execute_result",
          "data": {
            "text/html": [
              "<div>\n",
              "<style scoped>\n",
              "    .dataframe tbody tr th:only-of-type {\n",
              "        vertical-align: middle;\n",
              "    }\n",
              "\n",
              "    .dataframe tbody tr th {\n",
              "        vertical-align: top;\n",
              "    }\n",
              "\n",
              "    .dataframe thead th {\n",
              "        text-align: right;\n",
              "    }\n",
              "</style>\n",
              "<table border=\"1\" class=\"dataframe\">\n",
              "  <thead>\n",
              "    <tr style=\"text-align: right;\">\n",
              "      <th></th>\n",
              "      <th>Marital_Status</th>\n",
              "      <th>Occupation</th>\n",
              "      <th>Product_Category_1</th>\n",
              "      <th>Product_Category_2</th>\n",
              "      <th>Product_Category_3</th>\n",
              "    </tr>\n",
              "  </thead>\n",
              "  <tbody>\n",
              "    <tr>\n",
              "      <th>0</th>\n",
              "      <td>0</td>\n",
              "      <td>10</td>\n",
              "      <td>3</td>\n",
              "      <td>9.842329</td>\n",
              "      <td>12.668243</td>\n",
              "    </tr>\n",
              "    <tr>\n",
              "      <th>1</th>\n",
              "      <td>0</td>\n",
              "      <td>10</td>\n",
              "      <td>1</td>\n",
              "      <td>6.000000</td>\n",
              "      <td>14.000000</td>\n",
              "    </tr>\n",
              "    <tr>\n",
              "      <th>2</th>\n",
              "      <td>0</td>\n",
              "      <td>10</td>\n",
              "      <td>12</td>\n",
              "      <td>9.842329</td>\n",
              "      <td>12.668243</td>\n",
              "    </tr>\n",
              "    <tr>\n",
              "      <th>3</th>\n",
              "      <td>0</td>\n",
              "      <td>10</td>\n",
              "      <td>12</td>\n",
              "      <td>14.000000</td>\n",
              "      <td>12.668243</td>\n",
              "    </tr>\n",
              "    <tr>\n",
              "      <th>4</th>\n",
              "      <td>0</td>\n",
              "      <td>16</td>\n",
              "      <td>8</td>\n",
              "      <td>9.842329</td>\n",
              "      <td>12.668243</td>\n",
              "    </tr>\n",
              "    <tr>\n",
              "      <th>5</th>\n",
              "      <td>0</td>\n",
              "      <td>15</td>\n",
              "      <td>1</td>\n",
              "      <td>2.000000</td>\n",
              "      <td>12.668243</td>\n",
              "    </tr>\n",
              "    <tr>\n",
              "      <th>6</th>\n",
              "      <td>1</td>\n",
              "      <td>7</td>\n",
              "      <td>1</td>\n",
              "      <td>8.000000</td>\n",
              "      <td>17.000000</td>\n",
              "    </tr>\n",
              "    <tr>\n",
              "      <th>7</th>\n",
              "      <td>1</td>\n",
              "      <td>7</td>\n",
              "      <td>1</td>\n",
              "      <td>15.000000</td>\n",
              "      <td>12.668243</td>\n",
              "    </tr>\n",
              "    <tr>\n",
              "      <th>8</th>\n",
              "      <td>1</td>\n",
              "      <td>7</td>\n",
              "      <td>1</td>\n",
              "      <td>16.000000</td>\n",
              "      <td>12.668243</td>\n",
              "    </tr>\n",
              "    <tr>\n",
              "      <th>9</th>\n",
              "      <td>1</td>\n",
              "      <td>20</td>\n",
              "      <td>8</td>\n",
              "      <td>9.842329</td>\n",
              "      <td>12.668243</td>\n",
              "    </tr>\n",
              "  </tbody>\n",
              "</table>\n",
              "</div>"
            ],
            "text/plain": [
              "   Marital_Status  Occupation  Product_Category_1  Product_Category_2  \\\n",
              "0               0          10                   3            9.842329   \n",
              "1               0          10                   1            6.000000   \n",
              "2               0          10                  12            9.842329   \n",
              "3               0          10                  12           14.000000   \n",
              "4               0          16                   8            9.842329   \n",
              "5               0          15                   1            2.000000   \n",
              "6               1           7                   1            8.000000   \n",
              "7               1           7                   1           15.000000   \n",
              "8               1           7                   1           16.000000   \n",
              "9               1          20                   8            9.842329   \n",
              "\n",
              "   Product_Category_3  \n",
              "0           12.668243  \n",
              "1           14.000000  \n",
              "2           12.668243  \n",
              "3           12.668243  \n",
              "4           12.668243  \n",
              "5           12.668243  \n",
              "6           17.000000  \n",
              "7           12.668243  \n",
              "8           12.668243  \n",
              "9           12.668243  "
            ]
          },
          "metadata": {
            "tags": []
          },
          "execution_count": 18
        }
      ]
    },
    {
      "cell_type": "markdown",
      "metadata": {
        "id": "ZyO94eIDa5H5",
        "colab_type": "text"
      },
      "source": [
        "**EXERCISE:** What are the advantages and disadvanatges of the methods used here to deal with missing data? Are you aware of other approaches that might be better suited to this dataset?\n",
        "\n",
        "---\n",
        "\n",
        "**ANSWER:**\n",
        "\n"
      ]
    },
    {
      "cell_type": "markdown",
      "metadata": {
        "id": "8CLL_1HkBNbF",
        "colab_type": "text"
      },
      "source": [
        "##### Normalise the data"
      ]
    },
    {
      "cell_type": "code",
      "metadata": {
        "id": "nhLCdXvGW6tn",
        "colab_type": "code",
        "outputId": "f274eea6-fe6f-4c74-a092-f7778c49b309",
        "colab": {
          "base_uri": "https://localhost:8080/",
          "height": 304
        }
      },
      "source": [
        "## we normalise the data by dividing each value in the column by the max value of that column - a way of resclaing the data between (0,1) and keeping their relative weights \n",
        "## lets see what our denominator is \n",
        "fullData_preprocessed[num_cols].max()"
      ],
      "execution_count": 0,
      "outputs": [
        {
          "output_type": "execute_result",
          "data": {
            "text/plain": [
              "Marital_Status         1.0\n",
              "Occupation            20.0\n",
              "Product_Category_1    20.0\n",
              "Product_Category_2    18.0\n",
              "Product_Category_3    18.0\n",
              "dtype: float64"
            ]
          },
          "metadata": {
            "tags": []
          },
          "execution_count": 19
        }
      ]
    },
    {
      "cell_type": "code",
      "metadata": {
        "id": "oFQIvuvdBMkO",
        "colab_type": "code",
        "colab": {}
      },
      "source": [
        "## pandas is built on numpy and therefore we can perform this operation on each of the columns as follows\n",
        "fullData_preprocessed[num_cols] = fullData_preprocessed[num_cols]/fullData_preprocessed[num_cols].max()"
      ],
      "execution_count": 0,
      "outputs": []
    },
    {
      "cell_type": "code",
      "metadata": {
        "id": "b1AHUzxaT4qd",
        "colab_type": "code",
        "outputId": "16b57d4c-ce38-4448-9782-e5b282d8e922",
        "colab": {
          "base_uri": "https://localhost:8080/",
          "height": 584
        }
      },
      "source": [
        "# and lets check out the cols now\n",
        "fullData_preprocessed[num_cols][0:10]"
      ],
      "execution_count": 0,
      "outputs": [
        {
          "output_type": "execute_result",
          "data": {
            "text/html": [
              "<div>\n",
              "<style scoped>\n",
              "    .dataframe tbody tr th:only-of-type {\n",
              "        vertical-align: middle;\n",
              "    }\n",
              "\n",
              "    .dataframe tbody tr th {\n",
              "        vertical-align: top;\n",
              "    }\n",
              "\n",
              "    .dataframe thead th {\n",
              "        text-align: right;\n",
              "    }\n",
              "</style>\n",
              "<table border=\"1\" class=\"dataframe\">\n",
              "  <thead>\n",
              "    <tr style=\"text-align: right;\">\n",
              "      <th></th>\n",
              "      <th>Marital_Status</th>\n",
              "      <th>Occupation</th>\n",
              "      <th>Product_Category_1</th>\n",
              "      <th>Product_Category_2</th>\n",
              "      <th>Product_Category_3</th>\n",
              "    </tr>\n",
              "  </thead>\n",
              "  <tbody>\n",
              "    <tr>\n",
              "      <th>0</th>\n",
              "      <td>0.0</td>\n",
              "      <td>0.50</td>\n",
              "      <td>0.15</td>\n",
              "      <td>0.546796</td>\n",
              "      <td>0.703791</td>\n",
              "    </tr>\n",
              "    <tr>\n",
              "      <th>1</th>\n",
              "      <td>0.0</td>\n",
              "      <td>0.50</td>\n",
              "      <td>0.05</td>\n",
              "      <td>0.333333</td>\n",
              "      <td>0.777778</td>\n",
              "    </tr>\n",
              "    <tr>\n",
              "      <th>2</th>\n",
              "      <td>0.0</td>\n",
              "      <td>0.50</td>\n",
              "      <td>0.60</td>\n",
              "      <td>0.546796</td>\n",
              "      <td>0.703791</td>\n",
              "    </tr>\n",
              "    <tr>\n",
              "      <th>3</th>\n",
              "      <td>0.0</td>\n",
              "      <td>0.50</td>\n",
              "      <td>0.60</td>\n",
              "      <td>0.777778</td>\n",
              "      <td>0.703791</td>\n",
              "    </tr>\n",
              "    <tr>\n",
              "      <th>4</th>\n",
              "      <td>0.0</td>\n",
              "      <td>0.80</td>\n",
              "      <td>0.40</td>\n",
              "      <td>0.546796</td>\n",
              "      <td>0.703791</td>\n",
              "    </tr>\n",
              "    <tr>\n",
              "      <th>5</th>\n",
              "      <td>0.0</td>\n",
              "      <td>0.75</td>\n",
              "      <td>0.05</td>\n",
              "      <td>0.111111</td>\n",
              "      <td>0.703791</td>\n",
              "    </tr>\n",
              "    <tr>\n",
              "      <th>6</th>\n",
              "      <td>1.0</td>\n",
              "      <td>0.35</td>\n",
              "      <td>0.05</td>\n",
              "      <td>0.444444</td>\n",
              "      <td>0.944444</td>\n",
              "    </tr>\n",
              "    <tr>\n",
              "      <th>7</th>\n",
              "      <td>1.0</td>\n",
              "      <td>0.35</td>\n",
              "      <td>0.05</td>\n",
              "      <td>0.833333</td>\n",
              "      <td>0.703791</td>\n",
              "    </tr>\n",
              "    <tr>\n",
              "      <th>8</th>\n",
              "      <td>1.0</td>\n",
              "      <td>0.35</td>\n",
              "      <td>0.05</td>\n",
              "      <td>0.888889</td>\n",
              "      <td>0.703791</td>\n",
              "    </tr>\n",
              "    <tr>\n",
              "      <th>9</th>\n",
              "      <td>1.0</td>\n",
              "      <td>1.00</td>\n",
              "      <td>0.40</td>\n",
              "      <td>0.546796</td>\n",
              "      <td>0.703791</td>\n",
              "    </tr>\n",
              "  </tbody>\n",
              "</table>\n",
              "</div>"
            ],
            "text/plain": [
              "   Marital_Status  Occupation  Product_Category_1  Product_Category_2  \\\n",
              "0             0.0        0.50                0.15            0.546796   \n",
              "1             0.0        0.50                0.05            0.333333   \n",
              "2             0.0        0.50                0.60            0.546796   \n",
              "3             0.0        0.50                0.60            0.777778   \n",
              "4             0.0        0.80                0.40            0.546796   \n",
              "5             0.0        0.75                0.05            0.111111   \n",
              "6             1.0        0.35                0.05            0.444444   \n",
              "7             1.0        0.35                0.05            0.833333   \n",
              "8             1.0        0.35                0.05            0.888889   \n",
              "9             1.0        1.00                0.40            0.546796   \n",
              "\n",
              "   Product_Category_3  \n",
              "0            0.703791  \n",
              "1            0.777778  \n",
              "2            0.703791  \n",
              "3            0.703791  \n",
              "4            0.703791  \n",
              "5            0.703791  \n",
              "6            0.944444  \n",
              "7            0.703791  \n",
              "8            0.703791  \n",
              "9            0.703791  "
            ]
          },
          "metadata": {
            "tags": []
          },
          "execution_count": 21
        }
      ]
    },
    {
      "cell_type": "code",
      "metadata": {
        "id": "SN5Dh4lGMDUk",
        "colab_type": "code",
        "outputId": "da3b60ce-c47c-4bae-8f2b-7ab820f88681",
        "colab": {
          "base_uri": "https://localhost:8080/",
          "height": 408
        }
      },
      "source": [
        "# and look at the min and max values after the normalise operation\n",
        "print(fullData_preprocessed[num_cols].max())\n",
        "print(fullData_preprocessed[num_cols].min())"
      ],
      "execution_count": 0,
      "outputs": [
        {
          "output_type": "stream",
          "text": [
            "Marital_Status        1.0\n",
            "Occupation            1.0\n",
            "Product_Category_1    1.0\n",
            "Product_Category_2    1.0\n",
            "Product_Category_3    1.0\n",
            "dtype: float64\n",
            "Marital_Status        0.000000\n",
            "Occupation            0.000000\n",
            "Product_Category_1    0.050000\n",
            "Product_Category_2    0.111111\n",
            "Product_Category_3    0.166667\n",
            "dtype: float64\n"
          ],
          "name": "stdout"
        }
      ]
    },
    {
      "cell_type": "markdown",
      "metadata": {
        "id": "UDOBDTaiA53B",
        "colab_type": "text"
      },
      "source": [
        "##### Treat Categorical Values"
      ]
    },
    {
      "cell_type": "code",
      "metadata": {
        "id": "2A_q_AxALVUx",
        "colab_type": "code",
        "colab": {}
      },
      "source": [
        "# see dataset after treating categorical variables\n",
        "fullData_preprocessed[cat_cols][0:10]"
      ],
      "execution_count": 0,
      "outputs": []
    },
    {
      "cell_type": "code",
      "metadata": {
        "id": "Bf9gH7fRA1ZP",
        "colab_type": "code",
        "colab": {}
      },
      "source": [
        "#use label encoders for categorical features\n",
        "from sklearn.preprocessing import LabelEncoder\n",
        "\n",
        "for col in cat_cols:\n",
        "    # instantiate Label Encoder, which encodes labels with value between 0 and n_classes-1 \n",
        "    number = LabelEncoder()\n",
        "    # fit_transform fit label encoder and return encoded labels. Here we updated the cat_cols with the new labels\n",
        "    fullData_preprocessed[col] = number.fit_transform(fullData_preprocessed[col])#.astype('str'))"
      ],
      "execution_count": 0,
      "outputs": []
    },
    {
      "cell_type": "code",
      "metadata": {
        "id": "u5ZiwJ4OTtCF",
        "colab_type": "code",
        "outputId": "1d32546c-3f69-44b2-8ee2-3e05558ae7d6",
        "colab": {
          "base_uri": "https://localhost:8080/",
          "height": 542
        }
      },
      "source": [
        "# see dataset after treating categorical variables\n",
        "fullData_preprocessed[cat_cols][0:10]"
      ],
      "execution_count": 0,
      "outputs": [
        {
          "output_type": "execute_result",
          "data": {
            "text/html": [
              "<div>\n",
              "<style scoped>\n",
              "    .dataframe tbody tr th:only-of-type {\n",
              "        vertical-align: middle;\n",
              "    }\n",
              "\n",
              "    .dataframe tbody tr th {\n",
              "        vertical-align: top;\n",
              "    }\n",
              "\n",
              "    .dataframe thead th {\n",
              "        text-align: right;\n",
              "    }\n",
              "</style>\n",
              "<table border=\"1\" class=\"dataframe\">\n",
              "  <thead>\n",
              "    <tr style=\"text-align: right;\">\n",
              "      <th></th>\n",
              "      <th>Gender</th>\n",
              "      <th>Age</th>\n",
              "      <th>City_Category</th>\n",
              "      <th>Stay_In_Current_City_Years</th>\n",
              "    </tr>\n",
              "  </thead>\n",
              "  <tbody>\n",
              "    <tr>\n",
              "      <th>0</th>\n",
              "      <td>0</td>\n",
              "      <td>0</td>\n",
              "      <td>0</td>\n",
              "      <td>2</td>\n",
              "    </tr>\n",
              "    <tr>\n",
              "      <th>1</th>\n",
              "      <td>0</td>\n",
              "      <td>0</td>\n",
              "      <td>0</td>\n",
              "      <td>2</td>\n",
              "    </tr>\n",
              "    <tr>\n",
              "      <th>2</th>\n",
              "      <td>0</td>\n",
              "      <td>0</td>\n",
              "      <td>0</td>\n",
              "      <td>2</td>\n",
              "    </tr>\n",
              "    <tr>\n",
              "      <th>3</th>\n",
              "      <td>0</td>\n",
              "      <td>0</td>\n",
              "      <td>0</td>\n",
              "      <td>2</td>\n",
              "    </tr>\n",
              "    <tr>\n",
              "      <th>4</th>\n",
              "      <td>1</td>\n",
              "      <td>6</td>\n",
              "      <td>2</td>\n",
              "      <td>4</td>\n",
              "    </tr>\n",
              "    <tr>\n",
              "      <th>5</th>\n",
              "      <td>1</td>\n",
              "      <td>2</td>\n",
              "      <td>0</td>\n",
              "      <td>3</td>\n",
              "    </tr>\n",
              "    <tr>\n",
              "      <th>6</th>\n",
              "      <td>1</td>\n",
              "      <td>4</td>\n",
              "      <td>1</td>\n",
              "      <td>2</td>\n",
              "    </tr>\n",
              "    <tr>\n",
              "      <th>7</th>\n",
              "      <td>1</td>\n",
              "      <td>4</td>\n",
              "      <td>1</td>\n",
              "      <td>2</td>\n",
              "    </tr>\n",
              "    <tr>\n",
              "      <th>8</th>\n",
              "      <td>1</td>\n",
              "      <td>4</td>\n",
              "      <td>1</td>\n",
              "      <td>2</td>\n",
              "    </tr>\n",
              "    <tr>\n",
              "      <th>9</th>\n",
              "      <td>1</td>\n",
              "      <td>2</td>\n",
              "      <td>0</td>\n",
              "      <td>1</td>\n",
              "    </tr>\n",
              "  </tbody>\n",
              "</table>\n",
              "</div>"
            ],
            "text/plain": [
              "   Gender  Age  City_Category  Stay_In_Current_City_Years\n",
              "0       0    0              0                           2\n",
              "1       0    0              0                           2\n",
              "2       0    0              0                           2\n",
              "3       0    0              0                           2\n",
              "4       1    6              2                           4\n",
              "5       1    2              0                           3\n",
              "6       1    4              1                           2\n",
              "7       1    4              1                           2\n",
              "8       1    4              1                           2\n",
              "9       1    2              0                           1"
            ]
          },
          "metadata": {
            "tags": []
          },
          "execution_count": 24
        }
      ]
    },
    {
      "cell_type": "markdown",
      "metadata": {
        "id": "G7uaHU5HgJXG",
        "colab_type": "text"
      },
      "source": [
        "##### Take a view of dataset after preprocessing"
      ]
    },
    {
      "cell_type": "code",
      "metadata": {
        "id": "-n24k8nRUNoR",
        "colab_type": "code",
        "outputId": "6dc57ca1-2bb6-4097-d6d0-e59aa9d24a96",
        "colab": {
          "base_uri": "https://localhost:8080/",
          "height": 406
        }
      },
      "source": [
        "fullData_preprocessed.head()"
      ],
      "execution_count": 0,
      "outputs": [
        {
          "output_type": "execute_result",
          "data": {
            "text/html": [
              "<div>\n",
              "<style scoped>\n",
              "    .dataframe tbody tr th:only-of-type {\n",
              "        vertical-align: middle;\n",
              "    }\n",
              "\n",
              "    .dataframe tbody tr th {\n",
              "        vertical-align: top;\n",
              "    }\n",
              "\n",
              "    .dataframe thead th {\n",
              "        text-align: right;\n",
              "    }\n",
              "</style>\n",
              "<table border=\"1\" class=\"dataframe\">\n",
              "  <thead>\n",
              "    <tr style=\"text-align: right;\">\n",
              "      <th></th>\n",
              "      <th>User_ID</th>\n",
              "      <th>Product_ID</th>\n",
              "      <th>Gender</th>\n",
              "      <th>Age</th>\n",
              "      <th>Occupation</th>\n",
              "      <th>City_Category</th>\n",
              "      <th>Stay_In_Current_City_Years</th>\n",
              "      <th>Marital_Status</th>\n",
              "      <th>Product_Category_1</th>\n",
              "      <th>Product_Category_2</th>\n",
              "      <th>Product_Category_3</th>\n",
              "      <th>Purchase</th>\n",
              "    </tr>\n",
              "  </thead>\n",
              "  <tbody>\n",
              "    <tr>\n",
              "      <th>0</th>\n",
              "      <td>1000001</td>\n",
              "      <td>P00069042</td>\n",
              "      <td>0</td>\n",
              "      <td>0</td>\n",
              "      <td>0.5</td>\n",
              "      <td>0</td>\n",
              "      <td>2</td>\n",
              "      <td>0.0</td>\n",
              "      <td>0.15</td>\n",
              "      <td>0.546796</td>\n",
              "      <td>0.703791</td>\n",
              "      <td>8370</td>\n",
              "    </tr>\n",
              "    <tr>\n",
              "      <th>1</th>\n",
              "      <td>1000001</td>\n",
              "      <td>P00248942</td>\n",
              "      <td>0</td>\n",
              "      <td>0</td>\n",
              "      <td>0.5</td>\n",
              "      <td>0</td>\n",
              "      <td>2</td>\n",
              "      <td>0.0</td>\n",
              "      <td>0.05</td>\n",
              "      <td>0.333333</td>\n",
              "      <td>0.777778</td>\n",
              "      <td>15200</td>\n",
              "    </tr>\n",
              "    <tr>\n",
              "      <th>2</th>\n",
              "      <td>1000001</td>\n",
              "      <td>P00087842</td>\n",
              "      <td>0</td>\n",
              "      <td>0</td>\n",
              "      <td>0.5</td>\n",
              "      <td>0</td>\n",
              "      <td>2</td>\n",
              "      <td>0.0</td>\n",
              "      <td>0.60</td>\n",
              "      <td>0.546796</td>\n",
              "      <td>0.703791</td>\n",
              "      <td>1422</td>\n",
              "    </tr>\n",
              "    <tr>\n",
              "      <th>3</th>\n",
              "      <td>1000001</td>\n",
              "      <td>P00085442</td>\n",
              "      <td>0</td>\n",
              "      <td>0</td>\n",
              "      <td>0.5</td>\n",
              "      <td>0</td>\n",
              "      <td>2</td>\n",
              "      <td>0.0</td>\n",
              "      <td>0.60</td>\n",
              "      <td>0.777778</td>\n",
              "      <td>0.703791</td>\n",
              "      <td>1057</td>\n",
              "    </tr>\n",
              "    <tr>\n",
              "      <th>4</th>\n",
              "      <td>1000002</td>\n",
              "      <td>P00285442</td>\n",
              "      <td>1</td>\n",
              "      <td>6</td>\n",
              "      <td>0.8</td>\n",
              "      <td>2</td>\n",
              "      <td>4</td>\n",
              "      <td>0.0</td>\n",
              "      <td>0.40</td>\n",
              "      <td>0.546796</td>\n",
              "      <td>0.703791</td>\n",
              "      <td>7969</td>\n",
              "    </tr>\n",
              "  </tbody>\n",
              "</table>\n",
              "</div>"
            ],
            "text/plain": [
              "   User_ID Product_ID  Gender  Age  Occupation  City_Category  \\\n",
              "0  1000001  P00069042       0    0         0.5              0   \n",
              "1  1000001  P00248942       0    0         0.5              0   \n",
              "2  1000001  P00087842       0    0         0.5              0   \n",
              "3  1000001  P00085442       0    0         0.5              0   \n",
              "4  1000002  P00285442       1    6         0.8              2   \n",
              "\n",
              "   Stay_In_Current_City_Years  Marital_Status  Product_Category_1  \\\n",
              "0                           2             0.0                0.15   \n",
              "1                           2             0.0                0.05   \n",
              "2                           2             0.0                0.60   \n",
              "3                           2             0.0                0.60   \n",
              "4                           4             0.0                0.40   \n",
              "\n",
              "   Product_Category_2  Product_Category_3  Purchase  \n",
              "0            0.546796            0.703791      8370  \n",
              "1            0.333333            0.777778     15200  \n",
              "2            0.546796            0.703791      1422  \n",
              "3            0.777778            0.703791      1057  \n",
              "4            0.546796            0.703791      7969  "
            ]
          },
          "metadata": {
            "tags": []
          },
          "execution_count": 25
        }
      ]
    },
    {
      "cell_type": "code",
      "metadata": {
        "id": "AW2ObG48VUlB",
        "colab_type": "code",
        "outputId": "f5a28ce3-ac3e-48c8-d06b-12a533884e1c",
        "colab": {
          "base_uri": "https://localhost:8080/",
          "height": 444
        }
      },
      "source": [
        "# percentage of entries per column type \n",
        "print('Percentage of Not Null Values per column/feature after preprocessing:')\n",
        "np.around((fullData_preprocessed.notnull().sum() / len(fullData_preprocessed)*100), decimals=1)"
      ],
      "execution_count": 0,
      "outputs": [
        {
          "output_type": "stream",
          "text": [
            "Percentage of Not Null Values per column/feature after preprocessing:\n"
          ],
          "name": "stdout"
        },
        {
          "output_type": "execute_result",
          "data": {
            "text/plain": [
              "User_ID                       100.0\n",
              "Product_ID                    100.0\n",
              "Gender                        100.0\n",
              "Age                           100.0\n",
              "Occupation                    100.0\n",
              "City_Category                 100.0\n",
              "Stay_In_Current_City_Years    100.0\n",
              "Marital_Status                100.0\n",
              "Product_Category_1            100.0\n",
              "Product_Category_2            100.0\n",
              "Product_Category_3            100.0\n",
              "Purchase                      100.0\n",
              "dtype: float64"
            ]
          },
          "metadata": {
            "tags": []
          },
          "execution_count": 26
        }
      ]
    },
    {
      "cell_type": "code",
      "metadata": {
        "id": "K8LrxGdT0pFp",
        "colab_type": "code",
        "colab": {}
      },
      "source": [
        "# and finally, we need to drop redudant ID columns\n",
        "fullData_preprocessed = fullData_preprocessed.drop(ID_col,axis=1)"
      ],
      "execution_count": 0,
      "outputs": []
    },
    {
      "cell_type": "code",
      "metadata": {
        "id": "rxweZ_pCxxa5",
        "colab_type": "code",
        "outputId": "0d09663c-f04f-4e99-e186-af14176f4d6b",
        "colab": {
          "base_uri": "https://localhost:8080/",
          "height": 392
        }
      },
      "source": [
        "# and a check on the different datatypes we now have \n",
        "fullData_preprocessed.dtypes"
      ],
      "execution_count": 0,
      "outputs": [
        {
          "output_type": "execute_result",
          "data": {
            "text/plain": [
              "Gender                          int64\n",
              "Age                             int64\n",
              "Occupation                    float64\n",
              "City_Category                   int64\n",
              "Stay_In_Current_City_Years      int64\n",
              "Marital_Status                float64\n",
              "Product_Category_1            float64\n",
              "Product_Category_2            float64\n",
              "Product_Category_3            float64\n",
              "Purchase                        int64\n",
              "dtype: object"
            ]
          },
          "metadata": {
            "tags": []
          },
          "execution_count": 28
        }
      ]
    },
    {
      "cell_type": "code",
      "metadata": {
        "id": "OzoIUV1G1rbu",
        "colab_type": "code",
        "colab": {}
      },
      "source": [
        "# summarise the dataset\n",
        "fullData_preprocessed.describe()"
      ],
      "execution_count": 0,
      "outputs": []
    },
    {
      "cell_type": "markdown",
      "metadata": {
        "id": "OC173pELBzxS",
        "colab_type": "text"
      },
      "source": [
        "#### 2.2 Split the data into training and testing sets \n",
        "* In order to train our model and see how well it performs, we need to split our data into training and testing sets.\n",
        "* We can then train our model on the training set, and test how well it has generalised to the data on the test set.\n",
        "* There are a number of options for how we can split the data, and for what proportion of our original data we set aside for the test set.\n"
      ]
    },
    {
      "cell_type": "code",
      "metadata": {
        "id": "rYDtbZifBvcO",
        "colab_type": "code",
        "colab": {}
      },
      "source": [
        "# here we need to drop our target variable from the X dataset\n",
        "X = fullData_preprocessed.drop(['Purchase'],axis=1)\n",
        "\n",
        "# get our target variable\n",
        "y = fullData_preprocessed['Purchase']"
      ],
      "execution_count": 0,
      "outputs": []
    },
    {
      "cell_type": "code",
      "metadata": {
        "id": "rVGYyC7Zu2q0",
        "colab_type": "code",
        "outputId": "04b8b22e-32fe-4121-bc64-c607df29497e",
        "colab": {
          "base_uri": "https://localhost:8080/",
          "height": 232
        }
      },
      "source": [
        "print ('X: ', X.shape)\n",
        "print ('y: ', y.shape)"
      ],
      "execution_count": 0,
      "outputs": [
        {
          "output_type": "stream",
          "text": [
            "X:  (550068, 9)\n",
            "y:  (550068,)\n"
          ],
          "name": "stdout"
        }
      ]
    },
    {
      "cell_type": "code",
      "metadata": {
        "id": "51LuckaGg6BO",
        "colab_type": "code",
        "colab": {}
      },
      "source": [
        "# \n",
        "from sklearn.model_selection import train_test_split \n",
        "# \n",
        "X_train, X_test, y_train, y_test = train_test_split(X, y, test_size=0.30, random_state=42)"
      ],
      "execution_count": 0,
      "outputs": []
    },
    {
      "cell_type": "code",
      "metadata": {
        "id": "vIBpJwa4Geqs",
        "colab_type": "code",
        "outputId": "29514c00-ae46-49b3-8631-f7708ac7520d",
        "colab": {
          "base_uri": "https://localhost:8080/",
          "height": 340
        }
      },
      "source": [
        "# get shape of test and training sets\n",
        "print('Training Set:')\n",
        "print('Number of datapoints: ', X_train.shape[0])\n",
        "print('Number of features: ', X_train.shape[1])\n",
        "print('\\n')\n",
        "print('Test Set:')\n",
        "print('Number of datapoints: ', X_test.shape[0])\n",
        "print('Number of features: ', X_test.shape[1])"
      ],
      "execution_count": 0,
      "outputs": [
        {
          "output_type": "stream",
          "text": [
            "Training Set:\n",
            "Number of datapoints:  385047\n",
            "Number of features:  9\n",
            "\n",
            "\n",
            "Test Set:\n",
            "Number of datapoints:  165021\n",
            "Number of features:  9\n"
          ],
          "name": "stdout"
        }
      ]
    },
    {
      "cell_type": "markdown",
      "metadata": {
        "id": "4HPTAyhFIUhF",
        "colab_type": "text"
      },
      "source": [
        "**EXERCISE 2.2:**  Read the documentation for the `train_test_split` function [here](http://scikit-learn.org/stable/modules/generated/sklearn.model_selection.train_test_split.html) and add comments to the code above to improve your understanding \n",
        "\n",
        "---\n",
        "\n",
        "**ANSWER:**\n",
        "*Input in to  code cell above*\n",
        "\n"
      ]
    },
    {
      "cell_type": "markdown",
      "metadata": {
        "id": "efvCE5NAKTeN",
        "colab_type": "text"
      },
      "source": [
        "### 3. Build Model, train and predict \n",
        "**Aim:** \n",
        "* To build and compare different machine learning models\n",
        "* To understand the steps required to define, train and use a model to predict values\n",
        "* To introduce the idea of evaluation metrics for assessing how well a model performs\n",
        "\n",
        "\n",
        "---\n",
        "* Building a model in `sklearn` involves:\n",
        "  * defining / instantiating the model we want to use and its parameters\n",
        "  * fitting the model we have developed to our training set \n",
        "* We can then use the model to predict scores against our test set and assess how good it is\n",
        "* To do this, we need to define an evaluation metric. There are a number of different options, and they differ for both regression and classification problems. This score will be what we use to select our best model, and the best parameters. \n"
      ]
    },
    {
      "cell_type": "markdown",
      "metadata": {
        "id": "D86YSFiHNtrY",
        "colab_type": "text"
      },
      "source": [
        "#### 3.1 Build a baseline model"
      ]
    },
    {
      "cell_type": "code",
      "metadata": {
        "id": "6aypVMSdOBbd",
        "colab_type": "code",
        "colab": {}
      },
      "source": [
        "# import model from sklearn\n",
        "from sklearn.linear_model import LinearRegression\n",
        "\n",
        "# instantiate model\n",
        "baseline = LinearRegression()"
      ],
      "execution_count": 0,
      "outputs": []
    },
    {
      "cell_type": "code",
      "metadata": {
        "id": "ArV6fZq-OBqI",
        "colab_type": "code",
        "outputId": "a93d1e9e-1ad9-4bf3-f7b9-672536f1c226",
        "colab": {
          "base_uri": "https://localhost:8080/",
          "height": 135
        }
      },
      "source": [
        "# fit model - here we are training our model on our split data, but just the training set\n",
        "baseline = baseline.fit(X_train, y_train)\n",
        "baseline"
      ],
      "execution_count": 0,
      "outputs": [
        {
          "output_type": "execute_result",
          "data": {
            "text/plain": [
              "LinearRegression(copy_X=True, fit_intercept=True, n_jobs=1, normalize=False)"
            ]
          },
          "metadata": {
            "tags": []
          },
          "execution_count": 34
        }
      ]
    },
    {
      "cell_type": "code",
      "metadata": {
        "id": "Xe2o8tQbOHSf",
        "colab_type": "code",
        "outputId": "d64718ed-a578-4fdf-9971-a10ef632b0a8",
        "colab": {
          "base_uri": "https://localhost:8080/",
          "height": 135
        }
      },
      "source": [
        "# given our fitted model, how well will it perform - first step, import metrics \n",
        "from sklearn import metrics  \n",
        "\n",
        "# create a prediction of the Purchase value on a new set of input variables, using our model \n",
        "predict_lr = baseline.predict(X_test)\n",
        "\n",
        "# get a score by comparing our predict against actual. We get the square root of the MSE score to give us RSME\n",
        "score_lr = np.sqrt(metrics.mean_squared_error(y_test,predict_lr))\n",
        "\n",
        "# print out the score \n",
        "print('RMSE score for {} is:'.format(baseline.__class__.__name__),np.round((score_lr), decimals=2))"
      ],
      "execution_count": 0,
      "outputs": [
        {
          "output_type": "stream",
          "text": [
            "RMSE score for LinearRegression is: 4691.3\n"
          ],
          "name": "stdout"
        }
      ]
    },
    {
      "cell_type": "markdown",
      "metadata": {
        "id": "wfiZwLheCDBj",
        "colab_type": "text"
      },
      "source": [
        "#### 3.2 Build a model with Random Forest"
      ]
    },
    {
      "cell_type": "code",
      "metadata": {
        "id": "6EIZD3_3B_Dt",
        "colab_type": "code",
        "outputId": "f3c751cb-07be-4d04-cd4d-7f3c2a568c6d",
        "colab": {
          "base_uri": "https://localhost:8080/",
          "height": 223
        }
      },
      "source": [
        "#import necessary libraries to build model\n",
        "from sklearn.ensemble import RandomForestRegressor\n",
        "\n",
        "# instantiate model\n",
        "rf = RandomForestRegressor(n_estimators=10)\n",
        "\n",
        "# fit model\n",
        "rf = rf.fit(X_train, y_train)\n",
        "\n",
        "# this method also gives us the parameters of the model fit to the data \n",
        "rf.get_params"
      ],
      "execution_count": 0,
      "outputs": [
        {
          "output_type": "execute_result",
          "data": {
            "text/plain": [
              "<bound method BaseEstimator.get_params of RandomForestRegressor(bootstrap=True, criterion='mse', max_depth=None,\n",
              "           max_features='auto', max_leaf_nodes=None,\n",
              "           min_impurity_decrease=0.0, min_impurity_split=None,\n",
              "           min_samples_leaf=1, min_samples_split=2,\n",
              "           min_weight_fraction_leaf=0.0, n_estimators=10, n_jobs=1,\n",
              "           oob_score=False, random_state=None, verbose=0, warm_start=False)>"
            ]
          },
          "metadata": {
            "tags": []
          },
          "execution_count": 36
        }
      ]
    },
    {
      "cell_type": "code",
      "metadata": {
        "id": "59w5xIFWOmhf",
        "colab_type": "code",
        "outputId": "ec21fdd4-233b-4c99-c103-eb0d6e99d1da",
        "colab": {
          "base_uri": "https://localhost:8080/",
          "height": 135
        }
      },
      "source": [
        "# create a prediction of the Purchase value on a new set of input variables, using our model \n",
        "predict_rf = rf.predict(X_test)\n",
        "\n",
        "# get a score by comparing our predict against actual. We get the square root of the MSE score to give us RSME\n",
        "score_rf = np.sqrt(metrics.mean_squared_error(y_test,predict_rf))\n",
        "\n",
        "# print out the score \n",
        "print('RMSE score for {} is:'.format(rf.__class__.__name__),np.round((score_rf), decimals=2))"
      ],
      "execution_count": 0,
      "outputs": [
        {
          "output_type": "stream",
          "text": [
            "RMSE score for RandomForestRegressor is: 3105.89\n"
          ],
          "name": "stdout"
        }
      ]
    },
    {
      "cell_type": "markdown",
      "metadata": {
        "id": "Mze85juqOzcm",
        "colab_type": "text"
      },
      "source": [
        "**EXERCISE 3.2:** sklearn models have a number of different methods and attributes associated with them. Look up and call some of the methods and attributes associated with the [RandomForestRegressor](http://scikit-learn.org/stable/modules/generated/sklearn.ensemble.RandomForestRegressor.html)\n",
        "\n",
        "---\n",
        "\n",
        "**ANSWER:**\n",
        "*Use cell below for answer* \n"
      ]
    },
    {
      "cell_type": "code",
      "metadata": {
        "id": "xk-i-flCPXOz",
        "colab_type": "code",
        "colab": {}
      },
      "source": [
        "## code here for using methods and attributes  \n"
      ],
      "execution_count": 0,
      "outputs": []
    },
    {
      "cell_type": "markdown",
      "metadata": {
        "id": "UvbNCuy9rCyc",
        "colab_type": "text"
      },
      "source": [
        "#### IS THIS A GOOD SCORE? WHAT OTHER METRICS ARE AVAILABLE?\n",
        "* Let's plot the predicted against actual values\n",
        "* Then plot both the predicted and actual values on the same plot\n",
        "* We will need to use a subset of the data to make the plots clearer"
      ]
    },
    {
      "cell_type": "code",
      "metadata": {
        "id": "LJysg4Vy_4M7",
        "colab_type": "code",
        "colab": {}
      },
      "source": [
        "# lets trim the data points\n",
        "end_value = 1000\n",
        "\n",
        "# the x test data points (known)\n",
        "y_short = y_test[0:end_value]\n",
        "\n",
        "# the first x predictions using LR\n",
        "lr_short = predict_lr[0:end_value]\n",
        "\n",
        "# the first x prediction using RF\n",
        "rf_short = predict_rf[0:end_value]"
      ],
      "execution_count": 0,
      "outputs": []
    },
    {
      "cell_type": "markdown",
      "metadata": {
        "id": "vvO5H08fE98n",
        "colab_type": "text"
      },
      "source": [
        "##### Linear Regression"
      ]
    },
    {
      "cell_type": "code",
      "metadata": {
        "id": "cnq68h_PrRvH",
        "colab_type": "code",
        "outputId": "1e9333b8-4f2a-454c-f0fc-f7d92ce22e8a",
        "colab": {
          "base_uri": "https://localhost:8080/",
          "height": 552
        }
      },
      "source": [
        "# lets plot the predicted results against the actual for linear regression \n",
        "import matplotlib.pyplot as plt\n",
        "\n",
        "fig, (ax1, ax2) = plt.subplots(1, 2, figsize=(15,8))\n",
        "\n",
        "ax1.set_title(\"Actual vs Predicted for Linear Regression Model\")\n",
        "ax1.scatter(y_short, lr_short, edgecolors=(0, 0, 0))\n",
        "ax1.plot([y_short.min(), y_short.max()], [y_short.min(), y_short.max()], 'k--', lw=4)\n",
        "ax1.set_xlabel('Actual')\n",
        "ax1.set_ylabel('Predicted')\n",
        "\n",
        "ax2.set_title('Actual and Predicted Values for Linear Regression Model')\n",
        "ax2.scatter(np.arange(0,len(y_short)),y_short, s=10, c='b', marker=\"s\", label='actual')\n",
        "ax2.scatter(np.arange(0,len(y_short)),lr_short, s=10, c='y', marker=\"s\", label='predicted')\n",
        "ax2.legend(loc='upper left');\n",
        "#plt.show()"
      ],
      "execution_count": 0,
      "outputs": [
        {
          "output_type": "display_data",
          "data": {
            "image/png": "[encoded data removed]",
            "text/plain": [
              "<matplotlib.figure.Figure at 0x7ffb1b32ff28>"
            ]
          },
          "metadata": {
            "tags": []
          }
        }
      ]
    },
    {
      "cell_type": "markdown",
      "metadata": {
        "id": "X5S1vrKhFHeh",
        "colab_type": "text"
      },
      "source": [
        "##### Metrics:"
      ]
    },
    {
      "cell_type": "code",
      "metadata": {
        "id": "uE0cF-5DJuit",
        "colab_type": "code",
        "outputId": "81fec5cc-196f-4084-85b0-fdef5e8685f4",
        "colab": {
          "base_uri": "https://localhost:8080/",
          "height": 128
        }
      },
      "source": [
        "print('With sklearn...')\n",
        "mse_lr_short = metrics.mean_squared_error(y_short,lr_short)\n",
        "rmse_lr_short = np.sqrt(metrics.mean_squared_error(y_short,lr_short))\n",
        "mae_lr_short = metrics.mean_absolute_error(y_short,lr_short)\n",
        "\n",
        "print('MSE: ', mse_lr_short)\n",
        "print('RMSE: ', rmse_lr_short)\n",
        "print('MAE: ', mae_lr_short)"
      ],
      "execution_count": 0,
      "outputs": [
        {
          "output_type": "stream",
          "text": [
            "With sklearn...\n",
            "MSE:  22603377.782584835\n",
            "RMSE:  4754.300977282027\n",
            "MAE:  3640.085476443343\n"
          ],
          "name": "stdout"
        }
      ]
    },
    {
      "cell_type": "code",
      "metadata": {
        "id": "6sOPaJSREfr1",
        "colab_type": "code",
        "outputId": "cd84a8df-232d-4f24-cea2-18af8f5dba3c",
        "colab": {
          "base_uri": "https://localhost:8080/",
          "height": 128
        }
      },
      "source": [
        "print('By hand...')\n",
        "print('MSE: ', np.sum(np.square(np.abs(y_short - lr_short)))/len(y_short))\n",
        "print('RMSE: ', np.sqrt(np.sum(np.square(np.abs(y_short - lr_short))/len(y_short))))\n",
        "print('MAE: ',np.sum(np.abs(y_short - lr_short))/len(y_short))"
      ],
      "execution_count": 0,
      "outputs": [
        {
          "output_type": "stream",
          "text": [
            "By hand...\n",
            "MSE:  22603377.782584835\n",
            "RMSE:  4754.300977282027\n",
            "MAE:  3640.085476443343\n"
          ],
          "name": "stdout"
        }
      ]
    },
    {
      "cell_type": "markdown",
      "metadata": {
        "id": "7NFXjEa5E6vS",
        "colab_type": "text"
      },
      "source": [
        "##### Random Forest"
      ]
    },
    {
      "cell_type": "code",
      "metadata": {
        "id": "tuCrH_LQsZ79",
        "colab_type": "code",
        "outputId": "e1ecdb93-5590-443c-d48e-121242d9eb9e",
        "colab": {
          "base_uri": "https://localhost:8080/",
          "height": 532
        }
      },
      "source": [
        "# lets do it again for random forest \n",
        "\n",
        "fig, (ax1, ax2) = plt.subplots(1, 2, figsize=(15,8))\n",
        "\n",
        "ax1.set_title(\"Actual vs Predicted for Random Forest Model\")\n",
        "ax1.scatter(y_short, rf_short, edgecolors=(0, 0, 0))\n",
        "ax1.plot([y_short.min(), y_short.max()], [y_short.min(), y_short.max()], 'k--', lw=4)\n",
        "ax1.set_xlabel('Actual')\n",
        "ax1.set_ylabel('Predicted')\n",
        "\n",
        "ax2.set_title('Actual and Predicted Values for Random Forest Model')\n",
        "ax2.scatter(np.arange(0,len(y_short)),y_short, s=10, c='b', marker=\"s\", label='actual')\n",
        "ax2.scatter(np.arange(0,len(y_short)),rf_short, s=10, c='y', marker=\"s\", label='predicted')\n",
        "ax2.legend(loc='upper left');\n",
        "#plt.show()"
      ],
      "execution_count": 0,
      "outputs": [
        {
          "output_type": "display_data",
          "data": {
            "image/png": "[encoded data removed]",
            "text/plain": [
              "<matplotlib.figure.Figure at 0x7ffb1b2428d0>"
            ]
          },
          "metadata": {
            "tags": []
          }
        }
      ]
    },
    {
      "cell_type": "markdown",
      "metadata": {
        "id": "M0m5U3pDPdyL",
        "colab_type": "text"
      },
      "source": [
        "##### Metrics"
      ]
    },
    {
      "cell_type": "code",
      "metadata": {
        "id": "G67YGIrWL6Id",
        "colab_type": "code",
        "outputId": "7c99b18a-9314-45b9-8b9c-5baa081b52b7",
        "colab": {
          "base_uri": "https://localhost:8080/",
          "height": 128
        }
      },
      "source": [
        "print('With sklearn...')\n",
        "mse_rf_short = metrics.mean_squared_error(y_short,rf_short)\n",
        "rmse_rf_short = np.sqrt(metrics.mean_squared_error(y_short,rf_short))\n",
        "mae_rf_short = metrics.mean_absolute_error(y_short,rf_short)\n",
        "\n",
        "print('MSE: ', mse_rf_short)\n",
        "print('RMSE: ', rmse_rf_short)\n",
        "print('MAE: ', mae_rf_short)"
      ],
      "execution_count": 0,
      "outputs": [
        {
          "output_type": "stream",
          "text": [
            "With sklearn...\n",
            "MSE:  9304750.603173478\n",
            "RMSE:  3050.3689290270245\n",
            "MAE:  2239.7002210677592\n"
          ],
          "name": "stdout"
        }
      ]
    },
    {
      "cell_type": "code",
      "metadata": {
        "id": "tIfVzEcOI2jl",
        "colab_type": "code",
        "outputId": "7c2dbb77-a42b-4132-b177-931b9712657d",
        "colab": {
          "base_uri": "https://localhost:8080/",
          "height": 128
        }
      },
      "source": [
        "print('By hand...')\n",
        "print('MSE: ', np.sum(np.square(np.abs(y_short - rf_short)))/len(y_short))\n",
        "print('RMSE: ', np.sqrt(np.sum(np.square(np.abs(y_short - rf_short))/len(y_short))))\n",
        "print('MAE: ',np.sum(np.abs(y_short - rf_short))/len(y_short))"
      ],
      "execution_count": 0,
      "outputs": [
        {
          "output_type": "stream",
          "text": [
            "By hand...\n",
            "MSE:  9304750.603173478\n",
            "RMSE:  3050.3689290270245\n",
            "MAE:  2239.7002210677592\n"
          ],
          "name": "stdout"
        }
      ]
    },
    {
      "cell_type": "markdown",
      "metadata": {
        "id": "9oP1LAVLP_5y",
        "colab_type": "text"
      },
      "source": [
        "##### MAE..."
      ]
    },
    {
      "cell_type": "code",
      "metadata": {
        "id": "TT-9hhu7P_UA",
        "colab_type": "code",
        "outputId": "fb7a38b0-2ece-4dc3-b7a0-ebe5e1198e10",
        "colab": {
          "base_uri": "https://localhost:8080/",
          "height": 1128
        }
      },
      "source": [
        "# with MAE, we get the absolute values of the error\n",
        "np.abs(y_short - rf_short)"
      ],
      "execution_count": 0,
      "outputs": [
        {
          "output_type": "execute_result",
          "data": {
            "text/plain": [
              "84432     5047.433333\n",
              "72724     1970.717143\n",
              "197032     420.695714\n",
              "353704    1220.335172\n",
              "91198     9889.036667\n",
              "263977    1607.937269\n",
              "340456    4027.659393\n",
              "24094     3038.459255\n",
              "157277    2236.610833\n",
              "531759    3474.425476\n",
              "140977    1740.428015\n",
              "414535    1440.381270\n",
              "504520    3417.723333\n",
              "197149    1005.216667\n",
              "241974    2051.142550\n",
              "532759    1465.021450\n",
              "490181    3705.785714\n",
              "261405     761.743333\n",
              "345359     650.900000\n",
              "127565     300.566667\n",
              "396797    4120.698890\n",
              "220547    2243.095000\n",
              "361288    4222.227771\n",
              "217635    5124.710794\n",
              "397197    2412.215473\n",
              "153385    2252.125000\n",
              "380341    1636.700000\n",
              "401168      37.066667\n",
              "325026    4433.895000\n",
              "436361     633.984161\n",
              "             ...     \n",
              "244506    1599.299686\n",
              "505624    1878.191168\n",
              "156809    1937.613090\n",
              "155807    1192.256071\n",
              "509891    2378.175801\n",
              "291716     578.032143\n",
              "343422    1928.541667\n",
              "82263     2284.674049\n",
              "384741    9404.983333\n",
              "181802     106.666667\n",
              "538914     595.300000\n",
              "104799    1605.079762\n",
              "308722     811.766756\n",
              "280526    8904.615000\n",
              "369086    1029.783333\n",
              "400131    2106.500000\n",
              "274076     476.109090\n",
              "361575    2855.874961\n",
              "438511    1066.357408\n",
              "219408    1819.175833\n",
              "243751    4537.200952\n",
              "182409    2677.224916\n",
              "282610     209.771429\n",
              "8922      1845.400000\n",
              "2519      1305.663889\n",
              "349436    4688.991667\n",
              "46400      774.400000\n",
              "315421    2314.893929\n",
              "471410    2429.401432\n",
              "255123    2552.252857\n",
              "Name: Purchase, Length: 1000, dtype: float64"
            ]
          },
          "metadata": {
            "tags": []
          },
          "execution_count": 45
        }
      ]
    },
    {
      "cell_type": "code",
      "metadata": {
        "id": "1Eg0p8nzRzqm",
        "colab_type": "code",
        "outputId": "7ea32a46-91ce-4347-d7d9-03ec6f6d841d",
        "colab": {
          "base_uri": "https://localhost:8080/",
          "height": 75
        }
      },
      "source": [
        "# sum them up \n",
        "np.sum(np.abs(y_short - rf_short))"
      ],
      "execution_count": 0,
      "outputs": [
        {
          "output_type": "execute_result",
          "data": {
            "text/plain": [
              "2239700.221067759"
            ]
          },
          "metadata": {
            "tags": []
          },
          "execution_count": 46
        }
      ]
    },
    {
      "cell_type": "code",
      "metadata": {
        "id": "OZHpx1HARz6w",
        "colab_type": "code",
        "outputId": "f7148807-5e76-4d48-a819-4244ddd6a5c1",
        "colab": {
          "base_uri": "https://localhost:8080/",
          "height": 75
        }
      },
      "source": [
        "# then divide by the total number of predictions/actual values\n",
        "np.sum(np.abs(y_short - rf_short))/len(y_short)"
      ],
      "execution_count": 0,
      "outputs": [
        {
          "output_type": "execute_result",
          "data": {
            "text/plain": [
              "2239.7002210677592"
            ]
          },
          "metadata": {
            "tags": []
          },
          "execution_count": 47
        }
      ]
    },
    {
      "cell_type": "markdown",
      "metadata": {
        "id": "alOIoHnbRuPQ",
        "colab_type": "text"
      },
      "source": [
        "##### RMSE...."
      ]
    },
    {
      "cell_type": "code",
      "metadata": {
        "id": "HuHmSN9hNCpg",
        "colab_type": "code",
        "outputId": "c50ab136-86ed-49b5-f26a-cba21fcb388e",
        "colab": {
          "base_uri": "https://localhost:8080/",
          "height": 1128
        }
      },
      "source": [
        "# with RMSE, we get the absolute values of the error\n",
        "np.abs(y_short - rf_short)"
      ],
      "execution_count": 0,
      "outputs": [
        {
          "output_type": "execute_result",
          "data": {
            "text/plain": [
              "84432     5047.433333\n",
              "72724     1970.717143\n",
              "197032     420.695714\n",
              "353704    1220.335172\n",
              "91198     9889.036667\n",
              "263977    1607.937269\n",
              "340456    4027.659393\n",
              "24094     3038.459255\n",
              "157277    2236.610833\n",
              "531759    3474.425476\n",
              "140977    1740.428015\n",
              "414535    1440.381270\n",
              "504520    3417.723333\n",
              "197149    1005.216667\n",
              "241974    2051.142550\n",
              "532759    1465.021450\n",
              "490181    3705.785714\n",
              "261405     761.743333\n",
              "345359     650.900000\n",
              "127565     300.566667\n",
              "396797    4120.698890\n",
              "220547    2243.095000\n",
              "361288    4222.227771\n",
              "217635    5124.710794\n",
              "397197    2412.215473\n",
              "153385    2252.125000\n",
              "380341    1636.700000\n",
              "401168      37.066667\n",
              "325026    4433.895000\n",
              "436361     633.984161\n",
              "             ...     \n",
              "244506    1599.299686\n",
              "505624    1878.191168\n",
              "156809    1937.613090\n",
              "155807    1192.256071\n",
              "509891    2378.175801\n",
              "291716     578.032143\n",
              "343422    1928.541667\n",
              "82263     2284.674049\n",
              "384741    9404.983333\n",
              "181802     106.666667\n",
              "538914     595.300000\n",
              "104799    1605.079762\n",
              "308722     811.766756\n",
              "280526    8904.615000\n",
              "369086    1029.783333\n",
              "400131    2106.500000\n",
              "274076     476.109090\n",
              "361575    2855.874961\n",
              "438511    1066.357408\n",
              "219408    1819.175833\n",
              "243751    4537.200952\n",
              "182409    2677.224916\n",
              "282610     209.771429\n",
              "8922      1845.400000\n",
              "2519      1305.663889\n",
              "349436    4688.991667\n",
              "46400      774.400000\n",
              "315421    2314.893929\n",
              "471410    2429.401432\n",
              "255123    2552.252857\n",
              "Name: Purchase, Length: 1000, dtype: float64"
            ]
          },
          "metadata": {
            "tags": []
          },
          "execution_count": 48
        }
      ]
    },
    {
      "cell_type": "code",
      "metadata": {
        "id": "MIOn6cOCRQhJ",
        "colab_type": "code",
        "outputId": "ca7ac020-7b7b-473f-bf89-22a1dff3574e",
        "colab": {
          "base_uri": "https://localhost:8080/",
          "height": 1128
        }
      },
      "source": [
        "# then square them - giving even higher values to larger errors\n",
        "np.square(np.abs(y_short - rf_short))"
      ],
      "execution_count": 0,
      "outputs": [
        {
          "output_type": "execute_result",
          "data": {
            "text/plain": [
              "84432     2.547658e+07\n",
              "72724     3.883726e+06\n",
              "197032    1.769849e+05\n",
              "353704    1.489218e+06\n",
              "91198     9.779305e+07\n",
              "263977    2.585462e+06\n",
              "340456    1.622204e+07\n",
              "24094     9.232235e+06\n",
              "157277    5.002428e+06\n",
              "531759    1.207163e+07\n",
              "140977    3.029090e+06\n",
              "414535    2.074698e+06\n",
              "504520    1.168083e+07\n",
              "197149    1.010461e+06\n",
              "241974    4.207186e+06\n",
              "532759    2.146288e+06\n",
              "490181    1.373285e+07\n",
              "261405    5.802529e+05\n",
              "345359    4.236708e+05\n",
              "127565    9.034032e+04\n",
              "396797    1.698016e+07\n",
              "220547    5.031475e+06\n",
              "361288    1.782721e+07\n",
              "217635    2.626266e+07\n",
              "397197    5.818783e+06\n",
              "153385    5.072067e+06\n",
              "380341    2.678787e+06\n",
              "401168    1.373938e+03\n",
              "325026    1.965942e+07\n",
              "436361    4.019359e+05\n",
              "              ...     \n",
              "244506    2.557759e+06\n",
              "505624    3.527602e+06\n",
              "156809    3.754344e+06\n",
              "155807    1.421475e+06\n",
              "509891    5.655720e+06\n",
              "291716    3.341212e+05\n",
              "343422    3.719273e+06\n",
              "82263     5.219736e+06\n",
              "384741    8.845371e+07\n",
              "181802    1.137778e+04\n",
              "538914    3.543821e+05\n",
              "104799    2.576281e+06\n",
              "308722    6.589653e+05\n",
              "280526    7.929217e+07\n",
              "369086    1.060454e+06\n",
              "400131    4.437342e+06\n",
              "274076    2.266799e+05\n",
              "361575    8.156022e+06\n",
              "438511    1.137118e+06\n",
              "219408    3.309401e+06\n",
              "243751    2.058619e+07\n",
              "182409    7.167533e+06\n",
              "282610    4.400405e+04\n",
              "8922      3.405501e+06\n",
              "2519      1.704758e+06\n",
              "349436    2.198664e+07\n",
              "46400     5.996954e+05\n",
              "315421    5.358734e+06\n",
              "471410    5.901991e+06\n",
              "255123    6.513995e+06\n",
              "Name: Purchase, Length: 1000, dtype: float64"
            ]
          },
          "metadata": {
            "tags": []
          },
          "execution_count": 49
        }
      ]
    },
    {
      "cell_type": "code",
      "metadata": {
        "id": "AGjK0IjKRQsY",
        "colab_type": "code",
        "outputId": "b08c20b3-8b3e-49c7-d980-c169ee80df5f",
        "colab": {
          "base_uri": "https://localhost:8080/",
          "height": 75
        }
      },
      "source": [
        "# then sum them\n",
        "np.sum(np.square(np.abs(y_short - rf_short)))"
      ],
      "execution_count": 0,
      "outputs": [
        {
          "output_type": "execute_result",
          "data": {
            "text/plain": [
              "9304750603.173477"
            ]
          },
          "metadata": {
            "tags": []
          },
          "execution_count": 50
        }
      ]
    },
    {
      "cell_type": "code",
      "metadata": {
        "id": "0US5NfeVRQpP",
        "colab_type": "code",
        "outputId": "73d1be04-d7e8-4e14-a4d5-455db5368e24",
        "colab": {
          "base_uri": "https://localhost:8080/",
          "height": 75
        }
      },
      "source": [
        "# then divided by them by the total number of predictions/actual values\n",
        "np.sum(np.square(np.abs(y_short - rf_short))/len(y_short))       "
      ],
      "execution_count": 0,
      "outputs": [
        {
          "output_type": "execute_result",
          "data": {
            "text/plain": [
              "9304750.603173476"
            ]
          },
          "metadata": {
            "tags": []
          },
          "execution_count": 51
        }
      ]
    },
    {
      "cell_type": "code",
      "metadata": {
        "id": "XWkKR92GRQmT",
        "colab_type": "code",
        "outputId": "8a275dec-7f06-4d96-910a-11c1001ef4c2",
        "colab": {
          "base_uri": "https://localhost:8080/",
          "height": 75
        }
      },
      "source": [
        "# then take the square root of that value\n",
        "np.sqrt(np.sum(np.square(np.abs(y_short - rf_short))/len(y_short)))"
      ],
      "execution_count": 0,
      "outputs": [
        {
          "output_type": "execute_result",
          "data": {
            "text/plain": [
              "3050.3689290270245"
            ]
          },
          "metadata": {
            "tags": []
          },
          "execution_count": 52
        }
      ]
    },
    {
      "cell_type": "markdown",
      "metadata": {
        "id": "txJcb6kRQqY2",
        "colab_type": "text"
      },
      "source": [
        "#### 3.3 Build you own model"
      ]
    },
    {
      "cell_type": "markdown",
      "metadata": {
        "id": "rpjYuvoGO07q",
        "colab_type": "text"
      },
      "source": [
        "**EXERCISE 3.3:** Idenitfy another regressor model, instantiate it, fit it to the data, and use it to predict scores. If time, explore the parameters of the model, its attributes and methods.\n",
        "\n",
        "---\n",
        "\n",
        "**ANSWER:**\n",
        "*Use cell below for answer* "
      ]
    },
    {
      "cell_type": "code",
      "metadata": {
        "id": "gTHJaQhrRV-v",
        "colab_type": "code",
        "colab": {}
      },
      "source": [
        "# code here to build your own model\n"
      ],
      "execution_count": 0,
      "outputs": []
    },
    {
      "cell_type": "code",
      "metadata": {
        "id": "_LOVr8k99x-h",
        "colab_type": "code",
        "colab": {}
      },
      "source": [
        ""
      ],
      "execution_count": 0,
      "outputs": []
    },
    {
      "cell_type": "code",
      "metadata": {
        "id": "Jxh41DWr9zLD",
        "colab_type": "code",
        "colab": {}
      },
      "source": [
        ""
      ],
      "execution_count": 0,
      "outputs": []
    },
    {
      "cell_type": "code",
      "metadata": {
        "id": "Cilb0PeU9yRE",
        "colab_type": "code",
        "colab": {}
      },
      "source": [
        ""
      ],
      "execution_count": 0,
      "outputs": []
    },
    {
      "cell_type": "markdown",
      "metadata": {
        "id": "6_lU-56oRpuy",
        "colab_type": "text"
      },
      "source": [
        "### 4. Refine Model and Data\n",
        "**AIM:** \n",
        "* Understand how we can tune the parameters of a model\n",
        "* Understand that there are other options to split test and training data\n",
        "\n",
        "---\n",
        "**Hyperparameters**\n",
        "* We can refine our model by tuning the hyperparameters, some of which can have a big effect on the performance. Think of hyperparameters as parameters that are not learned through training by the model but set by us prior to training. \n",
        "* Tuning can be done 'by hand', or using a `GridSearch` function to test multiple parameters during the same operation\n",
        "\n",
        "**Cross-Validation Options**\n",
        "* We can also refine our model performance by looking at how we train our models. \n",
        "* Section *2.2* referred to other ways of splitting the dataset into test and training sets. `k-fold Cross-Validation` is one way of doing this, and you can find out more about it [here](https://sebastianraschka.com/blog/2016/model-evaluation-selection-part3.html)"
      ]
    },
    {
      "cell_type": "markdown",
      "metadata": {
        "id": "ZrvV10V9STGE",
        "colab_type": "text"
      },
      "source": [
        "#### 4.1 Hyperparameter tuning using Grid Search\n",
        "\n",
        "As a rule, increasing min or reducing max hyperparameters will regularize the model. The parameters tuned below are:\n",
        "* n_estimators: this controls the number of trees in the forest\n",
        "* criterion: this measures the quality of the split and can be either 'mae' or 'mse' \n",
        "* max_features: to test the maximum number of features that are evaluated for splitting at each node "
      ]
    },
    {
      "cell_type": "code",
      "metadata": {
        "id": "DQFmlwJgSeZM",
        "colab_type": "code",
        "colab": {}
      },
      "source": [
        "# create our random forest model\n",
        "rf_gs = RandomForestRegressor()\n",
        "\n",
        "# we need to specify the parameters we want to tune, as a dictionary \n",
        "parameters_rf = {'n_estimators': [10,50,100], 'criterion': ['mse','mae'], 'max_features': ['auto','sqrt','log2']}"
      ],
      "execution_count": 0,
      "outputs": []
    },
    {
      "cell_type": "code",
      "metadata": {
        "id": "S8ZaxwtwUKSl",
        "colab_type": "code",
        "colab": {}
      },
      "source": [
        "# we need to define a scoring criteria for the gridsearch function, using the make_scorer function\n",
        "from sklearn.metrics import make_scorer\n",
        "\n",
        "# note our scoring function is MSE\n",
        "scorer = make_scorer(metrics.mean_squared_error)"
      ],
      "execution_count": 0,
      "outputs": []
    },
    {
      "cell_type": "code",
      "metadata": {
        "id": "iu6u3kTrV2rP",
        "colab_type": "code",
        "outputId": "61a1cf4d-a639-40b2-cdef-5b9756480f19",
        "colab": {
          "base_uri": "https://localhost:8080/",
          "height": 311
        }
      },
      "source": [
        "# import necessary library\n",
        "from sklearn.model_selection import GridSearchCV\n",
        "\n",
        "# we create our gridsearch object \n",
        "grid_obj = GridSearchCV(rf_gs, parameters_rf, scoring=scorer)\n",
        "grid_obj"
      ],
      "execution_count": 0,
      "outputs": [
        {
          "output_type": "execute_result",
          "data": {
            "text/plain": [
              "GridSearchCV(cv=None, error_score='raise',\n",
              "       estimator=RandomForestRegressor(bootstrap=True, criterion='mse', max_depth=None,\n",
              "           max_features='auto', max_leaf_nodes=None,\n",
              "           min_impurity_decrease=0.0, min_impurity_split=None,\n",
              "           min_samples_leaf=1, min_samples_split=2,\n",
              "           min_weight_fraction_leaf=0.0, n_estimators=10, n_jobs=1,\n",
              "           oob_score=False, random_state=None, verbose=0, warm_start=False),\n",
              "       fit_params=None, iid=True, n_jobs=1,\n",
              "       param_grid={'n_estimators': [10, 50, 100], 'criterion': ['mse', 'mae'], 'max_features': ['auto', 'sqrt', 'log2']},\n",
              "       pre_dispatch='2*n_jobs', refit=True, return_train_score='warn',\n",
              "       scoring=make_scorer(mean_squared_error), verbose=0)"
            ]
          },
          "metadata": {
            "tags": []
          },
          "execution_count": 55
        }
      ]
    },
    {
      "cell_type": "code",
      "metadata": {
        "id": "mXN5-P7Kc397",
        "colab_type": "code",
        "colab": {}
      },
      "source": [
        "# create a subset of the data to do the grid searc\n",
        "X_train_gs = X_train[:100]\n",
        "y_train_gs = y_train[:100]"
      ],
      "execution_count": 0,
      "outputs": []
    },
    {
      "cell_type": "code",
      "metadata": {
        "id": "NIkMkluZUKX1",
        "colab_type": "code",
        "colab": {}
      },
      "source": [
        "# fit the gridsearch object to our datatset\n",
        "grid_fit = grid_obj.fit(X_train_gs, y_train_gs)"
      ],
      "execution_count": 0,
      "outputs": []
    },
    {
      "cell_type": "code",
      "metadata": {
        "id": "oNA1mmO1YtB9",
        "colab_type": "code",
        "outputId": "be9942e8-7e2d-4b1b-b708-f21795de22ba",
        "colab": {
          "base_uri": "https://localhost:8080/",
          "height": 1753
        }
      },
      "source": [
        "# look at the results:\n",
        "print(\"GridSearch on Random Forest Model:\")\n",
        "\n",
        "# get scores of parameters tested and display as a dataframe\n",
        "cv_results_df = pd.DataFrame(grid_fit.cv_results_) \n",
        "cv_results_df"
      ],
      "execution_count": 0,
      "outputs": [
        {
          "output_type": "stream",
          "text": [
            "GridSearch on Random Forest Model:\n"
          ],
          "name": "stdout"
        },
        {
          "output_type": "stream",
          "text": [
            "/usr/local/lib/python3.6/dist-packages/sklearn/utils/deprecation.py:122: FutureWarning: You are accessing a training score ('mean_train_score'), which will not be available by default any more in 0.21. If you need training scores, please set return_train_score=True\n",
            "  warnings.warn(*warn_args, **warn_kwargs)\n",
            "/usr/local/lib/python3.6/dist-packages/sklearn/utils/deprecation.py:122: FutureWarning: You are accessing a training score ('split0_train_score'), which will not be available by default any more in 0.21. If you need training scores, please set return_train_score=True\n",
            "  warnings.warn(*warn_args, **warn_kwargs)\n",
            "/usr/local/lib/python3.6/dist-packages/sklearn/utils/deprecation.py:122: FutureWarning: You are accessing a training score ('split1_train_score'), which will not be available by default any more in 0.21. If you need training scores, please set return_train_score=True\n",
            "  warnings.warn(*warn_args, **warn_kwargs)\n",
            "/usr/local/lib/python3.6/dist-packages/sklearn/utils/deprecation.py:122: FutureWarning: You are accessing a training score ('split2_train_score'), which will not be available by default any more in 0.21. If you need training scores, please set return_train_score=True\n",
            "  warnings.warn(*warn_args, **warn_kwargs)\n",
            "/usr/local/lib/python3.6/dist-packages/sklearn/utils/deprecation.py:122: FutureWarning: You are accessing a training score ('std_train_score'), which will not be available by default any more in 0.21. If you need training scores, please set return_train_score=True\n",
            "  warnings.warn(*warn_args, **warn_kwargs)\n"
          ],
          "name": "stderr"
        },
        {
          "output_type": "execute_result",
          "data": {
            "text/html": [
              "<div>\n",
              "<style scoped>\n",
              "    .dataframe tbody tr th:only-of-type {\n",
              "        vertical-align: middle;\n",
              "    }\n",
              "\n",
              "    .dataframe tbody tr th {\n",
              "        vertical-align: top;\n",
              "    }\n",
              "\n",
              "    .dataframe thead th {\n",
              "        text-align: right;\n",
              "    }\n",
              "</style>\n",
              "<table border=\"1\" class=\"dataframe\">\n",
              "  <thead>\n",
              "    <tr style=\"text-align: right;\">\n",
              "      <th></th>\n",
              "      <th>mean_fit_time</th>\n",
              "      <th>mean_score_time</th>\n",
              "      <th>mean_test_score</th>\n",
              "      <th>mean_train_score</th>\n",
              "      <th>param_criterion</th>\n",
              "      <th>param_max_features</th>\n",
              "      <th>param_n_estimators</th>\n",
              "      <th>params</th>\n",
              "      <th>rank_test_score</th>\n",
              "      <th>split0_test_score</th>\n",
              "      <th>split0_train_score</th>\n",
              "      <th>split1_test_score</th>\n",
              "      <th>split1_train_score</th>\n",
              "      <th>split2_test_score</th>\n",
              "      <th>split2_train_score</th>\n",
              "      <th>std_fit_time</th>\n",
              "      <th>std_score_time</th>\n",
              "      <th>std_test_score</th>\n",
              "      <th>std_train_score</th>\n",
              "    </tr>\n",
              "  </thead>\n",
              "  <tbody>\n",
              "    <tr>\n",
              "      <th>0</th>\n",
              "      <td>0.013182</td>\n",
              "      <td>0.001047</td>\n",
              "      <td>1.878744e+07</td>\n",
              "      <td>3.656608e+06</td>\n",
              "      <td>mse</td>\n",
              "      <td>auto</td>\n",
              "      <td>10</td>\n",
              "      <td>{'criterion': 'mse', 'max_features': 'auto', '...</td>\n",
              "      <td>4</td>\n",
              "      <td>1.169400e+07</td>\n",
              "      <td>3.457273e+06</td>\n",
              "      <td>2.374630e+07</td>\n",
              "      <td>4.207008e+06</td>\n",
              "      <td>2.113699e+07</td>\n",
              "      <td>3.305543e+06</td>\n",
              "      <td>0.002255</td>\n",
              "      <td>0.000330</td>\n",
              "      <td>5.200407e+06</td>\n",
              "      <td>394090.421448</td>\n",
              "    </tr>\n",
              "    <tr>\n",
              "      <th>1</th>\n",
              "      <td>0.048794</td>\n",
              "      <td>0.002143</td>\n",
              "      <td>1.744900e+07</td>\n",
              "      <td>3.111477e+06</td>\n",
              "      <td>mse</td>\n",
              "      <td>auto</td>\n",
              "      <td>50</td>\n",
              "      <td>{'criterion': 'mse', 'max_features': 'auto', '...</td>\n",
              "      <td>14</td>\n",
              "      <td>1.264693e+07</td>\n",
              "      <td>4.020348e+06</td>\n",
              "      <td>2.041389e+07</td>\n",
              "      <td>3.056241e+06</td>\n",
              "      <td>1.943170e+07</td>\n",
              "      <td>2.257843e+06</td>\n",
              "      <td>0.001298</td>\n",
              "      <td>0.000129</td>\n",
              "      <td>3.469659e+06</td>\n",
              "      <td>720599.046481</td>\n",
              "    </tr>\n",
              "    <tr>\n",
              "      <th>2</th>\n",
              "      <td>0.096373</td>\n",
              "      <td>0.003680</td>\n",
              "      <td>1.711334e+07</td>\n",
              "      <td>2.986065e+06</td>\n",
              "      <td>mse</td>\n",
              "      <td>auto</td>\n",
              "      <td>100</td>\n",
              "      <td>{'criterion': 'mse', 'max_features': 'auto', '...</td>\n",
              "      <td>16</td>\n",
              "      <td>1.223014e+07</td>\n",
              "      <td>3.387957e+06</td>\n",
              "      <td>2.024049e+07</td>\n",
              "      <td>3.183377e+06</td>\n",
              "      <td>1.901737e+07</td>\n",
              "      <td>2.386862e+06</td>\n",
              "      <td>0.007204</td>\n",
              "      <td>0.000300</td>\n",
              "      <td>3.539911e+06</td>\n",
              "      <td>431853.945435</td>\n",
              "    </tr>\n",
              "    <tr>\n",
              "      <th>3</th>\n",
              "      <td>0.009412</td>\n",
              "      <td>0.000773</td>\n",
              "      <td>1.832918e+07</td>\n",
              "      <td>3.473778e+06</td>\n",
              "      <td>mse</td>\n",
              "      <td>sqrt</td>\n",
              "      <td>10</td>\n",
              "      <td>{'criterion': 'mse', 'max_features': 'sqrt', '...</td>\n",
              "      <td>5</td>\n",
              "      <td>1.219729e+07</td>\n",
              "      <td>4.177644e+06</td>\n",
              "      <td>2.092206e+07</td>\n",
              "      <td>3.406825e+06</td>\n",
              "      <td>2.205402e+07</td>\n",
              "      <td>2.836864e+06</td>\n",
              "      <td>0.000146</td>\n",
              "      <td>0.000027</td>\n",
              "      <td>4.425059e+06</td>\n",
              "      <td>549414.680864</td>\n",
              "    </tr>\n",
              "    <tr>\n",
              "      <th>4</th>\n",
              "      <td>0.042808</td>\n",
              "      <td>0.002010</td>\n",
              "      <td>1.803183e+07</td>\n",
              "      <td>2.881179e+06</td>\n",
              "      <td>mse</td>\n",
              "      <td>sqrt</td>\n",
              "      <td>50</td>\n",
              "      <td>{'criterion': 'mse', 'max_features': 'sqrt', '...</td>\n",
              "      <td>8</td>\n",
              "      <td>1.297079e+07</td>\n",
              "      <td>3.298386e+06</td>\n",
              "      <td>2.070846e+07</td>\n",
              "      <td>2.606161e+06</td>\n",
              "      <td>2.056960e+07</td>\n",
              "      <td>2.738990e+06</td>\n",
              "      <td>0.000380</td>\n",
              "      <td>0.000196</td>\n",
              "      <td>3.632952e+06</td>\n",
              "      <td>299952.141940</td>\n",
              "    </tr>\n",
              "    <tr>\n",
              "      <th>5</th>\n",
              "      <td>0.084573</td>\n",
              "      <td>0.003241</td>\n",
              "      <td>1.802271e+07</td>\n",
              "      <td>2.836922e+06</td>\n",
              "      <td>mse</td>\n",
              "      <td>sqrt</td>\n",
              "      <td>100</td>\n",
              "      <td>{'criterion': 'mse', 'max_features': 'sqrt', '...</td>\n",
              "      <td>9</td>\n",
              "      <td>1.340884e+07</td>\n",
              "      <td>3.635556e+06</td>\n",
              "      <td>2.116077e+07</td>\n",
              "      <td>2.647879e+06</td>\n",
              "      <td>1.963832e+07</td>\n",
              "      <td>2.227331e+06</td>\n",
              "      <td>0.001064</td>\n",
              "      <td>0.000009</td>\n",
              "      <td>3.368807e+06</td>\n",
              "      <td>590241.649737</td>\n",
              "    </tr>\n",
              "    <tr>\n",
              "      <th>6</th>\n",
              "      <td>0.009427</td>\n",
              "      <td>0.000738</td>\n",
              "      <td>1.959125e+07</td>\n",
              "      <td>3.864453e+06</td>\n",
              "      <td>mse</td>\n",
              "      <td>log2</td>\n",
              "      <td>10</td>\n",
              "      <td>{'criterion': 'mse', 'max_features': 'log2', '...</td>\n",
              "      <td>2</td>\n",
              "      <td>1.372459e+07</td>\n",
              "      <td>4.287271e+06</td>\n",
              "      <td>2.067264e+07</td>\n",
              "      <td>4.279878e+06</td>\n",
              "      <td>2.455429e+07</td>\n",
              "      <td>3.026210e+06</td>\n",
              "      <td>0.000286</td>\n",
              "      <td>0.000016</td>\n",
              "      <td>4.496267e+06</td>\n",
              "      <td>592735.068825</td>\n",
              "    </tr>\n",
              "    <tr>\n",
              "      <th>7</th>\n",
              "      <td>0.042820</td>\n",
              "      <td>0.001863</td>\n",
              "      <td>1.785519e+07</td>\n",
              "      <td>2.902154e+06</td>\n",
              "      <td>mse</td>\n",
              "      <td>log2</td>\n",
              "      <td>50</td>\n",
              "      <td>{'criterion': 'mse', 'max_features': 'log2', '...</td>\n",
              "      <td>10</td>\n",
              "      <td>1.304762e+07</td>\n",
              "      <td>3.470471e+06</td>\n",
              "      <td>1.943015e+07</td>\n",
              "      <td>2.830529e+06</td>\n",
              "      <td>2.123348e+07</td>\n",
              "      <td>2.405460e+06</td>\n",
              "      <td>0.000244</td>\n",
              "      <td>0.000031</td>\n",
              "      <td>3.527482e+06</td>\n",
              "      <td>437728.611338</td>\n",
              "    </tr>\n",
              "    <tr>\n",
              "      <th>8</th>\n",
              "      <td>0.083300</td>\n",
              "      <td>0.003206</td>\n",
              "      <td>1.782506e+07</td>\n",
              "      <td>2.814169e+06</td>\n",
              "      <td>mse</td>\n",
              "      <td>log2</td>\n",
              "      <td>100</td>\n",
              "      <td>{'criterion': 'mse', 'max_features': 'log2', '...</td>\n",
              "      <td>11</td>\n",
              "      <td>1.366086e+07</td>\n",
              "      <td>3.453484e+06</td>\n",
              "      <td>1.985461e+07</td>\n",
              "      <td>2.563985e+06</td>\n",
              "      <td>2.008591e+07</td>\n",
              "      <td>2.425038e+06</td>\n",
              "      <td>0.000250</td>\n",
              "      <td>0.000024</td>\n",
              "      <td>2.990294e+06</td>\n",
              "      <td>455608.777691</td>\n",
              "    </tr>\n",
              "    <tr>\n",
              "      <th>9</th>\n",
              "      <td>0.014471</td>\n",
              "      <td>0.000729</td>\n",
              "      <td>1.819832e+07</td>\n",
              "      <td>4.431467e+06</td>\n",
              "      <td>mae</td>\n",
              "      <td>auto</td>\n",
              "      <td>10</td>\n",
              "      <td>{'criterion': 'mae', 'max_features': 'auto', '...</td>\n",
              "      <td>7</td>\n",
              "      <td>1.144529e+07</td>\n",
              "      <td>5.086611e+06</td>\n",
              "      <td>2.414534e+07</td>\n",
              "      <td>4.838543e+06</td>\n",
              "      <td>1.920898e+07</td>\n",
              "      <td>3.369246e+06</td>\n",
              "      <td>0.000228</td>\n",
              "      <td>0.000007</td>\n",
              "      <td>5.245318e+06</td>\n",
              "      <td>757900.096968</td>\n",
              "    </tr>\n",
              "    <tr>\n",
              "      <th>10</th>\n",
              "      <td>0.068709</td>\n",
              "      <td>0.001865</td>\n",
              "      <td>1.655489e+07</td>\n",
              "      <td>3.244592e+06</td>\n",
              "      <td>mae</td>\n",
              "      <td>auto</td>\n",
              "      <td>50</td>\n",
              "      <td>{'criterion': 'mae', 'max_features': 'auto', '...</td>\n",
              "      <td>18</td>\n",
              "      <td>1.065390e+07</td>\n",
              "      <td>3.886487e+06</td>\n",
              "      <td>2.079777e+07</td>\n",
              "      <td>3.598035e+06</td>\n",
              "      <td>1.839181e+07</td>\n",
              "      <td>2.249253e+06</td>\n",
              "      <td>0.000271</td>\n",
              "      <td>0.000047</td>\n",
              "      <td>4.346671e+06</td>\n",
              "      <td>713594.346145</td>\n",
              "    </tr>\n",
              "    <tr>\n",
              "      <th>11</th>\n",
              "      <td>0.138577</td>\n",
              "      <td>0.003271</td>\n",
              "      <td>1.771313e+07</td>\n",
              "      <td>3.096708e+06</td>\n",
              "      <td>mae</td>\n",
              "      <td>auto</td>\n",
              "      <td>100</td>\n",
              "      <td>{'criterion': 'mae', 'max_features': 'auto', '...</td>\n",
              "      <td>12</td>\n",
              "      <td>1.220187e+07</td>\n",
              "      <td>3.329035e+06</td>\n",
              "      <td>2.153074e+07</td>\n",
              "      <td>3.568125e+06</td>\n",
              "      <td>1.957379e+07</td>\n",
              "      <td>2.392965e+06</td>\n",
              "      <td>0.000769</td>\n",
              "      <td>0.000047</td>\n",
              "      <td>4.034737e+06</td>\n",
              "      <td>507104.064782</td>\n",
              "    </tr>\n",
              "    <tr>\n",
              "      <th>12</th>\n",
              "      <td>0.011476</td>\n",
              "      <td>0.000727</td>\n",
              "      <td>1.828726e+07</td>\n",
              "      <td>3.624284e+06</td>\n",
              "      <td>mae</td>\n",
              "      <td>sqrt</td>\n",
              "      <td>10</td>\n",
              "      <td>{'criterion': 'mae', 'max_features': 'sqrt', '...</td>\n",
              "      <td>6</td>\n",
              "      <td>1.171154e+07</td>\n",
              "      <td>3.671610e+06</td>\n",
              "      <td>2.482568e+07</td>\n",
              "      <td>4.396904e+06</td>\n",
              "      <td>1.852382e+07</td>\n",
              "      <td>2.804338e+06</td>\n",
              "      <td>0.000103</td>\n",
              "      <td>0.000017</td>\n",
              "      <td>5.369160e+06</td>\n",
              "      <td>651023.112535</td>\n",
              "    </tr>\n",
              "    <tr>\n",
              "      <th>13</th>\n",
              "      <td>0.053666</td>\n",
              "      <td>0.001841</td>\n",
              "      <td>1.763916e+07</td>\n",
              "      <td>3.530367e+06</td>\n",
              "      <td>mae</td>\n",
              "      <td>sqrt</td>\n",
              "      <td>50</td>\n",
              "      <td>{'criterion': 'mae', 'max_features': 'sqrt', '...</td>\n",
              "      <td>13</td>\n",
              "      <td>1.399523e+07</td>\n",
              "      <td>4.301523e+06</td>\n",
              "      <td>1.912548e+07</td>\n",
              "      <td>3.210732e+06</td>\n",
              "      <td>1.990721e+07</td>\n",
              "      <td>3.078846e+06</td>\n",
              "      <td>0.000550</td>\n",
              "      <td>0.000020</td>\n",
              "      <td>2.634606e+06</td>\n",
              "      <td>547941.249242</td>\n",
              "    </tr>\n",
              "    <tr>\n",
              "      <th>14</th>\n",
              "      <td>0.117255</td>\n",
              "      <td>0.003823</td>\n",
              "      <td>1.723233e+07</td>\n",
              "      <td>3.552292e+06</td>\n",
              "      <td>mae</td>\n",
              "      <td>sqrt</td>\n",
              "      <td>100</td>\n",
              "      <td>{'criterion': 'mae', 'max_features': 'sqrt', '...</td>\n",
              "      <td>15</td>\n",
              "      <td>1.173377e+07</td>\n",
              "      <td>4.069313e+06</td>\n",
              "      <td>2.133837e+07</td>\n",
              "      <td>3.464382e+06</td>\n",
              "      <td>1.879147e+07</td>\n",
              "      <td>3.123181e+06</td>\n",
              "      <td>0.003483</td>\n",
              "      <td>0.000092</td>\n",
              "      <td>4.079886e+06</td>\n",
              "      <td>391226.561697</td>\n",
              "    </tr>\n",
              "    <tr>\n",
              "      <th>15</th>\n",
              "      <td>0.012959</td>\n",
              "      <td>0.000842</td>\n",
              "      <td>2.008475e+07</td>\n",
              "      <td>4.258223e+06</td>\n",
              "      <td>mae</td>\n",
              "      <td>log2</td>\n",
              "      <td>10</td>\n",
              "      <td>{'criterion': 'mae', 'max_features': 'log2', '...</td>\n",
              "      <td>1</td>\n",
              "      <td>1.279887e+07</td>\n",
              "      <td>5.470830e+06</td>\n",
              "      <td>2.245952e+07</td>\n",
              "      <td>4.166381e+06</td>\n",
              "      <td>2.521666e+07</td>\n",
              "      <td>3.137459e+06</td>\n",
              "      <td>0.000130</td>\n",
              "      <td>0.000021</td>\n",
              "      <td>5.347960e+06</td>\n",
              "      <td>954805.672678</td>\n",
              "    </tr>\n",
              "    <tr>\n",
              "      <th>16</th>\n",
              "      <td>0.058133</td>\n",
              "      <td>0.002174</td>\n",
              "      <td>1.907990e+07</td>\n",
              "      <td>3.711905e+06</td>\n",
              "      <td>mae</td>\n",
              "      <td>log2</td>\n",
              "      <td>50</td>\n",
              "      <td>{'criterion': 'mae', 'max_features': 'log2', '...</td>\n",
              "      <td>3</td>\n",
              "      <td>1.519603e+07</td>\n",
              "      <td>4.384529e+06</td>\n",
              "      <td>2.172331e+07</td>\n",
              "      <td>3.674222e+06</td>\n",
              "      <td>2.043804e+07</td>\n",
              "      <td>3.076963e+06</td>\n",
              "      <td>0.000942</td>\n",
              "      <td>0.000125</td>\n",
              "      <td>2.836076e+06</td>\n",
              "      <td>534475.862119</td>\n",
              "    </tr>\n",
              "    <tr>\n",
              "      <th>17</th>\n",
              "      <td>0.115828</td>\n",
              "      <td>0.003771</td>\n",
              "      <td>1.695624e+07</td>\n",
              "      <td>3.228911e+06</td>\n",
              "      <td>mae</td>\n",
              "      <td>log2</td>\n",
              "      <td>100</td>\n",
              "      <td>{'criterion': 'mae', 'max_features': 'log2', '...</td>\n",
              "      <td>17</td>\n",
              "      <td>1.214686e+07</td>\n",
              "      <td>3.553360e+06</td>\n",
              "      <td>1.976922e+07</td>\n",
              "      <td>3.491307e+06</td>\n",
              "      <td>1.909839e+07</td>\n",
              "      <td>2.642067e+06</td>\n",
              "      <td>0.001427</td>\n",
              "      <td>0.000062</td>\n",
              "      <td>3.462628e+06</td>\n",
              "      <td>415734.116950</td>\n",
              "    </tr>\n",
              "  </tbody>\n",
              "</table>\n",
              "</div>"
            ],
            "text/plain": [
              "    mean_fit_time  mean_score_time  mean_test_score  mean_train_score  \\\n",
              "0        0.013182         0.001047     1.878744e+07      3.656608e+06   \n",
              "1        0.048794         0.002143     1.744900e+07      3.111477e+06   \n",
              "2        0.096373         0.003680     1.711334e+07      2.986065e+06   \n",
              "3        0.009412         0.000773     1.832918e+07      3.473778e+06   \n",
              "4        0.042808         0.002010     1.803183e+07      2.881179e+06   \n",
              "5        0.084573         0.003241     1.802271e+07      2.836922e+06   \n",
              "6        0.009427         0.000738     1.959125e+07      3.864453e+06   \n",
              "7        0.042820         0.001863     1.785519e+07      2.902154e+06   \n",
              "8        0.083300         0.003206     1.782506e+07      2.814169e+06   \n",
              "9        0.014471         0.000729     1.819832e+07      4.431467e+06   \n",
              "10       0.068709         0.001865     1.655489e+07      3.244592e+06   \n",
              "11       0.138577         0.003271     1.771313e+07      3.096708e+06   \n",
              "12       0.011476         0.000727     1.828726e+07      3.624284e+06   \n",
              "13       0.053666         0.001841     1.763916e+07      3.530367e+06   \n",
              "14       0.117255         0.003823     1.723233e+07      3.552292e+06   \n",
              "15       0.012959         0.000842     2.008475e+07      4.258223e+06   \n",
              "16       0.058133         0.002174     1.907990e+07      3.711905e+06   \n",
              "17       0.115828         0.003771     1.695624e+07      3.228911e+06   \n",
              "\n",
              "   param_criterion param_max_features param_n_estimators  \\\n",
              "0              mse               auto                 10   \n",
              "1              mse               auto                 50   \n",
              "2              mse               auto                100   \n",
              "3              mse               sqrt                 10   \n",
              "4              mse               sqrt                 50   \n",
              "5              mse               sqrt                100   \n",
              "6              mse               log2                 10   \n",
              "7              mse               log2                 50   \n",
              "8              mse               log2                100   \n",
              "9              mae               auto                 10   \n",
              "10             mae               auto                 50   \n",
              "11             mae               auto                100   \n",
              "12             mae               sqrt                 10   \n",
              "13             mae               sqrt                 50   \n",
              "14             mae               sqrt                100   \n",
              "15             mae               log2                 10   \n",
              "16             mae               log2                 50   \n",
              "17             mae               log2                100   \n",
              "\n",
              "                                               params  rank_test_score  \\\n",
              "0   {'criterion': 'mse', 'max_features': 'auto', '...                4   \n",
              "1   {'criterion': 'mse', 'max_features': 'auto', '...               14   \n",
              "2   {'criterion': 'mse', 'max_features': 'auto', '...               16   \n",
              "3   {'criterion': 'mse', 'max_features': 'sqrt', '...                5   \n",
              "4   {'criterion': 'mse', 'max_features': 'sqrt', '...                8   \n",
              "5   {'criterion': 'mse', 'max_features': 'sqrt', '...                9   \n",
              "6   {'criterion': 'mse', 'max_features': 'log2', '...                2   \n",
              "7   {'criterion': 'mse', 'max_features': 'log2', '...               10   \n",
              "8   {'criterion': 'mse', 'max_features': 'log2', '...               11   \n",
              "9   {'criterion': 'mae', 'max_features': 'auto', '...                7   \n",
              "10  {'criterion': 'mae', 'max_features': 'auto', '...               18   \n",
              "11  {'criterion': 'mae', 'max_features': 'auto', '...               12   \n",
              "12  {'criterion': 'mae', 'max_features': 'sqrt', '...                6   \n",
              "13  {'criterion': 'mae', 'max_features': 'sqrt', '...               13   \n",
              "14  {'criterion': 'mae', 'max_features': 'sqrt', '...               15   \n",
              "15  {'criterion': 'mae', 'max_features': 'log2', '...                1   \n",
              "16  {'criterion': 'mae', 'max_features': 'log2', '...                3   \n",
              "17  {'criterion': 'mae', 'max_features': 'log2', '...               17   \n",
              "\n",
              "    split0_test_score  split0_train_score  split1_test_score  \\\n",
              "0        1.169400e+07        3.457273e+06       2.374630e+07   \n",
              "1        1.264693e+07        4.020348e+06       2.041389e+07   \n",
              "2        1.223014e+07        3.387957e+06       2.024049e+07   \n",
              "3        1.219729e+07        4.177644e+06       2.092206e+07   \n",
              "4        1.297079e+07        3.298386e+06       2.070846e+07   \n",
              "5        1.340884e+07        3.635556e+06       2.116077e+07   \n",
              "6        1.372459e+07        4.287271e+06       2.067264e+07   \n",
              "7        1.304762e+07        3.470471e+06       1.943015e+07   \n",
              "8        1.366086e+07        3.453484e+06       1.985461e+07   \n",
              "9        1.144529e+07        5.086611e+06       2.414534e+07   \n",
              "10       1.065390e+07        3.886487e+06       2.079777e+07   \n",
              "11       1.220187e+07        3.329035e+06       2.153074e+07   \n",
              "12       1.171154e+07        3.671610e+06       2.482568e+07   \n",
              "13       1.399523e+07        4.301523e+06       1.912548e+07   \n",
              "14       1.173377e+07        4.069313e+06       2.133837e+07   \n",
              "15       1.279887e+07        5.470830e+06       2.245952e+07   \n",
              "16       1.519603e+07        4.384529e+06       2.172331e+07   \n",
              "17       1.214686e+07        3.553360e+06       1.976922e+07   \n",
              "\n",
              "    split1_train_score  split2_test_score  split2_train_score  std_fit_time  \\\n",
              "0         4.207008e+06       2.113699e+07        3.305543e+06      0.002255   \n",
              "1         3.056241e+06       1.943170e+07        2.257843e+06      0.001298   \n",
              "2         3.183377e+06       1.901737e+07        2.386862e+06      0.007204   \n",
              "3         3.406825e+06       2.205402e+07        2.836864e+06      0.000146   \n",
              "4         2.606161e+06       2.056960e+07        2.738990e+06      0.000380   \n",
              "5         2.647879e+06       1.963832e+07        2.227331e+06      0.001064   \n",
              "6         4.279878e+06       2.455429e+07        3.026210e+06      0.000286   \n",
              "7         2.830529e+06       2.123348e+07        2.405460e+06      0.000244   \n",
              "8         2.563985e+06       2.008591e+07        2.425038e+06      0.000250   \n",
              "9         4.838543e+06       1.920898e+07        3.369246e+06      0.000228   \n",
              "10        3.598035e+06       1.839181e+07        2.249253e+06      0.000271   \n",
              "11        3.568125e+06       1.957379e+07        2.392965e+06      0.000769   \n",
              "12        4.396904e+06       1.852382e+07        2.804338e+06      0.000103   \n",
              "13        3.210732e+06       1.990721e+07        3.078846e+06      0.000550   \n",
              "14        3.464382e+06       1.879147e+07        3.123181e+06      0.003483   \n",
              "15        4.166381e+06       2.521666e+07        3.137459e+06      0.000130   \n",
              "16        3.674222e+06       2.043804e+07        3.076963e+06      0.000942   \n",
              "17        3.491307e+06       1.909839e+07        2.642067e+06      0.001427   \n",
              "\n",
              "    std_score_time  std_test_score  std_train_score  \n",
              "0         0.000330    5.200407e+06    394090.421448  \n",
              "1         0.000129    3.469659e+06    720599.046481  \n",
              "2         0.000300    3.539911e+06    431853.945435  \n",
              "3         0.000027    4.425059e+06    549414.680864  \n",
              "4         0.000196    3.632952e+06    299952.141940  \n",
              "5         0.000009    3.368807e+06    590241.649737  \n",
              "6         0.000016    4.496267e+06    592735.068825  \n",
              "7         0.000031    3.527482e+06    437728.611338  \n",
              "8         0.000024    2.990294e+06    455608.777691  \n",
              "9         0.000007    5.245318e+06    757900.096968  \n",
              "10        0.000047    4.346671e+06    713594.346145  \n",
              "11        0.000047    4.034737e+06    507104.064782  \n",
              "12        0.000017    5.369160e+06    651023.112535  \n",
              "13        0.000020    2.634606e+06    547941.249242  \n",
              "14        0.000092    4.079886e+06    391226.561697  \n",
              "15        0.000021    5.347960e+06    954805.672678  \n",
              "16        0.000125    2.836076e+06    534475.862119  \n",
              "17        0.000062    3.462628e+06    415734.116950  "
            ]
          },
          "metadata": {
            "tags": []
          },
          "execution_count": 58
        }
      ]
    },
    {
      "cell_type": "code",
      "metadata": {
        "id": "meypF2BqYtU2",
        "colab_type": "code",
        "outputId": "4b0910f3-7ebf-415b-dc55-0fde233761fc",
        "colab": {
          "base_uri": "https://localhost:8080/",
          "height": 1020
        }
      },
      "source": [
        "print('Scores of Parameters tested:\\n') \n",
        "\n",
        "# get scores of parameters tested and display as a dataframe\n",
        "scores_df = pd.DataFrame(grid_fit.grid_scores_) \n",
        "display(scores_df)"
      ],
      "execution_count": 0,
      "outputs": [
        {
          "output_type": "stream",
          "text": [
            "Scores of Parameters tested:\n",
            "\n"
          ],
          "name": "stdout"
        },
        {
          "output_type": "stream",
          "text": [
            "/usr/local/lib/python3.6/dist-packages/sklearn/model_selection/_search.py:762: DeprecationWarning: The grid_scores_ attribute was deprecated in version 0.18 in favor of the more elaborate cv_results_ attribute. The grid_scores_ attribute will not be available from 0.20\n",
            "  DeprecationWarning)\n"
          ],
          "name": "stderr"
        },
        {
          "output_type": "display_data",
          "data": {
            "text/html": [
              "<div>\n",
              "<style scoped>\n",
              "    .dataframe tbody tr th:only-of-type {\n",
              "        vertical-align: middle;\n",
              "    }\n",
              "\n",
              "    .dataframe tbody tr th {\n",
              "        vertical-align: top;\n",
              "    }\n",
              "\n",
              "    .dataframe thead th {\n",
              "        text-align: right;\n",
              "    }\n",
              "</style>\n",
              "<table border=\"1\" class=\"dataframe\">\n",
              "  <thead>\n",
              "    <tr style=\"text-align: right;\">\n",
              "      <th></th>\n",
              "      <th>parameters</th>\n",
              "      <th>mean_validation_score</th>\n",
              "      <th>cv_validation_scores</th>\n",
              "    </tr>\n",
              "  </thead>\n",
              "  <tbody>\n",
              "    <tr>\n",
              "      <th>0</th>\n",
              "      <td>{'criterion': 'mse', 'max_features': 'auto', '...</td>\n",
              "      <td>1.878744e+07</td>\n",
              "      <td>[11694004.072941175, 23746296.77818182, 211369...</td>\n",
              "    </tr>\n",
              "    <tr>\n",
              "      <th>1</th>\n",
              "      <td>{'criterion': 'mse', 'max_features': 'auto', '...</td>\n",
              "      <td>1.744900e+07</td>\n",
              "      <td>[12646927.356623529, 20413893.47930909, 194317...</td>\n",
              "    </tr>\n",
              "    <tr>\n",
              "      <th>2</th>\n",
              "      <td>{'criterion': 'mse', 'max_features': 'auto', '...</td>\n",
              "      <td>1.711334e+07</td>\n",
              "      <td>[12230137.99627059, 20240485.576090906, 190173...</td>\n",
              "    </tr>\n",
              "    <tr>\n",
              "      <th>3</th>\n",
              "      <td>{'criterion': 'mse', 'max_features': 'sqrt', '...</td>\n",
              "      <td>1.832918e+07</td>\n",
              "      <td>[12197294.166470587, 20922056.11, 22054015.230...</td>\n",
              "    </tr>\n",
              "    <tr>\n",
              "      <th>4</th>\n",
              "      <td>{'criterion': 'mse', 'max_features': 'sqrt', '...</td>\n",
              "      <td>1.803183e+07</td>\n",
              "      <td>[12970787.493364705, 20708463.627769697, 20569...</td>\n",
              "    </tr>\n",
              "    <tr>\n",
              "      <th>5</th>\n",
              "      <td>{'criterion': 'mse', 'max_features': 'sqrt', '...</td>\n",
              "      <td>1.802271e+07</td>\n",
              "      <td>[13408841.435638236, 21160773.422842424, 19638...</td>\n",
              "    </tr>\n",
              "    <tr>\n",
              "      <th>6</th>\n",
              "      <td>{'criterion': 'mse', 'max_features': 'log2', '...</td>\n",
              "      <td>1.959125e+07</td>\n",
              "      <td>[13724585.057058826, 20672641.156969696, 24554...</td>\n",
              "    </tr>\n",
              "    <tr>\n",
              "      <th>7</th>\n",
              "      <td>{'criterion': 'mse', 'max_features': 'log2', '...</td>\n",
              "      <td>1.785519e+07</td>\n",
              "      <td>[13047617.50257647, 19430148.648860607, 212334...</td>\n",
              "    </tr>\n",
              "    <tr>\n",
              "      <th>8</th>\n",
              "      <td>{'criterion': 'mse', 'max_features': 'log2', '...</td>\n",
              "      <td>1.782506e+07</td>\n",
              "      <td>[13660859.417341176, 19854611.792384848, 20085...</td>\n",
              "    </tr>\n",
              "    <tr>\n",
              "      <th>9</th>\n",
              "      <td>{'criterion': 'mae', 'max_features': 'auto', '...</td>\n",
              "      <td>1.819832e+07</td>\n",
              "      <td>[11445287.38764706, 24145338.14272727, 1920897...</td>\n",
              "    </tr>\n",
              "    <tr>\n",
              "      <th>10</th>\n",
              "      <td>{'criterion': 'mae', 'max_features': 'auto', '...</td>\n",
              "      <td>1.655489e+07</td>\n",
              "      <td>[10653903.482729413, 20797774.5345303, 1839180...</td>\n",
              "    </tr>\n",
              "    <tr>\n",
              "      <th>11</th>\n",
              "      <td>{'criterion': 'mae', 'max_features': 'auto', '...</td>\n",
              "      <td>1.771313e+07</td>\n",
              "      <td>[12201871.310953677, 21530741.90800909, 195737...</td>\n",
              "    </tr>\n",
              "    <tr>\n",
              "      <th>12</th>\n",
              "      <td>{'criterion': 'mae', 'max_features': 'sqrt', '...</td>\n",
              "      <td>1.828726e+07</td>\n",
              "      <td>[11711542.055294117, 24825675.067272726, 18523...</td>\n",
              "    </tr>\n",
              "    <tr>\n",
              "      <th>13</th>\n",
              "      <td>{'criterion': 'mae', 'max_features': 'sqrt', '...</td>\n",
              "      <td>1.763916e+07</td>\n",
              "      <td>[13995229.794823527, 19125477.168948483, 19907...</td>\n",
              "    </tr>\n",
              "    <tr>\n",
              "      <th>14</th>\n",
              "      <td>{'criterion': 'mae', 'max_features': 'sqrt', '...</td>\n",
              "      <td>1.723233e+07</td>\n",
              "      <td>[11733769.097302206, 21338367.687375, 18791465...</td>\n",
              "    </tr>\n",
              "    <tr>\n",
              "      <th>15</th>\n",
              "      <td>{'criterion': 'mae', 'max_features': 'log2', '...</td>\n",
              "      <td>2.008475e+07</td>\n",
              "      <td>[12798869.121470591, 22459515.80848485, 252166...</td>\n",
              "    </tr>\n",
              "    <tr>\n",
              "      <th>16</th>\n",
              "      <td>{'criterion': 'mae', 'max_features': 'log2', '...</td>\n",
              "      <td>1.907990e+07</td>\n",
              "      <td>[15196030.806899998, 21723313.51264243, 204380...</td>\n",
              "    </tr>\n",
              "    <tr>\n",
              "      <th>17</th>\n",
              "      <td>{'criterion': 'mae', 'max_features': 'log2', '...</td>\n",
              "      <td>1.695624e+07</td>\n",
              "      <td>[12146858.647094853, 19769215.282905307, 19098...</td>\n",
              "    </tr>\n",
              "  </tbody>\n",
              "</table>\n",
              "</div>"
            ],
            "text/plain": [
              "                                           parameters  mean_validation_score  \\\n",
              "0   {'criterion': 'mse', 'max_features': 'auto', '...           1.878744e+07   \n",
              "1   {'criterion': 'mse', 'max_features': 'auto', '...           1.744900e+07   \n",
              "2   {'criterion': 'mse', 'max_features': 'auto', '...           1.711334e+07   \n",
              "3   {'criterion': 'mse', 'max_features': 'sqrt', '...           1.832918e+07   \n",
              "4   {'criterion': 'mse', 'max_features': 'sqrt', '...           1.803183e+07   \n",
              "5   {'criterion': 'mse', 'max_features': 'sqrt', '...           1.802271e+07   \n",
              "6   {'criterion': 'mse', 'max_features': 'log2', '...           1.959125e+07   \n",
              "7   {'criterion': 'mse', 'max_features': 'log2', '...           1.785519e+07   \n",
              "8   {'criterion': 'mse', 'max_features': 'log2', '...           1.782506e+07   \n",
              "9   {'criterion': 'mae', 'max_features': 'auto', '...           1.819832e+07   \n",
              "10  {'criterion': 'mae', 'max_features': 'auto', '...           1.655489e+07   \n",
              "11  {'criterion': 'mae', 'max_features': 'auto', '...           1.771313e+07   \n",
              "12  {'criterion': 'mae', 'max_features': 'sqrt', '...           1.828726e+07   \n",
              "13  {'criterion': 'mae', 'max_features': 'sqrt', '...           1.763916e+07   \n",
              "14  {'criterion': 'mae', 'max_features': 'sqrt', '...           1.723233e+07   \n",
              "15  {'criterion': 'mae', 'max_features': 'log2', '...           2.008475e+07   \n",
              "16  {'criterion': 'mae', 'max_features': 'log2', '...           1.907990e+07   \n",
              "17  {'criterion': 'mae', 'max_features': 'log2', '...           1.695624e+07   \n",
              "\n",
              "                                 cv_validation_scores  \n",
              "0   [11694004.072941175, 23746296.77818182, 211369...  \n",
              "1   [12646927.356623529, 20413893.47930909, 194317...  \n",
              "2   [12230137.99627059, 20240485.576090906, 190173...  \n",
              "3   [12197294.166470587, 20922056.11, 22054015.230...  \n",
              "4   [12970787.493364705, 20708463.627769697, 20569...  \n",
              "5   [13408841.435638236, 21160773.422842424, 19638...  \n",
              "6   [13724585.057058826, 20672641.156969696, 24554...  \n",
              "7   [13047617.50257647, 19430148.648860607, 212334...  \n",
              "8   [13660859.417341176, 19854611.792384848, 20085...  \n",
              "9   [11445287.38764706, 24145338.14272727, 1920897...  \n",
              "10  [10653903.482729413, 20797774.5345303, 1839180...  \n",
              "11  [12201871.310953677, 21530741.90800909, 195737...  \n",
              "12  [11711542.055294117, 24825675.067272726, 18523...  \n",
              "13  [13995229.794823527, 19125477.168948483, 19907...  \n",
              "14  [11733769.097302206, 21338367.687375, 18791465...  \n",
              "15  [12798869.121470591, 22459515.80848485, 252166...  \n",
              "16  [15196030.806899998, 21723313.51264243, 204380...  \n",
              "17  [12146858.647094853, 19769215.282905307, 19098...  "
            ]
          },
          "metadata": {
            "tags": []
          }
        }
      ]
    },
    {
      "cell_type": "code",
      "metadata": {
        "id": "vXph8I_TYtmX",
        "colab_type": "code",
        "outputId": "c283d632-f47c-45d2-feb0-a5606e4fa4e9",
        "colab": {
          "base_uri": "https://localhost:8080/",
          "height": 223
        }
      },
      "source": [
        "# Get the estimator, predictions and metric score from best model\n",
        "best_model = grid_fit.best_estimator_\n",
        "best_model"
      ],
      "execution_count": 0,
      "outputs": [
        {
          "output_type": "execute_result",
          "data": {
            "text/plain": [
              "RandomForestRegressor(bootstrap=True, criterion='mae', max_depth=None,\n",
              "           max_features='log2', max_leaf_nodes=None,\n",
              "           min_impurity_decrease=0.0, min_impurity_split=None,\n",
              "           min_samples_leaf=1, min_samples_split=2,\n",
              "           min_weight_fraction_leaf=0.0, n_estimators=10, n_jobs=1,\n",
              "           oob_score=False, random_state=None, verbose=0, warm_start=False)"
            ]
          },
          "metadata": {
            "tags": []
          },
          "execution_count": 60
        }
      ]
    },
    {
      "cell_type": "code",
      "metadata": {
        "id": "XTmuHfj3vFgy",
        "colab_type": "code",
        "colab": {}
      },
      "source": [
        "# get predictions using the new model\n",
        "predictions_best = best_model.predict(X_test)"
      ],
      "execution_count": 0,
      "outputs": []
    },
    {
      "cell_type": "code",
      "metadata": {
        "id": "ZJo-prOXZgot",
        "colab_type": "code",
        "outputId": "e64b5887-c239-47cc-8726-0f3447c27c72",
        "colab": {
          "base_uri": "https://localhost:8080/",
          "height": 135
        }
      },
      "source": [
        "# get a score by comparing our predict against actual\n",
        "score_cv = np.sqrt(metrics.mean_squared_error(y_test,predictions_best))\n",
        "\n",
        "# print out the score \n",
        "print('RMSE score for {} is:'.format(best_model.__class__.__name__),np.round((score_cv), decimals=2))"
      ],
      "execution_count": 0,
      "outputs": [
        {
          "output_type": "stream",
          "text": [
            "RMSE score for RandomForestRegressor is: 4404.35\n"
          ],
          "name": "stdout"
        }
      ]
    },
    {
      "cell_type": "markdown",
      "metadata": {
        "id": "mSfIWon-SjtZ",
        "colab_type": "text"
      },
      "source": [
        "**EXERCISE 4.1:**  Apply grid search to model you built at **3.3**, remembering to amend the dictionary to match the parameters taken by your model\n",
        "\n",
        "\n",
        "\n",
        "---\n",
        "\n",
        "\n",
        "\n",
        "**ANSWER:**\n",
        "*Use code cell below*\n"
      ]
    },
    {
      "cell_type": "code",
      "metadata": {
        "id": "i-R1B2yMS37n",
        "colab_type": "code",
        "colab": {}
      },
      "source": [
        "# code here\n"
      ],
      "execution_count": 0,
      "outputs": []
    },
    {
      "cell_type": "markdown",
      "metadata": {
        "id": "37i05OPxV9GL",
        "colab_type": "text"
      },
      "source": [
        "#### 4.2 Cross-Validation using K-Fold "
      ]
    },
    {
      "cell_type": "markdown",
      "metadata": {
        "id": "LZ0UOPesOh-m",
        "colab_type": "text"
      },
      "source": [
        "**EXERCISE 4.2 (OPTIONAL):** Look up K-Fold Cross-Validation and implement it on our dataset and run the best performing model to see if the score is improved. Take a look at [this](https://sebastianraschka.com/blog/2016/model-evaluation-selection-part3.html) article for more information.\n",
        "\n",
        "---\n",
        "\n",
        "**ANSWER:**\n",
        "\n",
        "\n"
      ]
    },
    {
      "cell_type": "code",
      "metadata": {
        "id": "uOvIY-rCV9da",
        "colab_type": "code",
        "colab": {}
      },
      "source": [
        "# code here \n",
        " "
      ],
      "execution_count": 0,
      "outputs": []
    },
    {
      "cell_type": "markdown",
      "metadata": {
        "id": "bjNlPfjSS6EE",
        "colab_type": "text"
      },
      "source": [
        "### 5. Wrapping up\n",
        "* We have covered: \n",
        "  * What Machine Learning is\n",
        "  * What approach to take to solving machine learning problems\n",
        "  * Loading and processing data\n",
        "  * Splitting data into traing and testing sets\n",
        "* Ideas for additional exercises, *which we can cover via slack if there is demand*:\n",
        "    * Build a *pipeline* to manage all the steps outlined above\n",
        "    * Use *Ensemble* methods to combine different ML models \n",
        "    * Undertake *Exploratory Data Analysis* to understand the dataset better\n",
        "    * Use *Feature Engineering* to provide additional inputs in to the model"
      ]
    },
    {
      "cell_type": "markdown",
      "metadata": {
        "id": "3Cb9fVKITfyq",
        "colab_type": "text"
      },
      "source": [
        "## Part 2: Deep Learning \n",
        "\n",
        "**Structure of Part 2**\n",
        "1. Introduction to Deep Learning and Keras\n",
        "2. Build DL model, train and evaluate the model \n",
        "3. Refine model "
      ]
    },
    {
      "cell_type": "markdown",
      "metadata": {
        "id": "OeuN9HVtUhMB",
        "colab_type": "text"
      },
      "source": [
        "### 1. Introduction to Deep Learning and Keras\n",
        "**AIM:** \n",
        "* To cover the *basics* of Deep Learning (notes largely taken from 'Deep Learning wtih Python' by Francois Chollet)\n",
        "* To suggest further reading to explore the topic further  \n",
        "* To introduce Keras \n",
        "\n",
        "---\n",
        "\n",
        "**Deep Learning** \n",
        "* Deep Learning is a mathematical framework for learning representations from data.\n",
        "* The *deep* refers to the number of layers within a model: the layers puts an emphasis on learning successive layers of increasingly meaningful representations from the data. \n",
        "\n",
        "![alt text](https://i.stack.imgur.com/iHW2o.jpg)"
      ]
    },
    {
      "cell_type": "markdown",
      "metadata": {
        "id": "YekKM6aYGmP6",
        "colab_type": "text"
      },
      "source": [
        "* A Deep Learning model will include the following aspects (which we can specify in order to find the optimal model):\n",
        "  \n",
        "  * *Number of layers:* The core building block of neural networks is the layer, a data-processing module that you can think of as a filter for data. Some data goes in, and it comes out in a more useful form. Specifically, layers extract representations out of the data fed into them. The specification of what a layer does to its input data is stored in the layer’s weights, which in essence are a bunch of numbers. In this context, learning means finding a set of values for the weights of all layers in a network, such that the network will correctly map example inputs to their associated targets.\n",
        "\n",
        "  * *The objective loss function:* How the network will be able to measure its performance on the training data - how far this output is from what you expected - and thus how it will be able to steer itself in the right direction.The loss function takes the predictions of the network and the true target and computes a distance score, capturing how well the network has done on this specific example. \n",
        "  \n",
        "  * *The type of optimizer:* The mechanism through which the network will update itself based on the data it sees and its loss function.An optimizer will adjust the value of the weights a little, in a direction that will lower the loss score for the current example, using the Backpropagation algorithm.\n",
        "  \n",
        "  * *How we train the model on the data:* Initially, the weights of the network are assigned random values, so the network merely implements a series of random transformations. Its output is far from what it should ideally be, and the loss score is accordingly very high. But with every example the network processes, the weights are adjusted a little in the correct direction, and the loss score decreases. This is the training loop, which, repeated a sufficient number of times (typically tens of iterations over thousands of examples), yields weight values that minimize the loss function. A network with a minimal loss is one for which the outputs are as close as they can be to the targets: a trained network. Once again, it’s a simple mechanism that, once scaled, ends up looking like magic.\n",
        "  \n",
        "  \n",
        "* In addition, we also need to think about the type of *activation functions* we use. These define the ouput of node within a layer of the model, and helps the Deep Learning model move from linear representation of the data to non-linearity. \n",
        "* It is considered an art to get the right model, something which requires experimentation with the elements of the model covered above.  \n",
        "* Deep Learning uses linear algebra (matrix multiplication) to model the inputs to the outputs, and caculus (back propogation) to determine the error and update the model during each round of training. This is not covered here.  A free online course in linear algebra for deep learning is [here](http://www.fast.ai/2017/07/17/num-lin-alg/) and for calculus is [here](http://explained.ai/matrix-calculus/index.html?utm_medium=email&utm_source=topic+optin&utm_campaign=awareness&utm_content=20180709+ai+nl&mkt_tok=eyJpIjoiT1RBeE5qTmpaREZtWWpreCIsInQiOiJ1dithMG5IcDBsa0p3YjRVWFVGenpmOG5iQ0syM0M0Q3hMT3d3TUdMWkMwME1odElRTUxoRldmem5rRlhyK2d1YUROeGU0M0VlQ1VyeVJyY2o5RDFyWWFDdGRSWDVCcVp4aTJ3ajM1eDUyVUY4ZVFvZFVvRVduYSs1NmladnRBZSJ9). \n",
        "* Many different types of deep learning models, e.g. convolutional neural networks, which have been shown to be better at computer vision tasks, and recurrent neural networks, which are used in NLP tasks. We will be building a feedforward deep learning model, which is basic but sufficient for the problem we are trying to solve. \n",
        "* See this series of [articles](https://medium.com/@ageitgey/machine-learning-is-fun-part-3-deep-learning-and-convolutional-neural-networks-f40359318721) and [videos](https://www.youtube.com/watch?v=aircAruvnKk) for a good introduction to Deep Learning (and Machine Learning more generally). The [fast.ai](http://course.fast.ai) Deep Learning Course would be a good next step for anyone interested in doing more deep learning, and this [book](http://www.deeplearningbook.org) is the reference book for the subject (and is free).\n",
        "\n",
        "\n",
        "**Keras**\n",
        "* There are a number of Deep Learning libraries available, such as `Tensorflow` and `PyTorch`. We will be using `Keras`, which is a high level Deep Learning library. `Keras` can use other Deep Learning libraries as its `backend`, meaning we can use the same `Keras` interface to access these different libraries. For this tutorial we will be using `Tensorflow` as the backend.\n",
        "* `Keras` makes it straightforward to build our model, and we will cover operations to add layers, specify our activation functions, optimizer, loss functions and metrics, tailor our training and add regularization to our models. \n",
        "* The best places to learn more about `Keras` include the [Keras Blog](https://blog.keras.io) and the book [Deep Learning with Python](https://www.amazon.co.uk/Deep-Learning-Python-Francois-Chollet/dp/1617294438/ref=sr_1_1?ie=UTF8&qid=1537089319&sr=8-1&keywords=deep+learning+with+python), written by the head of the `Keras` project.."
      ]
    },
    {
      "cell_type": "markdown",
      "metadata": {
        "id": "oCpXk7q6CWsx",
        "colab_type": "text"
      },
      "source": [
        "### 2. Build Model \n",
        "**AIM:**\n",
        "* To build our first Deep Learning Model and get a feel for `Keras` \n",
        "\n",
        "---\n",
        "\n",
        "* In order to build a model, we need to:\n",
        "  * Define the model (its layers, activation functions, and number of 'neurons')\n",
        "  * Compile the model, by specifying the loss, optimizer and metrics we will use to update the model during training \n",
        "  * Fit the model to the data, and specify how we will train it \n",
        "  "
      ]
    },
    {
      "cell_type": "markdown",
      "metadata": {
        "id": "avn0sxbU7AsU",
        "colab_type": "text"
      },
      "source": [
        "### 2.1 Define Model "
      ]
    },
    {
      "cell_type": "code",
      "metadata": {
        "id": "8SUB_Mo7crGX",
        "colab_type": "code",
        "outputId": "a24bfb28-bf23-45c1-82ae-068708166c5a",
        "colab": {
          "base_uri": "https://localhost:8080/",
          "height": 135
        }
      },
      "source": [
        "# import statements \n",
        "import tensorflow as tf\n",
        "from keras.models import Sequential\n",
        "from keras.layers import Dense\n",
        "from keras.layers import Dropout\n",
        "from keras.utils import np_utils"
      ],
      "execution_count": 0,
      "outputs": [
        {
          "output_type": "stream",
          "text": [
            "Using TensorFlow backend.\n"
          ],
          "name": "stderr"
        }
      ]
    },
    {
      "cell_type": "markdown",
      "metadata": {
        "id": "ENTYqw197aKo",
        "colab_type": "text"
      },
      "source": [
        "**EXERCISE 2.1:**  \n",
        "a) Specify the input dimension for the first layer, and the output size for the final layer, then run the code to define the model and see the summary of the model\n",
        "\n",
        "b) Go through below and comment line by line what you think is happening. Look at the [documentation](https://keras.io/getting-started/sequential-model-guide/) to understand this better, and see what other parameters are available to us. See [this](https://stackoverflow.com/questions/44747343/keras-input-explanation-input-shape-units-batch-size-dim-etc) too for more information. \n",
        "\n",
        "---\n",
        "\n",
        "**ANSWER:**"
      ]
    },
    {
      "cell_type": "code",
      "metadata": {
        "id": "iaNF339At4e9",
        "colab_type": "code",
        "colab": {}
      },
      "source": [
        "# see Exercise 2.1: What input dimensions are required? \n",
        "input_dim = X_train.shape[1]\n",
        "# see Exercise 2.1: What output size do we need to specify? \n",
        "output_size = 1"
      ],
      "execution_count": 0,
      "outputs": []
    },
    {
      "cell_type": "code",
      "metadata": {
        "id": "ijp6sa7iCapO",
        "colab_type": "code",
        "outputId": "92154237-21f8-4fda-d491-de56b08fa0be",
        "colab": {
          "base_uri": "https://localhost:8080/",
          "height": 346
        }
      },
      "source": [
        "# Define model\n",
        "# Sequential is a simple, linearly stacked model - see links for further information on this \n",
        "model = Sequential()\n",
        "# This is out first layer, and the only time we need to specify the input dimensions of a layer\n",
        "model.add(Dense(100, input_dim=input_dim, activation= \"relu\"))\n",
        "# This is our second, 'hidden' layer. What other parameters are available to use when adding layers?  \n",
        "model.add(Dense(50, activation= \"relu\"))\n",
        "# This is our output layer\n",
        "model.add(Dense(output_size))\n",
        "# We can print the model summary here \n",
        "model.summary() "
      ],
      "execution_count": 0,
      "outputs": [
        {
          "output_type": "stream",
          "text": [
            "_________________________________________________________________\n",
            "Layer (type)                 Output Shape              Param #   \n",
            "=================================================================\n",
            "dense_1 (Dense)              (None, 100)               1000      \n",
            "_________________________________________________________________\n",
            "dense_2 (Dense)              (None, 50)                5050      \n",
            "_________________________________________________________________\n",
            "dense_3 (Dense)              (None, 1)                 51        \n",
            "=================================================================\n",
            "Total params: 6,101\n",
            "Trainable params: 6,101\n",
            "Non-trainable params: 0\n",
            "_________________________________________________________________\n"
          ],
          "name": "stdout"
        }
      ]
    },
    {
      "cell_type": "markdown",
      "metadata": {
        "id": "c08KkJMS7IKo",
        "colab_type": "text"
      },
      "source": [
        "#### 2.2 Compile and Fit Model"
      ]
    },
    {
      "cell_type": "code",
      "metadata": {
        "id": "Jo6yLJ7yChAI",
        "colab_type": "code",
        "colab": {}
      },
      "source": [
        "# Compile model\n",
        "# here we have a number of options for each parameter\n",
        "model.compile(loss= \"mean_squared_error\" , optimizer=\"adam\", metrics=[\"mean_squared_error\"])"
      ],
      "execution_count": 0,
      "outputs": []
    },
    {
      "cell_type": "code",
      "metadata": {
        "id": "l23m9rIQYxgn",
        "colab_type": "code",
        "outputId": "ab849ccd-7d37-49e5-9f14-03cc851a2bda",
        "colab": {
          "base_uri": "https://localhost:8080/",
          "height": 152
        }
      },
      "source": [
        "## before fitting the model, let's create a validation set\n",
        "\n",
        "# remind ourselves of the training set shape\n",
        "print(X_train.shape)\n",
        "print(y_train.shape)"
      ],
      "execution_count": 0,
      "outputs": [
        {
          "output_type": "stream",
          "text": [
            "(385047, 9)\n",
            "(385047,)\n"
          ],
          "name": "stdout"
        }
      ]
    },
    {
      "cell_type": "code",
      "metadata": {
        "id": "ZBJwNvEvZInT",
        "colab_type": "code",
        "colab": {}
      },
      "source": [
        "# partition off X_train in X_train and X_val\n",
        "X_train = X_train[:3000000]\n",
        "X_val = X_train[300000:]\n",
        "\n",
        "# and do the same for y_train \n",
        "y_train = y_train[:3000000]\n",
        "y_val = y_train[300000:]"
      ],
      "execution_count": 0,
      "outputs": []
    },
    {
      "cell_type": "code",
      "metadata": {
        "id": "jMpWT_OyCpAR",
        "colab_type": "code",
        "outputId": "82a27864-08e1-4546-e0c4-6b258b406724",
        "colab": {
          "base_uri": "https://localhost:8080/",
          "height": 1020
        }
      },
      "source": [
        "# Fit Model\n",
        "# epochs defines how many times we will train the model on the data\n",
        "epochs = 10\n",
        "# each epoch takes around 1 minute. Run with 1 epoch to get a feel for what is happening, Evaluate Model (2.3) then increase to 5 to see how things change\n",
        "history = model.fit(X_train, y_train, epochs=epochs, validation_data=(X_val,y_val))"
      ],
      "execution_count": 0,
      "outputs": [
        {
          "output_type": "stream",
          "text": [
            "Train on 385047 samples, validate on 85047 samples\n",
            "Epoch 1/10\n",
            "385047/385047 [==============================] - 14s 36us/step - loss: 25982358.5653 - mean_squared_error: 25982358.5653 - val_loss: 20915493.8642 - val_mean_squared_error: 20915493.8642\n",
            "Epoch 2/10\n",
            "385047/385047 [==============================] - 13s 33us/step - loss: 18998898.7072 - mean_squared_error: 18998898.7072 - val_loss: 18156120.4279 - val_mean_squared_error: 18156120.4279\n",
            "Epoch 3/10\n",
            "385047/385047 [==============================] - 13s 33us/step - loss: 17861481.8342 - mean_squared_error: 17861481.8342 - val_loss: 17934236.9258 - val_mean_squared_error: 17934236.9258\n",
            "Epoch 4/10\n",
            "385047/385047 [==============================] - 13s 33us/step - loss: 17773540.2318 - mean_squared_error: 17773540.2318 - val_loss: 17875132.6055 - val_mean_squared_error: 17875132.6055\n",
            "Epoch 5/10\n",
            "385047/385047 [==============================] - 13s 33us/step - loss: 17764619.2743 - mean_squared_error: 17764619.2743 - val_loss: 17862218.1520 - val_mean_squared_error: 17862218.1520\n",
            "Epoch 6/10\n",
            "385047/385047 [==============================] - 13s 33us/step - loss: 17759917.8596 - mean_squared_error: 17759917.8596 - val_loss: 17871116.4333 - val_mean_squared_error: 17871116.4333\n",
            "Epoch 7/10\n",
            "385047/385047 [==============================] - 14s 36us/step - loss: 17759869.9829 - mean_squared_error: 17759869.9829 - val_loss: 17880315.3969 - val_mean_squared_error: 17880315.3969\n",
            "Epoch 8/10\n",
            "385047/385047 [==============================] - 12s 32us/step - loss: 17758005.2588 - mean_squared_error: 17758005.2588 - val_loss: 17863132.3412 - val_mean_squared_error: 17863132.3412\n",
            "Epoch 9/10\n",
            "385047/385047 [==============================] - 12s 31us/step - loss: 17756893.2760 - mean_squared_error: 17756893.2760 - val_loss: 17859816.1423 - val_mean_squared_error: 17859816.1423\n",
            "Epoch 10/10\n",
            "385047/385047 [==============================] - 12s 31us/step - loss: 17754060.1083 - mean_squared_error: 17754060.1083 - val_loss: 17868630.3936 - val_mean_squared_error: 17868630.3936\n"
          ],
          "name": "stdout"
        }
      ]
    },
    {
      "cell_type": "code",
      "metadata": {
        "id": "M1GJ5j7NS-7I",
        "colab_type": "code",
        "outputId": "15f370dc-ab46-4370-9b81-5f42e3f5039c",
        "colab": {
          "base_uri": "https://localhost:8080/",
          "height": 135
        }
      },
      "source": [
        "# model.fit returns a history object, which contains a history dictionary about everything that happened during training \n",
        "history_dict = history.history\n",
        "history_dict.keys()"
      ],
      "execution_count": 0,
      "outputs": [
        {
          "output_type": "execute_result",
          "data": {
            "text/plain": [
              "dict_keys(['val_loss', 'val_mean_squared_error', 'loss', 'mean_squared_error'])"
            ]
          },
          "metadata": {
            "tags": []
          },
          "execution_count": 70
        }
      ]
    },
    {
      "cell_type": "code",
      "metadata": {
        "id": "5aHGbIIXXV-9",
        "colab_type": "code",
        "outputId": "ac9c9c86-1e55-4407-f387-bcc5962e2e8e",
        "colab": {
          "base_uri": "https://localhost:8080/",
          "height": 293
        }
      },
      "source": [
        "# for example we can access the validation loss like this\n",
        "history_dict['val_loss']"
      ],
      "execution_count": 0,
      "outputs": [
        {
          "output_type": "execute_result",
          "data": {
            "text/plain": [
              "[20915493.86419274,\n",
              " 18156120.42790457,\n",
              " 17934236.92581749,\n",
              " 17875132.60550049,\n",
              " 17862218.151963033,\n",
              " 17871116.43328983,\n",
              " 17880315.396898184,\n",
              " 17863132.341223087,\n",
              " 17859816.142250754,\n",
              " 17868630.393641163]"
            ]
          },
          "metadata": {
            "tags": []
          },
          "execution_count": 71
        }
      ]
    },
    {
      "cell_type": "code",
      "metadata": {
        "id": "2_PCBb_bSzEP",
        "colab_type": "code",
        "outputId": "7988bb5c-80ae-42c9-9abb-aab92bf2887c",
        "colab": {
          "base_uri": "https://localhost:8080/",
          "height": 456
        }
      },
      "source": [
        "# and use it to plot out the training performance\n",
        "loss_values = history_dict['loss']\n",
        "val_loss_values = history_dict['val_loss']\n",
        "\n",
        "epochs = range(1, len(history_dict['mean_squared_error']) + 1)\n",
        "\n",
        "plt.plot(epochs, loss_values, 'bo', label='Training loss')           \n",
        "plt.plot(epochs, val_loss_values, 'b', label='Validation loss')      \n",
        "plt.title('Training and validation Loss')\n",
        "plt.xlabel('Epochs')\n",
        "plt.ylabel('Loss')\n",
        "plt.legend()\n",
        "\n",
        "plt.show()"
      ],
      "execution_count": 0,
      "outputs": [
        {
          "output_type": "display_data",
          "data": {
            "image/png": "[encoded data removed]",
            "text/plain": [
              "<matplotlib.figure.Figure at 0x7ffb079fed30>"
            ]
          },
          "metadata": {
            "tags": []
          }
        }
      ]
    },
    {
      "cell_type": "markdown",
      "metadata": {
        "id": "vEc2op9YDkjD",
        "colab_type": "text"
      },
      "source": [
        "#### 2.3 Evaluate Model"
      ]
    },
    {
      "cell_type": "code",
      "metadata": {
        "id": "xwlNhVMpWfLS",
        "colab_type": "code",
        "colab": {}
      },
      "source": [
        "# and evaluate the model using the scores\n",
        "plt.clf()                                      \n",
        "mse_values = history_dict['mean_squared_error']\n",
        "val_mse_values = history_dict['val_mean_squared_error']\n",
        "\n",
        "plt.plot(epochs, mse_values, 'bo', label='Training MSE')\n",
        "plt.plot(epochs, val_mse_values, 'b', label='Validation MSE')\n",
        "plt.title('Training and validation Score')\n",
        "plt.xlabel('Epochs')\n",
        "plt.ylabel('Loss')\n",
        "plt.legend()\n",
        "\n",
        "plt.show()"
      ],
      "execution_count": 0,
      "outputs": []
    },
    {
      "cell_type": "code",
      "metadata": {
        "id": "S-ihCa1nDnh2",
        "colab_type": "code",
        "colab": {}
      },
      "source": [
        "# we can evaluate in a similar way to the machine learning models \n",
        "predict = model.predict(X_test)\n",
        "score_nn = np.sqrt(metrics.mean_squared_error(y_test,predict))\n",
        "\n",
        "print('RMSE score for {} is:'.format(model.__class__.__name__),np.round((score_nn), decimals=2))"
      ],
      "execution_count": 0,
      "outputs": []
    },
    {
      "cell_type": "markdown",
      "metadata": {
        "id": "yyqYWGfXOReU",
        "colab_type": "text"
      },
      "source": [
        "**EXERCISE 2.3:**  What are the reasons that this model might not be as good as the machine learning models we used on Day 1?\n",
        "\n",
        "---\n",
        "\n",
        "**ANSWER:**\n",
        "\n",
        "\n"
      ]
    },
    {
      "cell_type": "markdown",
      "metadata": {
        "id": "nOmUo0By8D_p",
        "colab_type": "text"
      },
      "source": [
        "### 3. Refine Model\n",
        "**AIM:** \n",
        "To understand the options for building models and refining how compile and fit models. \n",
        "\n",
        "---\n",
        "**Defining Models**\n",
        "  * We can change the number of *'neurons'* that are used at each layer of the model. This will increase or decrease the number of parameters in the model, and may result in the model over- or under-fitting.  \n",
        "  * We can add or remove *layers* within the model. Again, this will increase or decrease the number of parameters in the model, and may result in the model over- or under-fitting.  \n",
        "  * We can change the *activation functions* at each layer of the model, including (where appropriate), the output layer. Some activation functions are more suited to certain problem types, and the ones specified here are appropriate for a regression problem. See the [documention](https://keras.io/activations/) for more information.\n",
        "  \n",
        "**Regularizing Models**\n",
        "* *Weight regularization* constrains the complexity by forcing a network's weights to take only small values, which makes the distribution of weight values more regular. It’s done by adding to the loss function of the network a cost associated with having large weights. This cost will force the optimizer function to update the weights in a direction that reduces the larger weights, and can be calculated by:\n",
        "   * L1 regularization— The cost added is proportional to the absolute value of the weight coefficients.\n",
        "   * L2 regularization— The cost added is proportional to the square of the value of the weight coefficients. See [here](https://keras.io/regularizers/) for more detail.\n",
        "* *Dropout* results in some neurons being omitted from each training epoch, so that the model doesn't become reliant on certain 'neural pathways.' For each training instance, a node has a user defined probabilty of not being activated. We can specify dropout when we build our model, see the documentation and feel free to incorporate it in *Exercise 3.1*. See [here](http://www.cs.toronto.edu/~rsalakhu/papers/srivastava14a.pdf) for more detail and [here](https://keras.io/layers/core/) for how to code it, as well as another example [here](https://machinelearningmastery.com/dropout-regularization-deep-learning-models-keras/).\n",
        "  \n",
        "**Compiling Models**\n",
        "  * We can choose a range of *Optimisation*, *Loss* and *Metric* functions when compiling our models. Like activation functions, some are more suited to certain types of problems than others. See the documentation for more on [Optimizers](https://keras.io/optimizers/), [Loss](https://keras.io/losses/), and [Metrics](https://keras.io/metrics/). \n",
        "  * We can do a `Grid Search` of hyperparameters as we did in Day 1, see [here](https://machinelearningmastery.com/grid-search-hyperparameters-deep-learning-models-python-keras/) for a guide.\n",
        "  \n",
        "  \n",
        "**Refine training/fitting**\n",
        "  * The `.fit()` function contains a number of parameters that can be used to modify how we train our models. See the [documentation](https://keras.io/models/sequential/) for more details.\n",
        "  * For example, it is possible at this stage to partition a validation dataset from the training data, and to evaluate the loss and model metric at each epoch on this validation set.\n",
        "  * We can amend the number of epochs we train the model on, and also specify the number of steps (batches) per epoch, with each batch leading to a gradient update.\n",
        "  * We can also specify [Callbacks](https://keras.io/callbacks/), which are used to provide more information about how the model is trained. See [here](https://machinelearningmastery.com/check-point-deep-learning-models-keras/) for a worked example"
      ]
    },
    {
      "cell_type": "markdown",
      "metadata": {
        "id": "YnUne5B08agg",
        "colab_type": "text"
      },
      "source": [
        "**EXERCISE 3.1:**  Develop a new model (you can use the previous model as a basis for your new one), using one or more of the \n",
        "\n",
        "---\n",
        "\n",
        "**ANSWER:** *Use code cell below*"
      ]
    },
    {
      "cell_type": "code",
      "metadata": {
        "id": "Ur2T-9DjnYlQ",
        "colab_type": "code",
        "colab": {}
      },
      "source": [
        "## TODO: Build new DL Model here\n",
        "model_1 = Sequential()\n",
        "model_1.add(Dense(256,input_dim=input_dim, activation='relu')) \n",
        "model_1.add(Dense(128,activation='relu'))\n",
        "model_1.add(Dropout(0.2))\n",
        "model_1.add(Dense(64,activation='relu'))\n",
        "model_1.add(Dense(output_size))\n",
        "model_1.summary()"
      ],
      "execution_count": 0,
      "outputs": []
    },
    {
      "cell_type": "code",
      "metadata": {
        "id": "oZJhDiwx0ybq",
        "colab_type": "code",
        "colab": {}
      },
      "source": [
        "## TODO: Compile new model here \n",
        "# here we have a number of options for each parameter\n",
        "model_1.compile(loss= \"mean_squared_error\" , optimizer=\"adam\", metrics=[\"mean_squared_error\"])"
      ],
      "execution_count": 0,
      "outputs": []
    },
    {
      "cell_type": "code",
      "metadata": {
        "id": "HXdxCMkrbafg",
        "colab_type": "code",
        "colab": {}
      },
      "source": [
        "# set-up a callback here if you wish\n",
        "callback = "
      ],
      "execution_count": 0,
      "outputs": []
    },
    {
      "cell_type": "code",
      "metadata": {
        "id": "P31Ci6W-0tIQ",
        "colab_type": "code",
        "colab": {}
      },
      "source": [
        "## TODO: Train new Model here\n",
        "epochs = 5\n",
        "history_1 = model_1.fit(X_train, y_train, epochs=epochs,validation_data=(X_val,y_val))#,callbacks=callback)   # delete callbacks argument if not used"
      ],
      "execution_count": 0,
      "outputs": []
    },
    {
      "cell_type": "code",
      "metadata": {
        "id": "aaef2NMg-aX2",
        "colab_type": "code",
        "colab": {}
      },
      "source": [
        "# and use it to plot out the training performance\n",
        "history_dict_1 = history.history\n",
        "loss_values = history_dict_1['loss']\n",
        "val_loss_values = history_dict_1['val_loss']\n",
        "\n",
        "epochs = range(1, len(history_dict_1['mean_squared_error']) + 1)\n",
        "\n",
        "plt.plot(epochs, loss_values, 'bo', label='Training loss')           \n",
        "plt.plot(epochs, val_loss_values, 'b', label='Validation loss')      \n",
        "plt.title('Training and validation loss')\n",
        "plt.xlabel('Epochs')\n",
        "plt.ylabel('Loss')\n",
        "plt.legend()\n",
        "\n",
        "plt.show()"
      ],
      "execution_count": 0,
      "outputs": []
    },
    {
      "cell_type": "code",
      "metadata": {
        "id": "yGQezHJf11sF",
        "colab_type": "code",
        "colab": {}
      },
      "source": [
        "## TODO: Evaluate your model\n",
        "predict = model_1.predict(X_test)\n",
        "score = np.sqrt(metrics.mean_squared_error(y_test,predict))\n",
        "print (score)"
      ],
      "execution_count": 0,
      "outputs": []
    },
    {
      "cell_type": "markdown",
      "metadata": {
        "id": "NL2N1RQs97Yj",
        "colab_type": "text"
      },
      "source": [
        "**EXERCISE 3.2:**  Choose one aspect of the training to train by researching the above points further then passing the compiled model from *3.2* to the \n",
        "\n",
        "---\n",
        "\n",
        "**ANSWER:** *Use code cell below*"
      ]
    },
    {
      "cell_type": "code",
      "metadata": {
        "id": "XqwxJddK-W-b",
        "colab_type": "code",
        "colab": {}
      },
      "source": [
        "## TODO: Build new training approach\n",
        "model_1.fit( #insert parameters here"
      ],
      "execution_count": 0,
      "outputs": []
    },
    {
      "cell_type": "code",
      "metadata": {
        "id": "HoVA8r7C2NFe",
        "colab_type": "code",
        "colab": {}
      },
      "source": [
        "## TODO: Evaluate your model\n",
        "predict = model_1.predict(X_test)\n",
        "score = np.sqrt(metrics.mean_squared_error(y_test,predict))\n",
        "print (score)"
      ],
      "execution_count": 0,
      "outputs": []
    },
    {
      "cell_type": "markdown",
      "metadata": {
        "id": "CQmM5S-l1Yo1",
        "colab_type": "text"
      },
      "source": [
        "### 4. Wrapping up\n",
        "* We have covered: \n",
        "  * What Deep Learning is\n",
        "  * Building, compiling and fitting a model\n",
        "  * Refining how we build model, regularize and train our model\n",
        "* Ideas for additional exercises, *which we can cover via slack if there is demand*:\n",
        "    * Adding additional regularization methods\n",
        "    * Experimenting with adding model layers, changing the number of neurons in the model \n",
        "    "
      ]
    }
  ]
}