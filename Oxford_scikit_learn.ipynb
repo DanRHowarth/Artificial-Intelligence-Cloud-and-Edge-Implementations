{
  "nbformat": 4,
  "nbformat_minor": 0,
  "metadata": {
    "colab": {
      "name": "Oxford_scikit_learn.ipynb",
      "provenance": [],
      "collapsed_sections": [
        "w0d_iE883eXP"
      ],
      "include_colab_link": true
    },
    "kernelspec": {
      "name": "python3",
      "display_name": "Python 3"
    }
  },
  "cells": [
    {
      "cell_type": "markdown",
      "metadata": {
        "id": "view-in-github",
        "colab_type": "text"
      },
      "source": [
        "<a href=\"https://colab.research.google.com/github/DanRHowarth/Artificial-Intelligence-Cloud-and-Edge-Implementations/blob/master/Oxford_scikit_learn.ipynb\" target=\"_parent\"><img src=\"https://colab.research.google.com/assets/colab-badge.svg\" alt=\"Open In Colab\"/></a>"
      ]
    },
    {
      "cell_type": "markdown",
      "metadata": {
        "id": "jyWa9zaxY5oI",
        "colab_type": "text"
      },
      "source": [
        "# `scikit-learn` Tutorial\n",
        "* This notebook covers different code implements from the scikit learn library, including:\n",
        "  * Recaling and Standardizing Data \n",
        "  * Model Evaluation and Metrics \n",
        "  * Classification and regression machine learning algorithms \n",
        "  * Regularization\n",
        "  * Optimising parameters \n",
        "  * Ensemble models \n",
        "  * Building Pipelines\n",
        "* We will use classification and regression datasets from `scikit-learn`, and will take code from the *Python Machine Learning* coursebook, as well as [Hands-On Machine Learning with Scikit-Learn and TensorFlow](https://www.amazon.co.uk/Hands-Machine-Learning-Scikit-Learn-TensorFlow/dp/1491962291/ref=sr_1_1?ie=UTF8&qid=1541011829&sr=8-1&keywords=hands+on+machine+learning+with+scikit-learn+and+tensorflow) and [Machine Learning with Python Cookbook](https://www.amazon.co.uk/Machine-Learning-Python-Cookbook-Chris/dp/1491989386/ref=pd_sim_14_5?_encoding=UTF8&pd_rd_i=1491989386&pd_rd_r=e03d308c-dd3d-11e8-9244-bbcc5e42676d&pd_rd_w=lQiym&pd_rd_wg=lVZwd&pf_rd_i=desktop-dp-sims&pf_rd_m=A3P5ROKL5A1OLE&pf_rd_p=1e3b4162-429b-4ea8-80b8-75d978d3d89e&pf_rd_r=KBZG3157A75PS5MPGY8K&pf_rd_s=desktop-dp-sims&pf_rd_t=40701&psc=1&refRID=KBZG3157A75PS5MPGY8K) (both excellent books should you wish to continue your studies in this area).\n",
        "\n",
        "\n",
        "\n",
        "\n",
        "\n",
        "### Approach and Exercises\n",
        "* Note that this notebook is not focussed on how to structure an end to end machine learning problem, but is about extending the code implementations you will see in the end-to-end tutorials to further your knowledge.\n",
        "* This notebook is a progression from the previous notebooks, meaning that the exercises will generally be more involved. We will provide code implementations for one of the datasets and leave space for you to code implementations on a different dataset. Support is available via slack. \n",
        "* Each section will have an exercise to help reinforce your learning. We suggest you:\n",
        "   * Write out each line of code by hand (rather than copy and paste it from the relevant example) - this will improve your understanding of code syntax\n",
        "   * Write out, above each line of code, an explanation as to what the code, using a comment `#` - this will improve your understanding of how the code works\n"
      ]
    },
    {
      "cell_type": "markdown",
      "metadata": {
        "id": "KA2bg4ruhi0G",
        "colab_type": "text"
      },
      "source": [
        "## 1. Tutorial set up \n",
        "* Import statements\n",
        "* Loading the datasets\n",
        "* Reviewing the ML problem"
      ]
    },
    {
      "cell_type": "code",
      "metadata": {
        "id": "6VrrYp-SY2Z4",
        "colab_type": "code",
        "colab": {}
      },
      "source": [
        "# import statements \n",
        "from sklearn.datasets import load_breast_cancer\n",
        "from sklearn.datasets import load_boston\n",
        "\n",
        "import pandas as pd\n",
        "import numpy as np\n",
        "\n",
        "# we will generally import scikit learn libraries when the are required, so you understand which specifc libraries are required "
      ],
      "execution_count": 0,
      "outputs": []
    },
    {
      "cell_type": "code",
      "metadata": {
        "id": "A19qwVSK8oRL",
        "colab_type": "code",
        "colab": {}
      },
      "source": [
        "# load the classification dataset\n",
        "class_data = load_breast_cancer()\n",
        "class_X = pd.DataFrame(class_data.data, columns = class_data.feature_names)\n",
        "class_y = class_data.target\n",
        "\n",
        "# check the data has loaded successfully \n",
        "print(class_X.shape)\n",
        "print(class_y.shape)"
      ],
      "execution_count": 0,
      "outputs": []
    },
    {
      "cell_type": "code",
      "metadata": {
        "id": "RK67KgsUDAvk",
        "colab_type": "code",
        "colab": {}
      },
      "source": [
        "# load the regression dataset\n",
        "boston = load_boston()\n",
        "boston_X = pd.DataFrame(boston.data, columns = boston.feature_names)\n",
        "boston_y = boston.target\n",
        "\n",
        "# check the data has loaded successfully \n",
        "print(boston_X.shape)\n",
        "print(boston_y.shape)"
      ],
      "execution_count": 0,
      "outputs": []
    },
    {
      "cell_type": "markdown",
      "metadata": {
        "id": "Em1bucYpgKsS",
        "colab_type": "text"
      },
      "source": [
        "## 2. Rescaling and Standardizing Data \n",
        "* Machine Learning algorithms can receive perform benefits from data that has been rescaled and standardized, either in terms of speed or accuracy, or both.\n",
        "* There are a number of different ways of doing this, and implementations may vary because of algorithm requirements or personal preference.\n",
        "* We cover two common implementations below, and an additional one in the exercise. We'd encourage further research to understand the maths in more detail."
      ]
    },
    {
      "cell_type": "code",
      "metadata": {
        "id": "q2dB0Y6qlAq5",
        "colab_type": "code",
        "colab": {}
      },
      "source": [
        "## rescaling using MinMaxScaler, which converts data to a specified range, usually (0,1) or (-1,1)\n",
        "## many machine learning algorithms assume data is on the same scale  \n",
        "\n",
        "# here we import the necessary library \n",
        "from sklearn.preprocessing import MinMaxScaler\n",
        "\n",
        "# Create feature - we will use one feature but you may just pass all the features to rescaler \n",
        "feature = class_X['texture error']\n",
        "\n",
        "# print feature prior to rescaling\n",
        "print(\"Features prior to rescaling:\\n\")\n",
        "print(feature[0:10])\n",
        "\n",
        "# we will print the shape out as well \n",
        "print(\"\\nFeature shape prior to reshaping:\")\n",
        "print(feature.shape)"
      ],
      "execution_count": 0,
      "outputs": []
    },
    {
      "cell_type": "code",
      "metadata": {
        "id": "Puz03eB8SCDw",
        "colab_type": "code",
        "colab": {}
      },
      "source": [
        "## because we have used a pandas column, our data has the wrong shape for the function\n",
        "## we need a 2D tuple\n",
        "\n",
        "# this will reshape the data \n",
        "feature = feature.values.reshape(-1,1)\n",
        "\n",
        "# notice we now have a (samples,feature) tuple not just a (samples,) tuple\n",
        "print(\"\\nFeature shape after reshaping:\")\n",
        "feature.shape"
      ],
      "execution_count": 0,
      "outputs": []
    },
    {
      "cell_type": "code",
      "metadata": {
        "id": "D3VSoI24RvCf",
        "colab_type": "code",
        "colab": {}
      },
      "source": [
        "# we need to instantiate the scaler and pass in the range we want our values to be scaled within \n",
        "minmax_scale = MinMaxScaler(feature_range=(0, 1))\n",
        "\n",
        "# Scale the feature - note the fit_transform function, in the next example we will separate these steps\n",
        "scaled_feature = minmax_scale.fit_transform(feature)\n",
        "\n",
        "# lets look at the features now we have rescaled\n",
        "print(\"Features after rescaling:\\n\")\n",
        "scaled_feature[0:10]"
      ],
      "execution_count": 0,
      "outputs": []
    },
    {
      "cell_type": "code",
      "metadata": {
        "id": "gcILmN5JlA5W",
        "colab_type": "code",
        "colab": {}
      },
      "source": [
        "## standardizing rescales features so that they are normally distributed, with a mean of 0 and a std deviation of 1\n",
        "\n",
        "# import the appropriate library\n",
        "from sklearn.preprocessing import StandardScaler\n",
        "\n",
        "# we will transform all the features in the dataset, so let's look at it  prior to transformation\n",
        "mean_std = pd.DataFrame(data={'mean':class_X.mean(), 'std':class_X.std()})\n",
        "\n",
        "# call the dataframe\n",
        "mean_std[0:10]"
      ],
      "execution_count": 0,
      "outputs": []
    },
    {
      "cell_type": "code",
      "metadata": {
        "id": "khSirtDXVRAs",
        "colab_type": "code",
        "colab": {}
      },
      "source": [
        "# Create scaler\n",
        "scaler = StandardScaler()\n",
        "\n",
        "# fit the scaler - this calculates the minimum and maximum values of the data\n",
        "scaler.fit(class_X)\n",
        "\n",
        "# transform the data using the fitted scaler - this applies the transform using the fit\n",
        "standardized = scaler.transform(class_X)\n",
        "\n",
        "# this shows the features transformed - note that this returns an array not a dataframe\n",
        "standardized[0:10]"
      ],
      "execution_count": 0,
      "outputs": []
    },
    {
      "cell_type": "code",
      "metadata": {
        "id": "gIRzFhg0X_cA",
        "colab_type": "code",
        "colab": {}
      },
      "source": [
        "# lets have another look at our transformed data\n",
        "mean_std_transformed = pd.DataFrame(data={'mean':standardized.mean(), 'std':standardized.std()}, index=class_X.columns)\n",
        "\n",
        "# call the dataframe\n",
        "mean_std_transformed[0:10]"
      ],
      "execution_count": 0,
      "outputs": []
    },
    {
      "cell_type": "markdown",
      "metadata": {
        "id": "WS2xLaapj-xV",
        "colab_type": "text"
      },
      "source": [
        "### EXERCISE SECTION 2: \n",
        "* Apply the `Rescaling` and `Standardization` functions to one or more features of the `Boston` dataset\n",
        "* Research and implement a `Normalizer` function\n",
        "* Have a think about what circumstances each of these functions might be most appropriate to apply to different data and why \n",
        "* We can discuss the implementations and benefits of each approach on Slack "
      ]
    },
    {
      "cell_type": "code",
      "metadata": {
        "id": "KK0B4ANXmQiE",
        "colab_type": "code",
        "colab": {}
      },
      "source": [
        "## EXERCISE CODE GOES HERE \n",
        "\n"
      ],
      "execution_count": 0,
      "outputs": []
    },
    {
      "cell_type": "markdown",
      "metadata": {
        "id": "f8E5I4vtgK7y",
        "colab_type": "text"
      },
      "source": [
        "## 3. Model Evaluation and Metrics \n",
        "* We need to understand how we are going to assess our model's performance. This involves:\n",
        "  * Splitting our Training and Testing data appropriately \n",
        "  * Choosing an Evaluation Metric\n",
        "  * Developing a Baseline Model \n"
      ]
    },
    {
      "cell_type": "code",
      "metadata": {
        "id": "uq-9z9Hgnwia",
        "colab_type": "code",
        "colab": {}
      },
      "source": [
        "## testing and training splits \n",
        "\n",
        "# import statement \n",
        "from sklearn.model_selection import train_test_split\n",
        "\n",
        "# this splits our data into a test and training set\n",
        "# the function shuffles our data before splitting (so will get both classes in both sets)\n",
        "# setting a random_state means that this shuffling will be consistent for each run \n",
        "# setting stratify=class_y tells the function to have an even number of class labels in each set\n",
        "X_train, X_test, y_train, y_test = train_test_split(class_X,class_y, test_size=0.3, random_state=1, stratify = class_y)"
      ],
      "execution_count": 0,
      "outputs": []
    },
    {
      "cell_type": "code",
      "metadata": {
        "id": "-LcIe8dY_50z",
        "colab_type": "code",
        "colab": {}
      },
      "source": [
        "# we can verify the stratifications using np.bincount\n",
        "print('Labels counts in y:', np.bincount(class_y))\n",
        "print('Percentage of class zeroes in class_y',np.round(np.bincount(class_y)[0]/len(class_y)*100))\n",
        "\n",
        "print(\"\\n\")\n",
        "print('Labels counts in y_train:', np.bincount(y_train))\n",
        "print('Percentage of class zeroes in y_train',np.round(np.bincount(y_train)[0]/len(y_train)*100))\n",
        "\n",
        "print(\"\\n\")\n",
        "print('Labels counts in y_test:', np.bincount(y_test))\n",
        "print('Percentage of class zeroes in y_test',np.round(np.bincount(y_test)[0]/len(y_test)*100))\n"
      ],
      "execution_count": 0,
      "outputs": []
    },
    {
      "cell_type": "markdown",
      "metadata": {
        "id": "kEM_Ub4wCx7I",
        "colab_type": "text"
      },
      "source": [
        "* Note that there are additional ways to divide our data into test and training sets, and we cover `K-fold cross validation` in the **Pipeline** section below."
      ]
    },
    {
      "cell_type": "code",
      "metadata": {
        "id": "BLckno3Rnw-N",
        "colab_type": "code",
        "colab": {}
      },
      "source": [
        "## we can create a baseline model to benchmark our other estimators against\n",
        "## this can be a simple estimator or we can use a dummy estimator to make predictions in a random manner \n",
        "\n",
        "# this is the required import statement \n",
        "from sklearn.dummy import DummyClassifier\n",
        "\n",
        "# this creates our dummy classifier, and the value we pass in to the strategy parameter dtermn\n",
        "dummy = DummyClassifier(strategy='uniform', random_state=1)\n",
        "\n",
        "# \"Train\" model\n",
        "dummy.fit(X_train, y_train)"
      ],
      "execution_count": 0,
      "outputs": []
    },
    {
      "cell_type": "code",
      "metadata": {
        "id": "mrBocYv4nwwW",
        "colab_type": "code",
        "colab": {}
      },
      "source": [
        "## evaluating the model metrics\n",
        "\n",
        "# Here we get an accuracy score\n",
        "dummy.score(X_test, y_test)"
      ],
      "execution_count": 0,
      "outputs": []
    },
    {
      "cell_type": "markdown",
      "metadata": {
        "id": "H5vlaKNKRPeC",
        "colab_type": "text"
      },
      "source": [
        "* There are a number of different ways in `scikit-learn` to get an estimator score and it can get confusing first.\n",
        "* Remember that to get a score, we need to instantiate a model, fit it to the data, predict using unseen data, compare the predictions against actual data, and score the difference. This is true for classification and regression problems, and is true no matter the method used to get there.\n",
        "  * So, in the end-to-end tutorials we split the training and test data,  fitted our data to an estimator, and called the `.predict` method on the estimator to get our predictions, and then passed this to a scoring function (four steps)\n",
        "  * In using the `estimator.score()`method above, we are passing in our split data and the method is then making predictions and returning the score (three steps). \n",
        "  * And, in the `cross_val_score()` method used below we are effectively using one step as the method takes an estimator and our data and returns a score. You can find out more about this method [here](https://scikit-learn.org/stable/modules/cross_validation.html) "
      ]
    },
    {
      "cell_type": "code",
      "metadata": {
        "id": "kEd1YkKQHHqo",
        "colab_type": "code",
        "colab": {}
      },
      "source": [
        "## here we fit a new estimator and use cross_val_score to get a score based on a defined metric \n",
        "\n",
        "# import statements\n",
        "from sklearn.model_selection import cross_val_score\n",
        "from sklearn.linear_model import LogisticRegression\n",
        "\n",
        "# instantiate logistic regression classifier\n",
        "logistic = LogisticRegression()\n",
        "\n",
        "# we pass our estimator and data to the method. we also specify the number of folds (default is 3)\n",
        "# the default scring method is the one associated with the estimator we pass in\n",
        "# we can use the scoring parameter to pass in different scoring methods. Here we use recall.  \n",
        "cross_val_score(logistic, class_X, class_y, cv=5, scoring=\"recall\")"
      ],
      "execution_count": 0,
      "outputs": []
    },
    {
      "cell_type": "markdown",
      "metadata": {
        "id": "Od2_2Tq1n0pc",
        "colab_type": "text"
      },
      "source": [
        "### EXERCISE SECTION 3:\n",
        "* Part 1: Implement binary classification scoring functions \n",
        "  * Use `cross_val_score` to implement `f1`, and `precision` scores \n",
        "  * Understand what these scores, and the `accuracy` and `recall` scores implemented above, tell us\n",
        "* Part 2: Another way of assessing our model's performance is with the `Receiving Operating Characteristic (ROC) Curve`. \n",
        "  * What does this show us? Can you implement it?\n",
        "  * Like the other questions here, we can work through these via slack.\n",
        "* Part 3: What are the main ways of evaluating a mutliclass classification problem?\n",
        "  * Research and make notes below\n",
        "* Part 4: Apply the above approach to the Boston dataset. You should think about:\n",
        "  * What sort of test and training split you want to implement \n",
        "    * Be careful to change the variable names for `X_train`, `y_train` etc. so that the new dataset doesn't overwrite those variables\n",
        "    * Experiment with not using the `stratify =  ` variable\n",
        "  * The evaluation metrics you wish to use and why (this is different than above as the Boston dataset is a regression problem)\n",
        "    * Evaluation metrics are covered in *Python Machine Learning*, Chapter 6\n",
        "  * Implementing a baseline model \n",
        "    * *Python Machine Learning*, Chapter 10 has linear regression implementations to draw from.\n",
        "* Feel free to discuss your approach on Slack and ask for support "
      ]
    },
    {
      "cell_type": "code",
      "metadata": {
        "id": "89mkhQL_HH3A",
        "colab_type": "code",
        "colab": {}
      },
      "source": [
        "## EXERCISE SECTION 3: PART 1\n",
        "## use the cross_val_score function to pass in and return the scoring functions: precision, f1 \n",
        "## note the scores and research what each score represents \n",
        "\n"
      ],
      "execution_count": 0,
      "outputs": []
    },
    {
      "cell_type": "code",
      "metadata": {
        "id": "qjBM1RwPLW23",
        "colab_type": "code",
        "colab": {}
      },
      "source": [
        "## EXERCISE SECTION 3: PART 2\n",
        "## look up and implement the ROC metric \n"
      ],
      "execution_count": 0,
      "outputs": []
    },
    {
      "cell_type": "markdown",
      "metadata": {
        "id": "E0vDRITZL1M1",
        "colab_type": "text"
      },
      "source": [
        "**EXERCISE SECTION 3: PART 3**\n",
        "* What are the evaluation metrics that can be used for mutliclass regression problems?\n",
        "\n",
        "\n",
        "---\n",
        "\n",
        "**Answer**\n",
        "* Text here\n"
      ]
    },
    {
      "cell_type": "code",
      "metadata": {
        "id": "Wg9cj_52o7Un",
        "colab_type": "code",
        "colab": {}
      },
      "source": [
        "## EXERCISE SECTION 3: PART 4 \n",
        "## Implement a baseline model and evaluation metric for the Boston dataset (regression)\n",
        "\n"
      ],
      "execution_count": 0,
      "outputs": []
    },
    {
      "cell_type": "markdown",
      "metadata": {
        "id": "ptGBIAY4gLI9",
        "colab_type": "text"
      },
      "source": [
        "## 4. Classification and regression machine learning algorithms "
      ]
    },
    {
      "cell_type": "markdown",
      "metadata": {
        "id": "FgIyAS2_qjSV",
        "colab_type": "text"
      },
      "source": [
        "### EXERCISE SECTION 4:\n",
        "* You already have an idea about how to fit and instatiate machine learning models.\n",
        "* There are a large number of machine learning approaches you can use, and this exercise is about understanding how a number of them perform on our datasets.\n",
        "* Research and instantiate as many algorithms as you wish in the code cell marked below. \n",
        "  * There are a number of examples in *Python Machine Learning*, for example `SVM`, `Decision Trees` and `Logistic Regression` in Chapter 3."
      ]
    },
    {
      "cell_type": "code",
      "metadata": {
        "id": "qsEysh7vshDG",
        "colab_type": "code",
        "colab": {}
      },
      "source": [
        "## EXERCISE CODE HERE \n"
      ],
      "execution_count": 0,
      "outputs": []
    },
    {
      "cell_type": "markdown",
      "metadata": {
        "id": "qIFg9b-7wXgX",
        "colab_type": "text"
      },
      "source": [
        "## 5. Regularization \n",
        "* When we train our models, we might need to prevent against **over-** or **underfitting**. Overfitting is when our model performs well on the training data but does not generalise to unseen data (such as our test set). The model might be too complex, with the parameter weights probably too large and too aligned too closely to the patterns of the training data. The solution is to develop a means of reducing these weights during training, and this is done through a process called **regularization**.\n",
        "* Underfitting is when our model is too simple to capture patterns in either the training or test sets. Chapters 3 and 10 of *Python Machine Learning* cover this topic in more detail.\n",
        "* How we regularise the model depends on what estimator we are using. In most cases, we can penalise the increase in parameter weights as the model trains by inserting a regularization term to our model when we instantiate it. This is applicable to regression models, logistics regression and support vector classifiers (see below for implementations).  \n",
        "* For these estimators, the regularization term is commonly either **L1 Regularization**, where the weights are reduced by a user defined parameter multiplied by the absolute value of the weights (or coefficients); or **L2 Regularization**, where the weights are reduced by a user defined parameter multiplied by the squared sum of the weights.\n",
        "* For tree based models, such as Decision Trees and Random Forests, we can help prevent overfitting by adjusting parameters associated with the leaf and branch settings.\n",
        "* Regularization is another reason why feature scaling such as standardization is important. For regularization to work properly, we need to ensure that all our features are on comparable scales.\n",
        "* We implement L1 and L2 Regularization for regression models in this section. In Section 6, we implement  `RandomSearchCV` (explained below) on a `Logistic Regression` estimator. The parameters that we change in that implementation are related to regularization ('`C`' and '`penalty`')."
      ]
    },
    {
      "cell_type": "code",
      "metadata": {
        "id": "KuSLgswxwX4w",
        "colab_type": "code",
        "colab": {}
      },
      "source": [
        "## For regularization in regression we instantiate new models\n",
        "## Lasso regression is used for L1 Regularization \n",
        " \n",
        "# import statement \n",
        "from sklearn.linear_model import Lasso\n",
        "\n",
        "# Create lasso regression with alpha value - this is our hyperparameter \n",
        "regression = Lasso(alpha=0.5)\n",
        " \n",
        "# Fit the linear regression\n",
        "model_l1 = regression.fit(class_X, class_y)"
      ],
      "execution_count": 0,
      "outputs": []
    },
    {
      "cell_type": "code",
      "metadata": {
        "id": "LASLHhqSxvPt",
        "colab_type": "code",
        "colab": {}
      },
      "source": [
        "## Ridge regression is L2 Regularization\n",
        "\n",
        "# import statement \n",
        "from sklearn.linear_model import Ridge\n",
        "\n",
        "# Create ridge regression with an alpha value\n",
        "regression = Ridge(alpha=0.5)\n",
        " \n",
        "# Fit the linear regression\n",
        "model_l2 = regression.fit(class_X, class_y)"
      ],
      "execution_count": 0,
      "outputs": []
    },
    {
      "cell_type": "markdown",
      "metadata": {
        "id": "5kWobSEgwqad",
        "colab_type": "text"
      },
      "source": [
        "### EXERCISE FOR SECTION 5\n",
        "* Part 1: Train both the models above and get a score. Compare the results and see if one type of regularization works better than another.\n",
        "* Part 2: The `ElasticNet`estimator combines both L1 and L2 Regularization. Look up the estimator on the scikit-learn documentation and a) write out how it combines both regularization methods, and b) see if you can implement it.\n",
        "* Part 3: We can use `RidgeCV` and `LassoCV` to explore the best regularization parameters for each estimator. Implement one or both of these estimators, defining the parameters you want to search over.\n",
        "* Part 4: Look at the `DecisionTreeClassifier `documentation in `scikit-learn` and come to a view on which parameters can be set to help prevent overfitting (and therefore help regularization). "
      ]
    },
    {
      "cell_type": "code",
      "metadata": {
        "id": "JO1SGtIRwYHA",
        "colab_type": "code",
        "colab": {}
      },
      "source": [
        "## EXERCISE SECTION 5: PART 1 \n",
        "\n"
      ],
      "execution_count": 0,
      "outputs": []
    },
    {
      "cell_type": "code",
      "metadata": {
        "id": "5ZAm2HeawYhd",
        "colab_type": "code",
        "colab": {}
      },
      "source": [
        "## EXERCISE SECTION 5: PART 2 \n",
        "\n"
      ],
      "execution_count": 0,
      "outputs": []
    },
    {
      "cell_type": "code",
      "metadata": {
        "id": "718i3izO3dEv",
        "colab_type": "code",
        "colab": {}
      },
      "source": [
        "## EXERCISE SECTION 5: PART 3\n",
        "\n"
      ],
      "execution_count": 0,
      "outputs": []
    },
    {
      "cell_type": "markdown",
      "metadata": {
        "id": "w0d_iE883eXP",
        "colab_type": "text"
      },
      "source": [
        "#### EXERCISE SECTION 5: PART 4\n",
        "* Answer here"
      ]
    },
    {
      "cell_type": "markdown",
      "metadata": {
        "id": "rrVZ5owOgLlh",
        "colab_type": "text"
      },
      "source": [
        " ## 6. Optimizing parameters \n",
        " * We applied `GridSearchCV` to identify the best hyperparameters for our models in the in-class regression tutorials.\n",
        " * There are other methods available to use that don't take the brute force approach of `GridSearchCV`.\n",
        " * We will cover an implementation of `RandomizedSearchCV` below, and use the exercise for you to implement it on the other datatset.\n",
        "  * We use this method to search over defined hyperparameters, like `GridSearchCV`, however a fixed number of parameters are sampled, as defined by `n_iter` parameter.  \n",
        "  "
      ]
    },
    {
      "cell_type": "code",
      "metadata": {
        "id": "od1RjPl504pw",
        "colab_type": "code",
        "colab": {}
      },
      "source": [
        "# import libraries - note we use scipy for generating a unifor distribution \n",
        "from scipy.stats import uniform\n",
        "from sklearn.model_selection import RandomizedSearchCV\n",
        "\n",
        "# Create logistic regression\n",
        "logistic = LogisticRegression()\n",
        "\n",
        "# we can create hyperparameters as a list, as in type regularization penalty \n",
        "penalty = ['l1', 'l2']\n",
        "\n",
        "# or as a distribution of values to sample from -'C' is the hyperparameter controlling the size of the regularisation penelty \n",
        "C = uniform(loc=0, scale=4)\n",
        "\n",
        "# we need to pass these parameters as a dictionary of {param_name: values}\n",
        "hyperparameters = dict(C=C, penalty=penalty)\n",
        "\n",
        "# we instantiate our model\n",
        "randomizedsearch = RandomizedSearchCV(\n",
        "    logistic, hyperparameters, random_state=1, n_iter=100, cv=5, verbose=0,\n",
        "    n_jobs=-1)\n",
        "\n",
        "# and fit it to the data \n",
        "best_model = randomizedsearch.fit(class_X, class_y)"
      ],
      "execution_count": 0,
      "outputs": []
    },
    {
      "cell_type": "code",
      "metadata": {
        "id": "Z58WbRA-tDuL",
        "colab_type": "code",
        "colab": {}
      },
      "source": [
        "# and we can call this method to return the best parameters the search returned\n",
        "best_model.best_estimator_"
      ],
      "execution_count": 0,
      "outputs": []
    },
    {
      "cell_type": "markdown",
      "metadata": {
        "id": "Y2odbxKo040A",
        "colab_type": "text"
      },
      "source": [
        "### EXERCISE FOR SECTION 6: \n",
        "* Part 1: Once we have fit the model to our data, we can call different methods on it, for example we can find out what the best parameters were, and we can predict using the best estimator returned by the search. Use the docs [here](https://scikit-learn.org/stable/modules/generated/sklearn.model_selection.RandomizedSearchCV.html) to call these methods on the `best_model` variable above. \n",
        "* Part 2: Implement `RandomSearchCV` on the Boston dataset\n",
        "  * Think about which parameters you want to specify\n",
        "  * You can pass these parameters to variables prior to creating the random search (as we do above)\n",
        "  * Then call methods as we do for Part 1."
      ]
    },
    {
      "cell_type": "code",
      "metadata": {
        "id": "Ms6grwmT048R",
        "colab_type": "code",
        "colab": {}
      },
      "source": [
        "## EXERCISE SECTION 6: PART 1 \n",
        "  \n"
      ],
      "execution_count": 0,
      "outputs": []
    },
    {
      "cell_type": "code",
      "metadata": {
        "id": "emxT2zlrrzQ5",
        "colab_type": "code",
        "colab": {}
      },
      "source": [
        "## EXERCISE SECTION 6: PART 2\n",
        "\n"
      ],
      "execution_count": 0,
      "outputs": []
    },
    {
      "cell_type": "markdown",
      "metadata": {
        "id": "KcFWj3HEgL9t",
        "colab_type": "text"
      },
      "source": [
        "## 7. Ensemble models \n",
        "\n",
        "* The goal of ensemble methods is to combine different classifiers into a meta-classifier that has better generalization performance than each individual classifier alone. \n",
        "* There are several different approaches to achieve this, including **majority voting** ensemble methods, which we select the class label that has been predicted by the majority of classifiers.\n",
        "* The ensemble can be built from different classification algorithms, such as decision trees, support vector machines, logistic regression classifiers, and so on. Alternatively, we can also use the same base classification algorithm, fitting different subsets of the training set. \n",
        "* Indeed, Majority voting will work best if the classifiers used are different from each other and/or trained on different datasets (or subsets of the same data) in order for their errors to be uncorrelated.  Chapter 7 of *Python Machine Learning* has a good discussion of the principles behind Ensemble models. "
      ]
    },
    {
      "cell_type": "code",
      "metadata": {
        "id": "0zCHjuFr1orF",
        "colab_type": "code",
        "colab": {}
      },
      "source": [
        "# import our classifiers\n",
        "from sklearn.ensemble import RandomForestClassifier\n",
        "from sklearn.ensemble import VotingClassifier\n",
        "from sklearn.svm import SVC\n",
        "from sklearn.metrics import accuracy_score\n",
        "\n",
        "# lets instantiate individual models \n",
        "log_clf = LogisticRegression()\n",
        "rnd_clf = RandomForestClassifier()\n",
        "svm_clf = SVC()\n",
        "\n",
        "# and an ensemble of them\n",
        "voting_clf = VotingClassifier(estimators=[('lr', log_clf), ('rf', rnd_clf), ('svc', svm_clf)],\n",
        "                              # here we select hard voting, which returns the majority of the predictions, not an average of probabilities\n",
        "                              voting='hard')"
      ],
      "execution_count": 0,
      "outputs": []
    },
    {
      "cell_type": "code",
      "metadata": {
        "id": "blYK41CIoM-F",
        "colab_type": "code",
        "colab": {}
      },
      "source": [
        "# here we can cycle through the individual estimators \n",
        "for clf in (log_clf, rnd_clf, svm_clf, voting_clf):\n",
        "    \n",
        "    # fit them to the training data \n",
        "    clf.fit(X_train, y_train)\n",
        "    \n",
        "    # get a prediction\n",
        "    y_pred = clf.predict(X_test)\n",
        "    \n",
        "    # and print the prediction \n",
        "    print(clf.__class__.__name__, accuracy_score(y_test, y_pred))"
      ],
      "execution_count": 0,
      "outputs": []
    },
    {
      "cell_type": "markdown",
      "metadata": {
        "id": "iIoSkRC31o36",
        "colab_type": "text"
      },
      "source": [
        "### EXERCISE FOR SECTION 7: \n",
        "* Part 1: Implement **soft voting**.\n",
        " * If all the classifiers used in the ensemble are able to estimate class probabilities (they have a `predict_proba()` method that can be called on the estimator), then you can tell Scikit-Learn to predict the class with the highest class probability, averaged over all the individual classifiers. It often achieves higher performance than hard voting because it gives more weight to highly confident votes. \n",
        " *  Replace `voting=\"hard\"` with `voting=\"soft\"` and ensure that all your classifiers can estimate class probabilities. \n",
        "  * If you use the SVC estimator, you need to set `probability = True`, which will make the SVC class use cross-validation to estimate class probabilities and add a predict_proba() method. \n",
        "\n",
        "* Part 2: Implement Ensemble Learnng on the Boston Dataset.\n"
      ]
    },
    {
      "cell_type": "code",
      "metadata": {
        "id": "KM8-EZ7S1pNA",
        "colab_type": "code",
        "colab": {}
      },
      "source": [
        "## EXERCISE SECTION 7: PART 1 \n",
        "\n"
      ],
      "execution_count": 0,
      "outputs": []
    },
    {
      "cell_type": "code",
      "metadata": {
        "id": "fHtG2PNJpFFH",
        "colab_type": "code",
        "colab": {}
      },
      "source": [
        "## EXERCISE SECTION 7: PART 2 \n",
        "\n"
      ],
      "execution_count": 0,
      "outputs": []
    },
    {
      "cell_type": "markdown",
      "metadata": {
        "id": "ojriAzfkgMXC",
        "colab_type": "text"
      },
      "source": [
        "## 8. Building Pipelines\n",
        "* We can build a pipeline so that many of the steps we have covered to now can be implemented in one step, and be applied to the training and testing set without repeating code.\n",
        "* We will cover one implementation of a pipeline. The exercise below will link to further information for you to be able implement your own pipelines"
      ]
    },
    {
      "cell_type": "code",
      "metadata": {
        "id": "JR_8ZldC1rvI",
        "colab_type": "code",
        "colab": {}
      },
      "source": [
        "# import the libraries - these are dependent on what we wish to implement in our pipelines\n",
        "from sklearn.preprocessing import StandardScaler\n",
        "from sklearn.decomposition import PCA\n",
        "from sklearn.linear_model import LogisticRegression\n",
        "# this is the pipeline class required to implement all pipelines\n",
        "from sklearn.pipeline import make_pipeline"
      ],
      "execution_count": 0,
      "outputs": []
    },
    {
      "cell_type": "code",
      "metadata": {
        "id": "XEmL5PNwslpH",
        "colab_type": "code",
        "colab": {}
      },
      "source": [
        "# here we instantiate the pipeline with our methods\n",
        "pipe_lr = make_pipeline(StandardScaler(),                    # takes an arbitary number of transfomers\n",
        "                        PCA(n_components=2),\n",
        "                        LogisticRegression(random_state=1))  # but ends with an estimator"
      ],
      "execution_count": 0,
      "outputs": []
    },
    {
      "cell_type": "code",
      "metadata": {
        "id": "HhAe2-Wdslzd",
        "colab_type": "code",
        "colab": {}
      },
      "source": [
        "# here we fit our pipeline to the data, so that the steps above are executed on the training set\n",
        "pipe_lr.fit(X_train, y_train)"
      ],
      "execution_count": 0,
      "outputs": []
    },
    {
      "cell_type": "code",
      "metadata": {
        "id": "Z2dROmyLvph8",
        "colab_type": "code",
        "colab": {}
      },
      "source": [
        "# here we call the predict method on our pipeline model against the test set \n",
        "y_pred = pipe_lr.predict(X_test)"
      ],
      "execution_count": 0,
      "outputs": []
    },
    {
      "cell_type": "code",
      "metadata": {
        "id": "dVyLf9QNvKzG",
        "colab_type": "code",
        "colab": {}
      },
      "source": [
        "# and print out the result\n",
        "print('Test Accuracy: %.3f' % accuracy_score(y_test, y_pred)) "
      ],
      "execution_count": 0,
      "outputs": []
    },
    {
      "cell_type": "markdown",
      "metadata": {
        "id": "Wn3FnXs71r53",
        "colab_type": "text"
      },
      "source": [
        "### EXERCISE FOR SECTION 8: \n",
        "* Implement a pipeline on the classification dataset (the one used in the example above). Specifically, implement `K-Fold Cross Validation` as set out in  *Python Machine Learning*, Chapter 6.\n",
        "  Moreinformation on pipelines is available at this [link](https://www.kdnuggets.com/2017/12/managing-machine-learning-workflows-scikit-learn-pipelines-part-1.html) blog series \n",
        "* Think about:\n",
        "  * the code being implemented for `K-Fold Cross Validation` as part of the pipeline. Put comments above the code to explain what is happening. \n",
        "  * how you want to preprocess the data\n",
        "  * whether you want to think about lower the dimensions of the data with something like `Principal Component Analysis`\n",
        "  * what algorithm you want to use \n",
        "  * make sure to predict the data"
      ]
    },
    {
      "cell_type": "code",
      "metadata": {
        "id": "bJPj73ve1sG8",
        "colab_type": "code",
        "colab": {}
      },
      "source": [
        "## EXERCISE CODE HERE\n",
        "\n"
      ],
      "execution_count": 0,
      "outputs": []
    },
    {
      "cell_type": "markdown",
      "metadata": {
        "id": "B7jIn9fwgMew",
        "colab_type": "text"
      },
      "source": [
        "## 9. Review\n",
        "* We have covered:\n",
        "  * Scaling and Standardizing Data \n",
        "  * Model Evaluation and Metrics \n",
        "  * Classification and regression machine learning algorithms  \n",
        "  * Regularization\n",
        "  * Optimising parameters \n",
        "  * Ensemble models \n",
        "  * Building Pipelines\n",
        "* We have of course not covered everything that it is possible to cover, and there is plenty more to research. Please ask questions on Slack or follow-up with your own research."
      ]
    },
    {
      "cell_type": "code",
      "metadata": {
        "id": "AP52AGypxJW5",
        "colab_type": "code",
        "colab": {}
      },
      "source": [
        ""
      ],
      "execution_count": 0,
      "outputs": []
    }
  ]
}