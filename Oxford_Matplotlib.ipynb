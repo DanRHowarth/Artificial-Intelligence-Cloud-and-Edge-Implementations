{
  "nbformat": 4,
  "nbformat_minor": 0,
  "metadata": {
    "colab": {
      "name": "Oxford_Matplotlib.ipynb",
      "provenance": [],
      "collapsed_sections": [],
      "include_colab_link": true
    },
    "kernelspec": {
      "name": "python3",
      "display_name": "Python 3"
    }
  },
  "cells": [
    {
      "cell_type": "markdown",
      "metadata": {
        "id": "view-in-github",
        "colab_type": "text"
      },
      "source": [
        "<a href=\"https://colab.research.google.com/github/DanRHowarth/Artificial-Intelligence-Cloud-and-Edge-Implementations/blob/master/Oxford_Matplotlib.ipynb\" target=\"_parent\"><img src=\"https://colab.research.google.com/assets/colab-badge.svg\" alt=\"Open In Colab\"/></a>"
      ]
    },
    {
      "cell_type": "markdown",
      "metadata": {
        "id": "r2QbxY6QPe-t",
        "colab_type": "text"
      },
      "source": [
        "# Matplotlib Tutorial \n",
        "\n",
        "* This notebook sets out key concepts, sample code and examples for Matplotlib. \n",
        "* It covers the following topics:\n",
        "    * Basic plotting\n",
        "    * Customising Plots\n",
        "    * Examples of different charts throughout the notebook \n",
        "* The classification and regression tutorials feature further examples of plotting; the aim of this tutorial is to cover the fundamentals of the matplotlib library so that you can understand the code in those tutorials better.\n",
        "    \n",
        "    \n",
        "#### Exercises\n",
        " * Each section will have an exercise to help reinforce your learning. We suggest you:\n",
        "   * Write out each line of code by hand (rather than copy and paste it from the relevant example) - this will improve your understanding of code syntax\n",
        "   * Write out, above each line of code, an explanation as to what the code, using a comment `#` - this will improve your understanding of how the code works"
      ]
    },
    {
      "cell_type": "code",
      "metadata": {
        "id": "QDMXrWygPe-v",
        "colab_type": "code",
        "colab": {}
      },
      "source": [
        "# import statements\n",
        "import numpy as np\n",
        "import pandas as pd\n",
        "import matplotlib.pyplot as plt\n",
        "import matplotlib \n",
        "\n",
        "# Hide all warning messages\n",
        "import warnings\n",
        "warnings.filterwarnings('ignore')"
      ],
      "execution_count": 0,
      "outputs": []
    },
    {
      "cell_type": "markdown",
      "metadata": {
        "id": "qycV9ceiPe-0",
        "colab_type": "text"
      },
      "source": [
        "## 1. BASIC PLOTS"
      ]
    },
    {
      "cell_type": "markdown",
      "metadata": {
        "id": "0M_JbNUpPe-2",
        "colab_type": "text"
      },
      "source": [
        "### 1.1 USING THE PLOTTING FUNCTION TO CREATE SIMPLE CHARTS"
      ]
    },
    {
      "cell_type": "code",
      "metadata": {
        "id": "XUMa6vzjW2MA",
        "colab_type": "code",
        "colab": {}
      },
      "source": [
        "x = np.arange(5)          # assume there are 5 students\n",
        "y = (20, 35, 30, 35, 27)  # their test scores"
      ],
      "execution_count": 0,
      "outputs": []
    },
    {
      "cell_type": "code",
      "metadata": {
        "id": "_EAEFqeKPe-3",
        "colab_type": "code",
        "colab": {}
      },
      "source": [
        "# simple bar plot\n",
        "plt.bar(x,y)              # Bar plot"
      ],
      "execution_count": 0,
      "outputs": []
    },
    {
      "cell_type": "code",
      "metadata": {
        "id": "K3FNQaq4Pe-6",
        "colab_type": "code",
        "colab": {}
      },
      "source": [
        "# scatter plot\n",
        "plt.scatter(x,y)          "
      ],
      "execution_count": 0,
      "outputs": []
    },
    {
      "cell_type": "markdown",
      "metadata": {
        "id": "nKx8Q6TOPe-9",
        "colab_type": "text"
      },
      "source": [
        "### 1.2 PLOTTING WITH PANDAS"
      ]
    },
    {
      "cell_type": "code",
      "metadata": {
        "id": "QZsroSO1XQNu",
        "colab_type": "code",
        "colab": {}
      },
      "source": [
        "# You can also create the histogram, line graph and the boxplot directly on a dataframe\n",
        "# df = pd.read_csv('Chapter_2_Code/Data/iris.csv')\n",
        "from sklearn.datasets import load_wine\n",
        "data = load_wine()\n",
        "df = pd.DataFrame(data.data, columns = data.feature_names)\n",
        "df.columns"
      ],
      "execution_count": 0,
      "outputs": []
    },
    {
      "cell_type": "code",
      "metadata": {
        "id": "sBTMhPbWPe-_",
        "colab_type": "code",
        "colab": {}
      },
      "source": [
        "# plot two of the columns as histograms\n",
        "df[['alcohol','ash']].hist()"
      ],
      "execution_count": 0,
      "outputs": []
    },
    {
      "cell_type": "code",
      "metadata": {
        "id": "dTj1nLVmPe_C",
        "colab_type": "code",
        "colab": {}
      },
      "source": [
        "# plotting a line graph - note the key is displayed by default\n",
        "df[['magnesium','ash','alcohol']].plot()"
      ],
      "execution_count": 0,
      "outputs": []
    },
    {
      "cell_type": "code",
      "metadata": {
        "id": "s6zMC_3NPe_F",
        "colab_type": "code",
        "colab": {}
      },
      "source": [
        "# and box plot\n",
        "df[['magnesium','proline']].boxplot()"
      ],
      "execution_count": 0,
      "outputs": []
    },
    {
      "cell_type": "code",
      "metadata": {
        "id": "l95Dgk4bZZjP",
        "colab_type": "code",
        "colab": {}
      },
      "source": [
        "# to plot a scatter graph, we have to take an extra step\n",
        "X = df['alcohol']\n",
        "y = df['ash']\n",
        "plt.scatter(X,y)"
      ],
      "execution_count": 0,
      "outputs": []
    },
    {
      "cell_type": "markdown",
      "metadata": {
        "id": "XJM57o43Pe_H",
        "colab_type": "text"
      },
      "source": [
        "#### EXERCISE 1.2: PLOTTING WITH PANDAS\n",
        "* Call the `df.hist()`, `df.plot() `and `df.boxplot()`without specifying columns to see what is returned\n",
        "* Select some data points of interest and use the plotting functions to explore them in more detail (by subselecting columns)"
      ]
    },
    {
      "cell_type": "code",
      "metadata": {
        "id": "8uSSeys0Pe_I",
        "colab_type": "code",
        "colab": {}
      },
      "source": [
        "## EXERCISE CODE HERE\n",
        "\n",
        "\n",
        "\n"
      ],
      "execution_count": 0,
      "outputs": []
    },
    {
      "cell_type": "markdown",
      "metadata": {
        "id": "VFF8XsEEPe_K",
        "colab_type": "text"
      },
      "source": [
        "## 2. CUSTOMISING PLOTS"
      ]
    },
    {
      "cell_type": "markdown",
      "metadata": {
        "id": "FYyqlppRPe_L",
        "colab_type": "text"
      },
      "source": [
        "### 2.1 DIFFERENCE BETWEEN PLT AND AX\n",
        "\n",
        "> `plt.plot()`\n",
        "\n",
        "is used to add plot elements to the current axes in the current figure. \n",
        "\n",
        "pyplot is home to a batch of functions that call on functions defined in the Axes class - note this results in subtly different names for the same functions, e.g. plt.title() and ax.set_title()\n",
        "\n",
        "> `ax.plot()`\n",
        "\n",
        "and other functions called from the Axes class rely on teh object-oriented approach, which is more customizable and comes in handy as graphs become more complex.\n",
        " \n",
        ">` pd.plot()`\n",
        "\n",
        "The plot() method on pandas’ Series and DataFrame is a wrapper around plt.plot()\n",
        "\n",
        "* See this excellent tutorial for more: https://realpython.com/python-matplotlib-guide/#stateful-versus-stateless-approaches"
      ]
    },
    {
      "cell_type": "markdown",
      "metadata": {
        "id": "vHRiIMiDPe_M",
        "colab_type": "text"
      },
      "source": [
        "### 2.2 LABELS"
      ]
    },
    {
      "cell_type": "code",
      "metadata": {
        "id": "yoNFmfvuPe_N",
        "colab_type": "code",
        "colab": {}
      },
      "source": [
        "# generate sample data\n",
        "x = np.linspace(0, 20, 1000)  #100 evenly-spaced values from 0 to 50\n",
        "y = np.sin(x)"
      ],
      "execution_count": 0,
      "outputs": []
    },
    {
      "cell_type": "code",
      "metadata": {
        "id": "SnHfAuiIPe_P",
        "colab_type": "code",
        "colab": {}
      },
      "source": [
        "plt.plot(x, y) # simple line plot"
      ],
      "execution_count": 0,
      "outputs": []
    },
    {
      "cell_type": "markdown",
      "metadata": {
        "id": "5cGV2VtLPe_V",
        "colab_type": "text"
      },
      "source": [
        "#### EXERCISE 2.2: CUSTOMISING PLOTS\n",
        "\n",
        "* Run the code below\n",
        "* Uncomment `tight_layout()`to start experimenting with matplotlib parameters.\n",
        "  * `tight_layout() `can take keyword arguments of pad, w_pad and h_pad.\n",
        "  * these control the extra padding around the figure border and between subplots.\n",
        "  * The pads are specified in fraction of fontsize.\n",
        "* Experiment with parameters \n"
      ]
    },
    {
      "cell_type": "code",
      "metadata": {
        "id": "L3jppHv-Pe_Q",
        "colab_type": "code",
        "colab": {}
      },
      "source": [
        "# customize axis labels\n",
        "plt.plot(x, y, label = 'Sample Label') \n",
        "plt.title('Sample Plot Title')                                # chart title \n",
        "plt.xlabel('x axis label')                                    # x axis title\n",
        "plt.ylabel('y axis label')                                    # y axis title\n",
        "plt.grid(True)                                                # show gridlines \n",
        "plt.figtext(0.995, 0.01, 'Footnote', ha='right', va='bottom') # add footnote\n",
        "plt.legend(loc='best', framealpha=0.5, prop={'size':'small'}) # add legend, location pick the best automatically\n",
        "#plt.tight_layout(pad=1)"
      ],
      "execution_count": 0,
      "outputs": []
    },
    {
      "cell_type": "markdown",
      "metadata": {
        "id": "Mxx-CRBcPe_Y",
        "colab_type": "text"
      },
      "source": [
        "### 2.3 UNDERSTANDING SUBPLOTS\n",
        "The prescribed way to create a Figure with a single Axes under the OO approach is with plt.subplots():\n",
        "\n",
        "> `fig, ax = plt.subplots()`\n",
        "\n",
        "Here we define the figure size (the figure includes within it all the subplots we create), and the subplots (the different plots) we want. See examples below.\n",
        "\n",
        "We use the ax methods to customise the subplots. ax is a subfigure/plot of the overall figure which allows us to deal with different axs separtely "
      ]
    },
    {
      "cell_type": "code",
      "metadata": {
        "id": "kiZbYmQnPe_Z",
        "colab_type": "code",
        "colab": {}
      },
      "source": [
        "# Generate subplots\n",
        "fig, ax = plt.subplots() \n",
        "fig,(ax1,ax2,ax3) = plt.subplots(nrows=3, ncols=1, sharex=True, figsize=(8,4))"
      ],
      "execution_count": 0,
      "outputs": []
    },
    {
      "cell_type": "code",
      "metadata": {
        "id": "qeeRoc-lPe_a",
        "colab_type": "code",
        "colab": {}
      },
      "source": [
        "# Iterating the Axes within a Figure \n",
        "for ax in fig.get_axes():\n",
        "    pass # do something "
      ],
      "execution_count": 0,
      "outputs": []
    },
    {
      "cell_type": "code",
      "metadata": {
        "id": "985ZtsRTPe_c",
        "colab_type": "code",
        "colab": {}
      },
      "source": [
        "# Simple subplot grid layouts \n",
        "fig = plt.figure(figsize=(8,4)) \n",
        "fig.text(x=0.01, y=0.01, s='Figure',color='#888888', ha='left', va='bottom', fontsize=20) \n",
        "for i in range(4):     \n",
        "# call fig.add_subplot(nrows, ncols, num)     \n",
        "    ax = fig.add_subplot(2, 2, i+1)      \n",
        "    ax.text(x=0.01, y=0.01, s='Subplot 2 2 '+str(i+1),  color='red', ha='left', va='bottom', fontsize=20)    \n",
        "    ax.set_xticks([]); ax.set_yticks([]) \n",
        "ax.set_xticks([]); ax.set_yticks([])\n",
        "fig.suptitle('Subplots')\n",
        "#fig.savefig('filename.png', dpi=125) \n",
        "#plt.show()"
      ],
      "execution_count": 0,
      "outputs": []
    },
    {
      "cell_type": "markdown",
      "metadata": {
        "id": "xwHb6k73Pe_e",
        "colab_type": "text"
      },
      "source": [
        "*EXAMPLE 1*"
      ]
    },
    {
      "cell_type": "code",
      "metadata": {
        "id": "3ySgpCR9Pe_e",
        "colab_type": "code",
        "colab": {}
      },
      "source": [
        "# generate sample data\n",
        "x = np.linspace(0, 20, 1000)\n",
        "y = np.sin(x)"
      ],
      "execution_count": 0,
      "outputs": []
    },
    {
      "cell_type": "code",
      "metadata": {
        "id": "Go4887WqPe_g",
        "colab_type": "code",
        "colab": {}
      },
      "source": [
        "fig = plt.figure(figsize=(8, 4))                        # get an empty figure and add an Axes \n",
        "ax = fig.add_subplot(1,1,1)                            # row-col-num \n",
        "ax.plot(x, y, 'b-', linewidth=2, label='Sample label') # line plot data on the Axes \n",
        "\n",
        "# add title, labels and legend, etc. \n",
        "ax.set_ylabel('y axis label', fontsize=10)             # y label\n",
        "ax.set_xlabel('x axis label', fontsize=10)             # x label    \n",
        "ax.legend(loc='best')                                  # legend\n",
        "ax.grid(True)                                          # show grid\n",
        "fig.suptitle('Sample Plot Title', y=1.02,fontsize=12)                      # title\n",
        "fig.tight_layout(pad=1)                                # tidy laytout"
      ],
      "execution_count": 0,
      "outputs": []
    },
    {
      "cell_type": "markdown",
      "metadata": {
        "id": "k9Ti8Z2iPe_h",
        "colab_type": "text"
      },
      "source": [
        "*EXAMPLE 2*"
      ]
    },
    {
      "cell_type": "code",
      "metadata": {
        "id": "-3udclPSPe_h",
        "colab_type": "code",
        "colab": {}
      },
      "source": [
        "#get the Figure and Axes all at once\n",
        "fig, ax = plt.subplots(figsize=(8,4))\n",
        "\n",
        "x1 = np.linspace(0, 100, 20) \n",
        "x2 = np.linspace(0, 100, 20)\n",
        "x3 = np.linspace(0, 100, 20)\n",
        "y1 = np.sin(x1)\n",
        "y2 = np.cos(x2)\n",
        "y3 = np.tan(x3)\n",
        "\n",
        "ax.plot(x1, y1, label='sin')\n",
        "ax.plot(x2, y2, label='cos')\n",
        "ax.plot(x3, y3, label='tan')\n",
        "\n",
        "##TODO: UNCOMMENT ONE BY ONE AND RUN CODE\n",
        "# add grid, legend, title \n",
        "# ax.grid(True) \n",
        "# ax.legend(loc='best', prop={'size':'large'}) \n",
        "# fig.suptitle('A Simple Multi Axis Line Plot', fontsize=12)"
      ],
      "execution_count": 0,
      "outputs": []
    },
    {
      "cell_type": "markdown",
      "metadata": {
        "id": "JYn2lF6wPe_j",
        "colab_type": "text"
      },
      "source": [
        "#### 2.3 EXERCISE: CUSTOMISING SUBPLOTS\n",
        "\n",
        "* Go through the code below and experiment with the parameters to better understand what they do\n",
        "* Change a parameter one at a time\n",
        "* Uncomment the code a line at a time to understand what it is doing\n",
        "* When you feel comfortable with what the code does, write a comment explaining it to yourself"
      ]
    },
    {
      "cell_type": "code",
      "metadata": {
        "id": "nCZlaZAcPe_k",
        "colab_type": "code",
        "colab": {}
      },
      "source": [
        "## EXERCISE 2.3\n",
        "\n",
        "#Changing sharex to True will use the same x axis\n",
        "fig, (ax1,ax2,ax3) = plt.subplots(nrows=3, ncols=1, sharex=False, sharey = False, figsize=(8,4))\n",
        "\n",
        "#plot some lines \n",
        "x1 = np.linspace(0, 100, 20) \n",
        "x2 = np.linspace(0, 100, 20)\n",
        "x3 = np.linspace(0, 100, 20)\n",
        "y1 = np.sin(x1)\n",
        "y2 = np.cos(x2)\n",
        "y3 = np.tan(x3)\n",
        "\n",
        "ax1.plot(x1, y1, label='sin')\n",
        "ax2.plot(x2, y2, label='cos')\n",
        "ax3.plot(x3, y3, label='tan')\n",
        "\n",
        "# add grid, legend, title  \n",
        "#ax1.grid(True) \n",
        "#ax2.grid(True)\n",
        "#ax3.grid(True)\n",
        "\n",
        "#ax1.legend(loc='best', prop={'size':'large'}) \n",
        "#ax2.legend(loc='best', prop={'size':'large'}) \n",
        "#ax3.legend(loc='best', prop={'size':'large'}) \n",
        "\n",
        "#fig.suptitle('A Simple Multi Axis Line Plot')"
      ],
      "execution_count": 0,
      "outputs": []
    },
    {
      "cell_type": "markdown",
      "metadata": {
        "id": "jBqOL-1tctrN",
        "colab_type": "text"
      },
      "source": [
        "### 2.4 FURTHER EXAMPLES OF CUSTOMISING PLOTS"
      ]
    },
    {
      "cell_type": "markdown",
      "metadata": {
        "id": "NHg_rhFBPe_l",
        "colab_type": "text"
      },
      "source": [
        "*EXAMPLE 3*"
      ]
    },
    {
      "cell_type": "code",
      "metadata": {
        "id": "H0fU0CNAPe_m",
        "colab_type": "code",
        "colab": {}
      },
      "source": [
        "# get the Figure and Axes all at once \n",
        "fig, ax = plt.subplots(figsize=(8,4)) \n",
        "\\\n",
        "# plot some lines \n",
        "N = 3 # the number of lines we will plot \n",
        "styles =  ['-', '--', '-.', ':'] \n",
        "markers = list('+ox') \n",
        "x = np.linspace(0, 100, 20) \n",
        "for i in range(N): # add line-by-line     \n",
        "    y = x + x/5*i + i     \n",
        "    s = styles[i % len(styles)]     \n",
        "    m = markers[i % len(markers)]     \n",
        "    ax.plot(x, y, alpha = 1, label='Line '+str(i+1)+' '+s+m,       \n",
        "                  marker=m, linewidth=2, linestyle=s) \n",
        "\n",
        "    # add grid, legend, title and save \n",
        "ax.grid(True) \n",
        "ax.legend(loc='best', prop={'size':'large'}) \n",
        "fig.suptitle('A Simple Line Plot')"
      ],
      "execution_count": 0,
      "outputs": []
    },
    {
      "cell_type": "markdown",
      "metadata": {
        "id": "41bmND95Pe_n",
        "colab_type": "text"
      },
      "source": [
        "*EXAMPLE 4*"
      ]
    },
    {
      "cell_type": "code",
      "metadata": {
        "id": "E7aCmhC8Pe_n",
        "colab_type": "code",
        "colab": {}
      },
      "source": [
        "# get the data\n",
        "N = 4 \n",
        "labels = list('ABCD') \n",
        "data = np.array(list(range(N))) + np.random.rand(N)"
      ],
      "execution_count": 0,
      "outputs": []
    },
    {
      "cell_type": "code",
      "metadata": {
        "id": "Cj1KhVAyPe_p",
        "colab_type": "code",
        "colab": {}
      },
      "source": [
        "#plot the data \n",
        "fig, ax = plt.subplots(figsize=(8, 3.5)) \n",
        "width = 0.5;  \n",
        "tickLocations = np.arange(N) \n",
        "rectLocations = tickLocations-(width/2.0) \n",
        "\n",
        "# for color either HEX value of the name of the color can be used\n",
        "ax.bar(rectLocations, data, width,      \n",
        "       color='lightblue',     \n",
        "       edgecolor='#1f10ed', linewidth=4.0) \n",
        "\n",
        "# tidy-up the plot \n",
        "ax.set_xticks(ticks= tickLocations)\n",
        "ax.set_xticklabels(labels) \n",
        "ax.set_xlim(min(tickLocations)-0.6, max(tickLocations)+0.6) \n",
        "ax.set_yticks(list(range(N))[1:]) \n",
        "ax.set_ylim((0,N)) \n",
        "ax.set_ylabel('y axis label', fontsize=8)             # y label\n",
        "ax.set_xlabel('x axis label', fontsize=8)             # x label    \n",
        "ax.yaxis.grid(True)\n",
        "\n",
        "# title  \n",
        "fig.suptitle(\"Bar Plot\") \n",
        "fig.tight_layout(pad=2) "
      ],
      "execution_count": 0,
      "outputs": []
    },
    {
      "cell_type": "markdown",
      "metadata": {
        "id": "6iccSP2cPe_q",
        "colab_type": "text"
      },
      "source": [
        "*EXAMPLE 5*"
      ]
    },
    {
      "cell_type": "code",
      "metadata": {
        "id": "qIYwLZVtPe_r",
        "colab_type": "code",
        "colab": {}
      },
      "source": [
        "# generate the data\n",
        "N = 4 \n",
        "labels = list('ABCD') \n",
        "data = np.array(list(range(N))) + np.random.rand(N)"
      ],
      "execution_count": 0,
      "outputs": []
    },
    {
      "cell_type": "code",
      "metadata": {
        "id": "Sxh9v-pxPe_s",
        "colab_type": "code",
        "colab": {}
      },
      "source": [
        "#plot the data \n",
        "fig, ax = plt.subplots(figsize=(8, 3.5)) \n",
        "width = 0.5;  \n",
        "tickLocations = np.arange(N) \n",
        "rectLocations = tickLocations-(width/2.0) \n",
        "\n",
        "# for color either HEX value of the name of the color can be used\n",
        "ax.barh(rectLocations, data, width, color='lightblue') \n",
        "\n",
        "# tidy-up the plot \n",
        "ax.set_yticks(ticks= tickLocations)\n",
        "ax.set_yticklabels(labels) \n",
        "ax.set_ylim(min(tickLocations)-0.6, max(tickLocations)+0.6) \n",
        "ax.xaxis.grid(True)\n",
        "ax.set_ylabel('y axis label', fontsize=8)             # y label\n",
        "ax.set_xlabel('x axis label', fontsize=8)             # x label \n",
        "\n",
        "# title  \n",
        "fig.suptitle(\"Bar Plot\") \n",
        "fig.tight_layout(pad=2) "
      ],
      "execution_count": 0,
      "outputs": []
    },
    {
      "cell_type": "markdown",
      "metadata": {
        "id": "fdxCwrEcPe_u",
        "colab_type": "text"
      },
      "source": [
        "*EXAMPLE 6*"
      ]
    },
    {
      "cell_type": "code",
      "metadata": {
        "id": "4SYFPgTGPe_u",
        "colab_type": "code",
        "colab": {}
      },
      "source": [
        "# generate sample data\n",
        "pre = np.array([19, 6, 11, 9]) \n",
        "post = np.array([15, 11, 9, 8]) \n",
        "labels=['Survey '+x for x in list('ABCD')] "
      ],
      "execution_count": 0,
      "outputs": []
    },
    {
      "cell_type": "code",
      "metadata": {
        "id": "f8TQWxGWPe_w",
        "colab_type": "code",
        "colab": {}
      },
      "source": [
        "# the plot – left then right \n",
        "fig, ax = plt.subplots(figsize=(8, 3.5)) \n",
        "width = 0.4 # bar width \n",
        "xlocs = np.arange(len(pre)) \n",
        "ax.bar(xlocs-width, pre, width,       \n",
        "       color='green', label='True') \n",
        "ax.bar(xlocs, post, width,       \n",
        "       color='#1f10ed', label='False')\n",
        "\n",
        "# labels, grids and title\n",
        "ax.set_xticks(ticks=list(range(len(pre)))) \n",
        "ax.set_xticklabels(labels) \n",
        "ax.yaxis.grid(True) \n",
        "ax.legend(loc='best') \n",
        "ax.set_ylabel('Count') \n",
        "fig.suptitle('Sample Chart', y=1.05) \n",
        "fig.tight_layout(pad=1) "
      ],
      "execution_count": 0,
      "outputs": []
    },
    {
      "cell_type": "markdown",
      "metadata": {
        "id": "upmoVpjUPe_x",
        "colab_type": "text"
      },
      "source": [
        "*EXAMPLE 7*"
      ]
    },
    {
      "cell_type": "code",
      "metadata": {
        "id": "kLnsS1F1Pe_x",
        "colab_type": "code",
        "colab": {}
      },
      "source": [
        "# generate sample data \n",
        "data = np.array([15,8,4]) \n",
        "labels = ['Feature Engineering', 'Model Tuning', 'Model Building']\n",
        "explode = (0, 0.1, 0) # explode feature engineering  \n",
        "colrs=['cyan', 'tan', 'wheat']"
      ],
      "execution_count": 0,
      "outputs": []
    },
    {
      "cell_type": "code",
      "metadata": {
        "id": "f0JofVSYPe_y",
        "colab_type": "code",
        "colab": {}
      },
      "source": [
        "# plot \n",
        "fig, ax = plt.subplots(figsize=(8, 3.5)) \n",
        "ax.pie(data, explode=explode,     \n",
        "       labels=labels, autopct='%1.1f%%',     \n",
        "       startangle=270, colors=colrs) \n",
        "ax.axis('equal') # keep it a circle\n",
        "\n",
        "# add a title \n",
        "fig.suptitle(\"ML Pie\") "
      ],
      "execution_count": 0,
      "outputs": []
    },
    {
      "cell_type": "markdown",
      "metadata": {
        "id": "4EuJiAbOsUZ1",
        "colab_type": "text"
      },
      "source": [
        "### Next Steps\n",
        "* If you wish to learn more, work through this excellent book [chapter](https://jakevdp.github.io/PythonDataScienceHandbook/04.00-introduction-to-matplotlib.html) "
      ]
    }
  ]
}