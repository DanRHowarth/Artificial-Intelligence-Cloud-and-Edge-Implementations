{
  "nbformat": 4,
  "nbformat_minor": 0,
  "metadata": {
    "colab": {
      "name": "Oxford_EDA_ Assessment_2019.ipynb",
      "provenance": [],
      "collapsed_sections": [
        "15exNg6e7X4I",
        "nBIH3Jro_GCA",
        "dflIvrnjBGIk"
      ],
      "include_colab_link": true
    },
    "kernelspec": {
      "name": "python3",
      "display_name": "Python 3"
    }
  },
  "cells": [
    {
      "cell_type": "markdown",
      "metadata": {
        "id": "view-in-github",
        "colab_type": "text"
      },
      "source": [
        "<a href=\"https://colab.research.google.com/github/DanRHowarth/Artificial-Intelligence-Cloud-and-Edge-Implementations/blob/master/Oxford_EDA__Assessment_2019.ipynb\" target=\"_parent\"><img src=\"https://colab.research.google.com/assets/colab-badge.svg\" alt=\"Open In Colab\"/></a>"
      ]
    },
    {
      "cell_type": "markdown",
      "metadata": {
        "id": "15exNg6e7X4I",
        "colab_type": "text"
      },
      "source": [
        "# 0. Template for performing EDA on ABCF Data "
      ]
    },
    {
      "cell_type": "markdown",
      "metadata": {
        "id": "egw-5VlFepCw",
        "colab_type": "text"
      },
      "source": [
        "* This notebook sets areas and for potential investigation to explore the data\n",
        "* It doesn't includes code (I ran out of time) but includes cells where the code could go. We have a decent idea of the code we can use so we can add this in after it has been developed. \n",
        "* It is a first draft - we will update as we learn so that we can build a good template for future use. It also misses out some EDA topics that we can add to. But hopefully its a good start.\n",
        "\n",
        "* Contents:\n",
        "  * 1. Overview of EDA / Suggested Workflow / Some ideas/questions we can ask about the data \n",
        "  * 2. Initial Data Analysis \n",
        "  * 3. Exploratory Data Analysis \n"
      ]
    },
    {
      "cell_type": "markdown",
      "metadata": {
        "id": "nBIH3Jro_GCA",
        "colab_type": "text"
      },
      "source": [
        "# 1. Overview of EDA and Workflow / Some questions we can ask about the data"
      ]
    },
    {
      "cell_type": "markdown",
      "metadata": {
        "id": "2Ko2zcW_9nHc",
        "colab_type": "text"
      },
      "source": [
        "## 1.1 Overview of EDA\n",
        "* Confusingly, I would group *Initial Data Analysis* and *Exploratory Data Analysis* together under the same term, EDA.\n",
        "* IDA - looking at the things we need to do to be able to analyse the data in EDA. This includes things like data types, missing data, making sure we have the full data and know where it comes from. Etc.\n",
        "* EDA - building an understanding of the data, doing things we need to do to generate and test hypotheses, build our understanding and record assumptions, start to prepare for modelling. Etc.\n",
        "\n"
      ]
    },
    {
      "cell_type": "markdown",
      "metadata": {
        "id": "DD17JxUlJPzG",
        "colab_type": "text"
      },
      "source": [
        "### 1.1.2 Some relevant things I have excluded (for now)\n",
        "\n",
        "* Model prep as a last phase of EDA - things required to get data ready for modelling - scaling data for the model, feature selection, feature engineering.\n",
        "* Statistical hypotheses testing - confirmatory data analysis. e.g. statistical signficance  \n",
        "* Also, this is not an exhaustive list of things that could be done under EDA. We can add more as we do more."
      ]
    },
    {
      "cell_type": "markdown",
      "metadata": {
        "id": "U58ST5-I-_EO",
        "colab_type": "text"
      },
      "source": [
        "## 1.2 Workflow\n",
        "\n",
        "* Suggested workflow *for each section / bit of analysis*: \n",
        "  * **Investigate it / Plot it / Report it**\n",
        "* Or more fully: \n",
        "  * Implement in code\n",
        "  * Plot the result - for pretty much everything \n",
        "  * Think about what it says, a) as a stand alone result, b) in relation to the rest of the dataset, c) in relation to the rest of the data for the problem, d) based on what we know about the problem (context), e) what is missing / what it doesn't say\n",
        "  * Record any assumptions that you have made about the data \n",
        "  * Generate ideas about what the data tells us, or could tell us in combination with other data\n",
        "\n",
        "* For each of the IDA/EDA sections, we should:\n",
        "  * look at the properties of the data\n",
        "  * preprocess as required\n",
        "  * go into an understanding phase \n",
        "* Each will look a bit different, but the approach helps with structure (i think)\n",
        "\n",
        "* This lends itself to a nice chart that I will pull together :-) \n"
      ]
    },
    {
      "cell_type": "markdown",
      "metadata": {
        "id": "uwYPCsO4AymU",
        "colab_type": "text"
      },
      "source": [
        "## 1.3 Some Questions to get the ball rolling:\n",
        "\n",
        "**Initial Data Analysis**\n",
        "* What is the volume of data? \n",
        "* What does missing values / no missing values mean\n",
        "* Is this a sample or other data?\n",
        "* Is this the time period we were expecting?\n",
        "* What are the different features?\n",
        "\n",
        "**Exploratory Data Analysis**\n",
        "* Are there duplicates in the data?\n",
        "* What is the time period? \n",
        "* What does the data tell us? How does it tell us that? How well does it tell us that?\n",
        "* How variable is the data?\n",
        "* Are there any outliers, how do we treat them? \n",
        "* Does a long term summary provide some insight: a trend, a direction that we can capture? \n",
        "* How does a short term sample [of some length] compare to the overall data? (Same property types? Does a random sample vary from the broader population?  \n",
        "* What does a yearly/monthly/rolling average tell us? Are there drifts in the data? Seasonal peaks?\n",
        "* What are the most important variables? Why? What scale? (feature selection...relevant to what) \n",
        "* What ways can we measure the variables? The rate of changes etc? ratios\n",
        "* If we set hypotheses...what will the measure of success be?\n",
        "\n",
        "\n",
        "\n",
        "\n",
        "**For Assumptions..**\n",
        "* What we believe about the data\n",
        "* What it is\n",
        "* Where it has been generated from \n",
        "* How it has been treated, if at all, prior to this stage\n"
      ]
    },
    {
      "cell_type": "markdown",
      "metadata": {
        "id": "dflIvrnjBGIk",
        "colab_type": "text"
      },
      "source": [
        "# 2. Initial Data Analysis "
      ]
    },
    {
      "cell_type": "markdown",
      "metadata": {
        "id": "312331nNBMIf",
        "colab_type": "text"
      },
      "source": [
        "## 2.1 Overview of what we are trying to achieve\n",
        "\n",
        "* Principles...\n",
        "* What it is \n",
        "* What we do \n",
        "* What the result is"
      ]
    },
    {
      "cell_type": "markdown",
      "metadata": {
        "id": "bvYVsdktCaKD",
        "colab_type": "text"
      },
      "source": [
        "## 2.2 Properties "
      ]
    },
    {
      "cell_type": "code",
      "metadata": {
        "id": "5Wx-DXKL65gC",
        "colab_type": "code",
        "colab": {}
      },
      "source": [
        "# data size and shape\n"
      ],
      "execution_count": 0,
      "outputs": []
    },
    {
      "cell_type": "code",
      "metadata": {
        "id": "eU4F7po9FzqC",
        "colab_type": "code",
        "colab": {}
      },
      "source": [
        "# column names \n"
      ],
      "execution_count": 0,
      "outputs": []
    },
    {
      "cell_type": "code",
      "metadata": {
        "id": "omnSBe9cZKLq",
        "colab_type": "code",
        "colab": {}
      },
      "source": [
        "# time period of data\n"
      ],
      "execution_count": 0,
      "outputs": []
    },
    {
      "cell_type": "code",
      "metadata": {
        "id": "4-Y5Bs7XCpc1",
        "colab_type": "code",
        "colab": {}
      },
      "source": [
        "# data types (computational)\n"
      ],
      "execution_count": 0,
      "outputs": []
    },
    {
      "cell_type": "code",
      "metadata": {
        "id": "v79rbAdLC0y3",
        "colab_type": "code",
        "colab": {}
      },
      "source": [
        "# Check for missing values \n"
      ],
      "execution_count": 0,
      "outputs": []
    },
    {
      "cell_type": "code",
      "metadata": {
        "id": "oWfWiBW2Ct5p",
        "colab_type": "code",
        "colab": {}
      },
      "source": [
        "# take a look at the data \n",
        "df.head()\n",
        "df.tail()\n",
        "df.describe()"
      ],
      "execution_count": 0,
      "outputs": []
    },
    {
      "cell_type": "markdown",
      "metadata": {
        "id": "m2EcbktmC87G",
        "colab_type": "text"
      },
      "source": [
        "### 2.2.1 What does this tell us?\n",
        "* What is the volume of data? \n",
        "* What does missing values / no missing values mean?\n",
        "* Is this the time period we were expecting? \n"
      ]
    },
    {
      "cell_type": "markdown",
      "metadata": {
        "id": "U9eydcQsDJ6f",
        "colab_type": "text"
      },
      "source": [
        "## 2.3 Preprocessing "
      ]
    },
    {
      "cell_type": "code",
      "metadata": {
        "id": "i8ZeudnaDm6j",
        "colab_type": "code",
        "colab": {}
      },
      "source": [
        "# treat data types \n",
        "df.astype()"
      ],
      "execution_count": 0,
      "outputs": []
    },
    {
      "cell_type": "code",
      "metadata": {
        "id": "voNClgkgEBA3",
        "colab_type": "code",
        "colab": {}
      },
      "source": [
        "# placeholder \n"
      ],
      "execution_count": 0,
      "outputs": []
    },
    {
      "cell_type": "markdown",
      "metadata": {
        "id": "Wa-V-wmoEM7I",
        "colab_type": "text"
      },
      "source": [
        "## 2.4 Understanding "
      ]
    },
    {
      "cell_type": "markdown",
      "metadata": {
        "id": "k0WGe5nIESX_",
        "colab_type": "text"
      },
      "source": [
        "### 2.4.1 Questions to be asked (more qualitative at this stage)\n",
        "* Where did the data come from?\n",
        "* Is it a sample or the whole lot?\n",
        "* What do we judge about its quality?\n",
        "* Has it been treated? \n",
        "* Do we have feaure descriptors? \n",
        "* To all the above -> are we taking steps to address them?"
      ]
    },
    {
      "cell_type": "markdown",
      "metadata": {
        "id": "iNe9syVHEu-8",
        "colab_type": "text"
      },
      "source": [
        "### 2.4.2 Assumptions \n",
        "* What assumptions have we made about the data\n",
        "* Add here..."
      ]
    },
    {
      "cell_type": "markdown",
      "metadata": {
        "id": "1bTIWEdhE1d7",
        "colab_type": "text"
      },
      "source": [
        "### 2.4.3 What ideas and hypotheses have we generated about the data?\n",
        "* What does the IDA give us in terms of ideas? \n",
        "* Add here..."
      ]
    },
    {
      "cell_type": "markdown",
      "metadata": {
        "id": "U7cv3OlaFAYg",
        "colab_type": "text"
      },
      "source": [
        "# 3. Exploratory Data Analysis "
      ]
    },
    {
      "cell_type": "markdown",
      "metadata": {
        "id": "zUWIKC09FEPP",
        "colab_type": "text"
      },
      "source": [
        "## 3.1 Overview \n"
      ]
    },
    {
      "cell_type": "markdown",
      "metadata": {
        "id": "_QDopvl3atX8",
        "colab_type": "text"
      },
      "source": [
        "* What we are looking at...\n",
        "  * Properties \n",
        "  * Preprocessing\n",
        "  * Understanding \n",
        "    * Univariate - understand individual variables \n",
        "    * Bivariate - understand variables in relationship to another variable\n",
        "    * Multivariate - ....\n",
        "* Looking to implement, code, describe and generate ideas about it"
      ]
    },
    {
      "cell_type": "markdown",
      "metadata": {
        "id": "5gyjeR0XFXEI",
        "colab_type": "text"
      },
      "source": [
        "## 3.2 Properties "
      ]
    },
    {
      "cell_type": "markdown",
      "metadata": {
        "id": "iIv2cB3RFfJd",
        "colab_type": "text"
      },
      "source": [
        "### 3.2.1 Data types (statistical)\n",
        "* Continuous, discrete, categorical, binary, ordinal "
      ]
    },
    {
      "cell_type": "code",
      "metadata": {
        "id": "YBwSrhHqEJyV",
        "colab_type": "code",
        "colab": {}
      },
      "source": [
        "# relevant code here \n"
      ],
      "execution_count": 0,
      "outputs": []
    },
    {
      "cell_type": "markdown",
      "metadata": {
        "id": "vb-q5PpVGCu4",
        "colab_type": "text"
      },
      "source": [
        "### 3.2.2 Detailed view of values"
      ]
    },
    {
      "cell_type": "code",
      "metadata": {
        "id": "gi6NQi1sFtaT",
        "colab_type": "code",
        "colab": {}
      },
      "source": [
        "# unique values - number, examples \n"
      ],
      "execution_count": 0,
      "outputs": []
    },
    {
      "cell_type": "code",
      "metadata": {
        "id": "MP3_VPa5FwVA",
        "colab_type": "code",
        "colab": {}
      },
      "source": [
        "# duplicate entries \n"
      ],
      "execution_count": 0,
      "outputs": []
    },
    {
      "cell_type": "code",
      "metadata": {
        "id": "_htpVR4kGJyk",
        "colab_type": "code",
        "colab": {}
      },
      "source": [
        "# class imbalances (if relevant)\n"
      ],
      "execution_count": 0,
      "outputs": []
    },
    {
      "cell_type": "code",
      "metadata": {
        "id": "m_C6h3jHcerC",
        "colab_type": "code",
        "colab": {}
      },
      "source": [
        "# plots include bar, histogram \n"
      ],
      "execution_count": 0,
      "outputs": []
    },
    {
      "cell_type": "markdown",
      "metadata": {
        "id": "8FujajJBYkGl",
        "colab_type": "text"
      },
      "source": [
        "#### What does this tell us? \n",
        "* What do we need to do with duplicate entries? \n",
        "* Are the unique values what we expected?"
      ]
    },
    {
      "cell_type": "markdown",
      "metadata": {
        "id": "t4wcv966aLTR",
        "colab_type": "text"
      },
      "source": [
        "## 3.3 Preprocessing \n"
      ]
    },
    {
      "cell_type": "code",
      "metadata": {
        "id": "i6TmULdMaQqv",
        "colab_type": "code",
        "colab": {}
      },
      "source": [
        "# normalize, standardize the data if required \n"
      ],
      "execution_count": 0,
      "outputs": []
    },
    {
      "cell_type": "code",
      "metadata": {
        "id": "7smgRwcQbX0b",
        "colab_type": "code",
        "colab": {}
      },
      "source": [
        "# deal with missing values appropriately \n"
      ],
      "execution_count": 0,
      "outputs": []
    },
    {
      "cell_type": "markdown",
      "metadata": {
        "id": "ah1JDpO0bxuL",
        "colab_type": "text"
      },
      "source": [
        "## 3.4 Understanding \n"
      ]
    },
    {
      "cell_type": "markdown",
      "metadata": {
        "id": "yInxCDpdb25O",
        "colab_type": "text"
      },
      "source": [
        "### 3.4.1 Based on individual variables \n"
      ]
    },
    {
      "cell_type": "code",
      "metadata": {
        "id": "aAL9qMeKrUVp",
        "colab_type": "code",
        "colab": {}
      },
      "source": [
        "# plot of data - e.g. line plot"
      ],
      "execution_count": 0,
      "outputs": []
    },
    {
      "cell_type": "code",
      "metadata": {
        "id": "uILDOCEvcBlN",
        "colab_type": "code",
        "colab": {}
      },
      "source": [
        "# centrality - mean, median, etc. \n"
      ],
      "execution_count": 0,
      "outputs": []
    },
    {
      "cell_type": "code",
      "metadata": {
        "id": "f5M-DiBFcFdn",
        "colab_type": "code",
        "colab": {}
      },
      "source": [
        "# distributions and spread of data (standard deviation, interquartile range, outliers, range, percentile, skewness/kurtosis)\n",
        "# plots - boxplots, distributions, frequency table, density estimate, violin plot    \n"
      ],
      "execution_count": 0,
      "outputs": []
    },
    {
      "cell_type": "code",
      "metadata": {
        "id": "nndhw0hpc4X4",
        "colab_type": "code",
        "colab": {}
      },
      "source": [
        "# averages - yearly, monthly, rolling, \n"
      ],
      "execution_count": 0,
      "outputs": []
    },
    {
      "cell_type": "markdown",
      "metadata": {
        "id": "S51aVysxcqjt",
        "colab_type": "text"
      },
      "source": [
        "##### 3.4.1.1 Ideas and Hypotheses (numbering system gets a bit clunky now)\n",
        "* What sort of distribution?\n",
        "* Outliers? \n",
        "* How do the variables change over time? What could this mean? Do we think this change relates to change in other variables? In some sort of measurable way?\n",
        "* "
      ]
    },
    {
      "cell_type": "markdown",
      "metadata": {
        "id": "Xs7urbwHdOA9",
        "colab_type": "text"
      },
      "source": [
        "##### 3.4.1.2 Assumptions\n",
        "* What are we assuming about the data"
      ]
    },
    {
      "cell_type": "markdown",
      "metadata": {
        "id": "e1QEJ-6PeFCH",
        "colab_type": "text"
      },
      "source": [
        "### 3.4.2 Based on relationships between variables "
      ]
    },
    {
      "cell_type": "code",
      "metadata": {
        "id": "P3jn5uNcdNeC",
        "colab_type": "code",
        "colab": {}
      },
      "source": [
        "# correlation, covariance  \n",
        "# plots - scatter, pairplots, heatmaps (hopefully we have seaborn!)\n"
      ],
      "execution_count": 0,
      "outputs": []
    },
    {
      "cell_type": "code",
      "metadata": {
        "id": "kGyHuyw_fjOu",
        "colab_type": "code",
        "colab": {}
      },
      "source": [
        "\n"
      ],
      "execution_count": 0,
      "outputs": []
    },
    {
      "cell_type": "markdown",
      "metadata": {
        "id": "mITT4Do9eV86",
        "colab_type": "text"
      },
      "source": [
        "#### 3.4.2.1 Ideas and Hypotheses\n",
        "* Is there a correlation between different data types -> what could explain this?\n",
        "* How does the correlation change over time?"
      ]
    },
    {
      "cell_type": "markdown",
      "metadata": {
        "id": "yX3ch637fW5r",
        "colab_type": "text"
      },
      "source": [
        "#### 3.4.2.2 Assumptions\n",
        "* Update any assumptions here "
      ]
    },
    {
      "cell_type": "markdown",
      "metadata": {
        "id": "AOUcG4mafzwG",
        "colab_type": "text"
      },
      "source": [
        "### 3.4.3 Other approaches  "
      ]
    },
    {
      "cell_type": "code",
      "metadata": {
        "id": "2JrM55Y2f_Lb",
        "colab_type": "code",
        "colab": {}
      },
      "source": [
        "# Dimensionality reduction for high fimensional data \n"
      ],
      "execution_count": 0,
      "outputs": []
    },
    {
      "cell_type": "code",
      "metadata": {
        "id": "OoofusWlgAGd",
        "colab_type": "code",
        "colab": {}
      },
      "source": [
        "# \n"
      ],
      "execution_count": 0,
      "outputs": []
    },
    {
      "cell_type": "markdown",
      "metadata": {
        "id": "ZB6IpU7Kgsm0",
        "colab_type": "text"
      },
      "source": [
        "#### 3.4.3.1 Ideas and Hypotheses\n",
        "* Answer"
      ]
    },
    {
      "cell_type": "markdown",
      "metadata": {
        "id": "U6-kNcu_g31S",
        "colab_type": "text"
      },
      "source": [
        "#### 3.4.3.2 Assumptions\n",
        "* Assumption"
      ]
    },
    {
      "cell_type": "markdown",
      "metadata": {
        "id": "kpwdXYnxgIUb",
        "colab_type": "text"
      },
      "source": [
        "### 3.4.4 Relationships between datasets "
      ]
    },
    {
      "cell_type": "code",
      "metadata": {
        "id": "91RMkxokgPAi",
        "colab_type": "code",
        "colab": {}
      },
      "source": [
        "# \n"
      ],
      "execution_count": 0,
      "outputs": []
    },
    {
      "cell_type": "code",
      "metadata": {
        "id": "YTLr7yRlgP_7",
        "colab_type": "code",
        "colab": {}
      },
      "source": [
        "# \n"
      ],
      "execution_count": 0,
      "outputs": []
    },
    {
      "cell_type": "markdown",
      "metadata": {
        "id": "v6fQjKuegynz",
        "colab_type": "text"
      },
      "source": [
        "#### 3.4.4.1 Ideas and Hypotheses\n",
        "* Answer"
      ]
    },
    {
      "cell_type": "markdown",
      "metadata": {
        "id": "A0hyA7nIg6gW",
        "colab_type": "text"
      },
      "source": [
        "#### 3.4.4.2 Assumptions\n",
        "* Assumption"
      ]
    },
    {
      "cell_type": "markdown",
      "metadata": {
        "id": "9KKbINTugR-n",
        "colab_type": "text"
      },
      "source": [
        "## 3.5 Overall list of ideas/hypotheses/assumptions"
      ]
    },
    {
      "cell_type": "markdown",
      "metadata": {
        "id": "3wJ9gI1ggZlL",
        "colab_type": "text"
      },
      "source": [
        "### 3.5.1 Ideas / Hypotheses"
      ]
    },
    {
      "cell_type": "markdown",
      "metadata": {
        "id": "b8jD5iNGgeJZ",
        "colab_type": "text"
      },
      "source": [
        "* Idea 1\n",
        "* Idea 2"
      ]
    },
    {
      "cell_type": "markdown",
      "metadata": {
        "id": "7Yg8_16Dgink",
        "colab_type": "text"
      },
      "source": [
        "### 3.5.2 Assumptions "
      ]
    },
    {
      "cell_type": "markdown",
      "metadata": {
        "id": "GW7l100wgmBG",
        "colab_type": "text"
      },
      "source": [
        "* Assumption 1 \n",
        "* Assumption 2"
      ]
    }
  ]
}