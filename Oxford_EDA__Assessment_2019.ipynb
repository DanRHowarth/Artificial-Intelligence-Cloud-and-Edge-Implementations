{
  "nbformat": 4,
  "nbformat_minor": 0,
  "metadata": {
    "colab": {
      "name": "Oxford_EDA_ Assessment_2019.ipynb",
      "provenance": [],
      "collapsed_sections": [
        "15exNg6e7X4I",
        "nBIH3Jro_GCA",
        "dflIvrnjBGIk"
      ],
      "include_colab_link": true
    },
    "kernelspec": {
      "name": "python3",
      "display_name": "Python 3"
    }
  },
  "cells": [
    {
      "cell_type": "markdown",
      "metadata": {
        "id": "view-in-github",
        "colab_type": "text"
      },
      "source": [
        "<a href=\"https://colab.research.google.com/github/DanRHowarth/Artificial-Intelligence-Cloud-and-Edge-Implementations/blob/master/Oxford_EDA__Assessment_2019.ipynb\" target=\"_parent\"><img src=\"https://colab.research.google.com/assets/colab-badge.svg\" alt=\"Open In Colab\"/></a>"
      ]
    },
    {
      "cell_type": "markdown",
      "metadata": {
        "id": "15exNg6e7X4I",
        "colab_type": "text"
      },
      "source": [
        "# Exploratory Data Analysis - Assessment"
      ]
    },
    {
      "cell_type": "markdown",
      "metadata": {
        "id": "egw-5VlFepCw",
        "colab_type": "text"
      },
      "source": [
        "## 1. Introduction to Notebook\n",
        "\n"
      ]
    },
    {
      "cell_type": "markdown",
      "metadata": {
        "id": "BtAil3doWk0Q",
        "colab_type": "text"
      },
      "source": [
        "* This notebook will cover EDA and associated techniques\n",
        "* We will place EDA within context of the ML workflow and bring out the key parts of EDA you should be able to do\n",
        "* We will work through key EDA techniques \n",
        "* Structure for each of the 5 areas of assessments:\n",
        "  * Links to readings and/or practice and test of your comprehension\n",
        "  * Implementation of code\n",
        "  * Ideas for follow-on work"
      ]
    },
    {
      "cell_type": "markdown",
      "metadata": {
        "id": "nBIH3Jro_GCA",
        "colab_type": "text"
      },
      "source": [
        "## 2. What is EDA?"
      ]
    },
    {
      "cell_type": "markdown",
      "metadata": {
        "id": "2Ko2zcW_9nHc",
        "colab_type": "text"
      },
      "source": [
        "### 2.1 Overview of EDA\n",
        "* Covered in chart in class\n",
        "* But here are some readings...\n",
        "\n"
      ]
    },
    {
      "cell_type": "markdown",
      "metadata": {
        "id": "DD17JxUlJPzG",
        "colab_type": "text"
      },
      "source": [
        "### 2.2 Assessment 1\n",
        "\n",
        "* 1. Based on the readings, and any other ones that you have researched, define in your own words what EDA is. What does it include, what doesn't it include? What skills are required? What is the balance between technical and non-technical skills?\n",
        "* What are the non-technical outputs and why are these important?\n",
        "* If you have identified other readings, then put them here.\n",
        "* 2. Without looking at the data, or below, come up with a list of questions that you could ask of the data, or stakeholders (within a business context) about the data."
      ]
    },
    {
      "cell_type": "markdown",
      "metadata": {
        "id": "o13R1Zobbkni",
        "colab_type": "text"
      },
      "source": [
        "### 2.3 Answers\n",
        "\n",
        "* 1. Answer here.\n",
        "* 2. Answer here."
      ]
    },
    {
      "cell_type": "markdown",
      "metadata": {
        "id": "qb0_zn1FcHRr",
        "colab_type": "text"
      },
      "source": [
        "### 2.4 Further Readings and Challenges\n",
        "\n",
        "* Put some suggested items here.\n",
        "* Data Dictionarty Reading"
      ]
    },
    {
      "cell_type": "markdown",
      "metadata": {
        "id": "3Y7ZXCjHchVd",
        "colab_type": "text"
      },
      "source": [
        "### 2.5 EDA - summarised\n",
        "\n",
        "* Include chart"
      ]
    },
    {
      "cell_type": "markdown",
      "metadata": {
        "id": "U58ST5-I-_EO",
        "colab_type": "text"
      },
      "source": [
        "### 2.7 Suggested Workflow\n",
        "\n",
        "* Suggested workflow *for each section / bit of analysis*: \n",
        "  * **Investigate it / Plot it / Report it**\n",
        "* Or more fully: \n",
        "  * Implement in code\n",
        "  * Plot the result - for pretty much everything \n",
        "  * Think about what it says, a) as a stand alone result, b) in relation to the rest of the dataset, c) in relation to the rest of the data for the problem, d) based on what we know about the problem (context), e) what is missing / what it doesn't say\n",
        "  * Record any assumptions that you have made about the data \n",
        "  * Generate ideas about what the data tells us, or could tell us in combination with other data\n",
        "\n"
      ]
    },
    {
      "cell_type": "markdown",
      "metadata": {
        "id": "dflIvrnjBGIk",
        "colab_type": "text"
      },
      "source": [
        "## 3. Initial Data Analysis "
      ]
    },
    {
      "cell_type": "code",
      "metadata": {
        "id": "VOiOiGQveCxS",
        "colab_type": "code",
        "colab": {}
      },
      "source": [
        "# import libraries \n"
      ],
      "execution_count": 0,
      "outputs": []
    },
    {
      "cell_type": "code",
      "metadata": {
        "id": "yFP3cQMTd4Jq",
        "colab_type": "code",
        "colab": {}
      },
      "source": [
        "# load our data \n"
      ],
      "execution_count": 0,
      "outputs": []
    },
    {
      "cell_type": "markdown",
      "metadata": {
        "id": "312331nNBMIf",
        "colab_type": "text"
      },
      "source": [
        "### 3.1 Assessment 2\n",
        "\n",
        "* Conduct IDA on data "
      ]
    },
    {
      "cell_type": "code",
      "metadata": {
        "id": "5Wx-DXKL65gC",
        "colab_type": "code",
        "colab": {}
      },
      "source": [
        "# data size and shape\n"
      ],
      "execution_count": 0,
      "outputs": []
    },
    {
      "cell_type": "code",
      "metadata": {
        "id": "eU4F7po9FzqC",
        "colab_type": "code",
        "colab": {}
      },
      "source": [
        "# column names \n"
      ],
      "execution_count": 0,
      "outputs": []
    },
    {
      "cell_type": "code",
      "metadata": {
        "id": "omnSBe9cZKLq",
        "colab_type": "code",
        "colab": {}
      },
      "source": [
        "# time period of data\n"
      ],
      "execution_count": 0,
      "outputs": []
    },
    {
      "cell_type": "code",
      "metadata": {
        "id": "4-Y5Bs7XCpc1",
        "colab_type": "code",
        "colab": {}
      },
      "source": [
        "# data types (computational)\n"
      ],
      "execution_count": 0,
      "outputs": []
    },
    {
      "cell_type": "code",
      "metadata": {
        "id": "v79rbAdLC0y3",
        "colab_type": "code",
        "colab": {}
      },
      "source": [
        "# Check for missing values \n"
      ],
      "execution_count": 0,
      "outputs": []
    },
    {
      "cell_type": "code",
      "metadata": {
        "id": "oWfWiBW2Ct5p",
        "colab_type": "code",
        "colab": {}
      },
      "source": [
        "# take a look at the data \n",
        "df.head()\n",
        "df.tail()\n",
        "df.describe()"
      ],
      "execution_count": 0,
      "outputs": []
    },
    {
      "cell_type": "markdown",
      "metadata": {
        "id": "m2EcbktmC87G",
        "colab_type": "text"
      },
      "source": [
        "### 3.2 What does this tell us?\n",
        "* What is the volume of data? \n",
        "* What does missing values / no missing values mean?\n",
        "* Is this the time period we were expecting? \n",
        "* What are the different features?\n",
        "* What else would you want to know?\n",
        "* Do we need to do anything to the data? \n",
        "\n",
        "### What else do we want to know?\n",
        "* Where did the data come from?\n",
        "* Is it a sample or the whole lot?\n",
        "* What do we judge about its quality?\n",
        "* Has it been treated? \n",
        "* Do we have feaure descriptors? \n",
        "* To all the above -> are we taking steps to address them?\n",
        "* What assumptions have we made about the data?\n",
        "* What ideas and hypotheses have we generated about the data? What does the IDA give us in terms of ideas? \n"
      ]
    },
    {
      "cell_type": "markdown",
      "metadata": {
        "id": "U9eydcQsDJ6f",
        "colab_type": "text"
      },
      "source": [
        "## 4. Exploratory Data Analysis "
      ]
    },
    {
      "cell_type": "markdown",
      "metadata": {
        "id": "OJ0e_jo0fm3A",
        "colab_type": "text"
      },
      "source": [
        "### 4.1 Assessment 3 \n",
        "* Conduct EDA\n",
        "  * Properties \n",
        "  * Preprocessing\n",
        "  * Understanding \n",
        "    * Univariate - understand individual variables \n",
        "    * Bivariate - understand variables in relationship to another variable\n",
        "    * Multivariate - ....\n",
        "* Looking to implement, code, describe and generate ideas about it"
      ]
    },
    {
      "cell_type": "markdown",
      "metadata": {
        "id": "tFrTTeBNhL_q",
        "colab_type": "text"
      },
      "source": [
        "#### Properties"
      ]
    },
    {
      "cell_type": "code",
      "metadata": {
        "id": "YBwSrhHqEJyV",
        "colab_type": "code",
        "colab": {}
      },
      "source": [
        "# continuous, discrete, categorical, binary, ordinal \n"
      ],
      "execution_count": 0,
      "outputs": []
    },
    {
      "cell_type": "code",
      "metadata": {
        "id": "gi6NQi1sFtaT",
        "colab_type": "code",
        "colab": {}
      },
      "source": [
        "# unique values - number, examples \n"
      ],
      "execution_count": 0,
      "outputs": []
    },
    {
      "cell_type": "code",
      "metadata": {
        "id": "MP3_VPa5FwVA",
        "colab_type": "code",
        "colab": {}
      },
      "source": [
        "# duplicate entries \n"
      ],
      "execution_count": 0,
      "outputs": []
    },
    {
      "cell_type": "code",
      "metadata": {
        "id": "_htpVR4kGJyk",
        "colab_type": "code",
        "colab": {}
      },
      "source": [
        "# class imbalances (if relevant)\n"
      ],
      "execution_count": 0,
      "outputs": []
    },
    {
      "cell_type": "code",
      "metadata": {
        "id": "m_C6h3jHcerC",
        "colab_type": "code",
        "colab": {}
      },
      "source": [
        "# plots include bar, histogram \n"
      ],
      "execution_count": 0,
      "outputs": []
    },
    {
      "cell_type": "markdown",
      "metadata": {
        "id": "t4wcv966aLTR",
        "colab_type": "text"
      },
      "source": [
        "#### Preprocessing \n"
      ]
    },
    {
      "cell_type": "code",
      "metadata": {
        "id": "i6TmULdMaQqv",
        "colab_type": "code",
        "colab": {}
      },
      "source": [
        "# normalize, standardize the data if required \n"
      ],
      "execution_count": 0,
      "outputs": []
    },
    {
      "cell_type": "code",
      "metadata": {
        "id": "7smgRwcQbX0b",
        "colab_type": "code",
        "colab": {}
      },
      "source": [
        "# deal with missing values appropriately \n"
      ],
      "execution_count": 0,
      "outputs": []
    },
    {
      "cell_type": "markdown",
      "metadata": {
        "id": "ah1JDpO0bxuL",
        "colab_type": "text"
      },
      "source": [
        "#### Understanding \n"
      ]
    },
    {
      "cell_type": "markdown",
      "metadata": {
        "id": "yInxCDpdb25O",
        "colab_type": "text"
      },
      "source": [
        "##### Based on individual variables \n"
      ]
    },
    {
      "cell_type": "code",
      "metadata": {
        "id": "aAL9qMeKrUVp",
        "colab_type": "code",
        "colab": {}
      },
      "source": [
        "# plot of data - e.g. line plot"
      ],
      "execution_count": 0,
      "outputs": []
    },
    {
      "cell_type": "code",
      "metadata": {
        "id": "uILDOCEvcBlN",
        "colab_type": "code",
        "colab": {}
      },
      "source": [
        "# centrality - mean, median, etc. \n"
      ],
      "execution_count": 0,
      "outputs": []
    },
    {
      "cell_type": "code",
      "metadata": {
        "id": "f5M-DiBFcFdn",
        "colab_type": "code",
        "colab": {}
      },
      "source": [
        "# distributions and spread of data (standard deviation, interquartile range, outliers, range, percentile, skewness/kurtosis)\n",
        "# plots - boxplots, distributions, frequency table, density estimate, violin plot    \n"
      ],
      "execution_count": 0,
      "outputs": []
    },
    {
      "cell_type": "code",
      "metadata": {
        "id": "nndhw0hpc4X4",
        "colab_type": "code",
        "colab": {}
      },
      "source": [
        "# averages - yearly, monthly, rolling, \n"
      ],
      "execution_count": 0,
      "outputs": []
    },
    {
      "cell_type": "markdown",
      "metadata": {
        "id": "S51aVysxcqjt",
        "colab_type": "text"
      },
      "source": [
        "##### Ideas and Hypotheses \n",
        "* What sort of distribution?\n",
        "* Outliers? \n",
        "* How do the variables change over time? What could this mean? Do we think this change relates to change in other variables? In some sort of measurable way?\n",
        "* "
      ]
    },
    {
      "cell_type": "markdown",
      "metadata": {
        "id": "e1QEJ-6PeFCH",
        "colab_type": "text"
      },
      "source": [
        "##### Based on relationships between variables "
      ]
    },
    {
      "cell_type": "code",
      "metadata": {
        "id": "P3jn5uNcdNeC",
        "colab_type": "code",
        "colab": {}
      },
      "source": [
        "# correlation, covariance  \n",
        "# plots - scatter, pairplots, heatmaps (hopefully we have seaborn!)\n"
      ],
      "execution_count": 0,
      "outputs": []
    },
    {
      "cell_type": "code",
      "metadata": {
        "id": "kGyHuyw_fjOu",
        "colab_type": "code",
        "colab": {}
      },
      "source": [
        "\n"
      ],
      "execution_count": 0,
      "outputs": []
    },
    {
      "cell_type": "markdown",
      "metadata": {
        "id": "mITT4Do9eV86",
        "colab_type": "text"
      },
      "source": [
        "##### Ideas and Hypotheses\n",
        "* Is there a correlation between different data types -> what could explain this?\n",
        "* How does the correlation change over time?"
      ]
    },
    {
      "cell_type": "markdown",
      "metadata": {
        "id": "Wa-V-wmoEM7I",
        "colab_type": "text"
      },
      "source": [
        "### 4.2 What have we learnt?\n",
        "**Exploratory Data Analysis**\n",
        "* Are there duplicates in the data?\n",
        "* What is the time period? \n",
        "* What does the data tell us? How does it tell us that? How well does it tell us that?\n",
        "* How variable is the data?\n",
        "* Are there any outliers, how do we treat them? \n",
        "* Does a long term summary provide some insight: a trend, a direction that we can capture? \n",
        "* How does a short term sample [of some length] compare to the overall data? (Same property types? Does a random sample vary from the broader population? \n",
        "\n",
        "**Assumptions**\n",
        "* What we believe about the data\n",
        "* What it is\n",
        "* Where it has been generated from \n",
        "* How it has been treated, if at all, prior to this stage\n",
        "\n",
        "**Hypotheses and Ideas**\n",
        "* What are they?"
      ]
    }
  ]
}